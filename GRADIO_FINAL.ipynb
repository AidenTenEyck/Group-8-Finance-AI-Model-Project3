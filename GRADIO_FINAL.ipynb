{
 "cells": [
  {
   "cell_type": "code",
   "execution_count": 1,
   "metadata": {
    "id": "ixTaFu_DkvZ4"
   },
   "outputs": [],
   "source": [
    "# Import pandas\n",
    "import pandas as pd\n",
    "# Import the required dependencies from sklearn\n",
    "from sklearn.model_selection import train_test_split\n",
    "from sklearn.pipeline import Pipeline\n",
    "from sklearn.feature_extraction.text import TfidfVectorizer\n",
    "from sklearn.svm import LinearSVC\n",
    "import nltk\n",
    "from nltk.sentiment.vader import SentimentIntensityAnalyzer\n",
    "import gradio as gr\n",
    "import pandas as pd\n",
    "from finvizfinance.quote import finvizfinance"
   ]
  },
  {
   "cell_type": "code",
   "execution_count": 2,
   "metadata": {},
   "outputs": [
    {
     "name": "stderr",
     "output_type": "stream",
     "text": [
      "[nltk_data] Downloading package vader_lexicon to\n",
      "[nltk_data]     C:\\Users\\dclar\\AppData\\Roaming\\nltk_data...\n",
      "[nltk_data]   Package vader_lexicon is already up-to-date!\n"
     ]
    }
   ],
   "source": [
    "import nltk\n",
    "from nltk.sentiment.vader import SentimentIntensityAnalyzer\n",
    "import gradio as gr\n",
    "import pandas as pd\n",
    "\n",
    "\n",
    "# Download VADER lexicon for sentiment analysis\n",
    "nltk.download('vader_lexicon')\n",
    "sid = SentimentIntensityAnalyzer()\n",
    "\n",
    "# Define a function to calculate sentiment\n",
    "def extract_score(text):\n",
    "    score = sid.polarity_scores(text)\n",
    "    compound = score['compound']\n",
    "    sentiment = 'neutral'\n",
    "    if compound >= 0.05:\n",
    "        sentiment = \"positive\"\n",
    "    elif compound <= -0.05:\n",
    "        sentiment = \"negative\"\n",
    "    return sentiment\n",
    "\n",
    "# Function to process the stock ticker and generate synopsis\n",
    "def process_ticker(ticker):\n",
    "    ticker = ticker.upper()\n",
    "    stock = finvizfinance(ticker)\n",
    "    news_df = stock.ticker_news()\n",
    "\n",
    "    # Add predicted sentiment column\n",
    "    news_df[\"Predicted Sentiment\"] = news_df[\"Title\"].apply(extract_score)\n",
    "    \n",
    "    # Generate a synopsis summary of sentiment\n",
    "    sentiment_counts = news_df[\"Predicted Sentiment\"].value_counts()\n",
    "    synopsis = sentiment_counts.to_string()  \n",
    "    \n",
    "    return news_df[[\"Title\", \"Predicted Sentiment\"]], synopsis  "
   ]
  },
  {
   "cell_type": "code",
   "execution_count": 4,
   "metadata": {},
   "outputs": [
    {
     "name": "stdout",
     "output_type": "stream",
     "text": [
      "* Running on local URL:  http://127.0.0.1:7862\n",
      "\n",
      "To create a public link, set `share=True` in `launch()`.\n"
     ]
    },
    {
     "data": {
      "text/html": [
       "<div><iframe src=\"http://127.0.0.1:7862/\" width=\"100%\" height=\"500\" allow=\"autoplay; camera; microphone; clipboard-read; clipboard-write;\" frameborder=\"0\" allowfullscreen></iframe></div>"
      ],
      "text/plain": [
       "<IPython.core.display.HTML object>"
      ]
     },
     "metadata": {},
     "output_type": "display_data"
    },
    {
     "data": {
      "text/plain": []
     },
     "execution_count": 4,
     "metadata": {},
     "output_type": "execute_result"
    }
   ],
   "source": [
    "# Function to clear all outputs\n",
    "def clear_data():\n",
    "    # Return empty inputs and an empty DataFrame with correct headers\n",
    "     return \"\", pd.DataFrame(columns=[\"Headline\", \"Predicted Sentiment\"]), \"\"\n",
    "\n",
    "# Gradio Interface\n",
    "with gr.Blocks(theme=gr.themes.Glass(primary_hue=\"blue\")) as app:\n",
    "    gr.Markdown(\"# 📈 Headline News Sentiment Analyzer\")\n",
    "    gr.Markdown(\n",
    "        \"\"\"\n",
    "        Analyze the sentiment of recent news headlines for a given stock ticker.\n",
    "        Just enter a valid ticker symbol (e.g., `AAPL`, `GOOGL`, `TSLA`) to see the predicted sentiment of recent news articles.\n",
    "        \"\"\"\n",
    "    )\n",
    "    with gr.Row():\n",
    "        ticker_input = gr.Textbox(\n",
    "            label=\"**Enter Stock Ticker**\",  # Bold label for clarity\n",
    "            placeholder=\"e.g., AAPL\",\n",
    "            lines=1,\n",
    "        )\n",
    "    \n",
    "    with gr.Row():\n",
    "        analyze_button = gr.Button(\"Analyze Sentiment\")\n",
    "        clear_button = gr.Button(\"Clear\")\n",
    "\n",
    "    sentiment_table = gr.DataFrame(\n",
    "        headers=[\"Headline\", \"Predicted Sentiment\"],\n",
    "        label=\"News Sentiment Analysis Results\",\n",
    "        datatype=[\"str\", \"str\"],\n",
    "        wrap=True,  # Enable text wrapping for columns\n",
    "    )\n",
    "    synopsis_box = gr.Textbox(\n",
    "        label=\"Sentiment Synopsis\",\n",
    "        placeholder=\"Summary of sentiment counts will appear here.\",\n",
    "        lines=3,\n",
    "        interactive=False,  # Read-only\n",
    "    )\n",
    "\n",
    "    # Button actions\n",
    "    analyze_button.click(\n",
    "        process_ticker, \n",
    "        inputs=[ticker_input], \n",
    "        outputs=[sentiment_table, synopsis_box]\n",
    "    )\n",
    "    clear_button.click(\n",
    "        clear_data, \n",
    "        inputs=[], \n",
    "        outputs=[ticker_input, sentiment_table, synopsis_box]\n",
    "    )\n",
    "\n",
    "# Custom CSS for layout and styling\n",
    "app.css = \"\"\"\n",
    "/* Add a thick black border around the entire Gradio form */\n",
    ".gradio-container {\n",
    "    border: 4px solid black !important;\n",
    "    padding: 20px;\n",
    "    margin: 0 auto;\n",
    "    max-width: 800px;  /* Center and limit the form width */\n",
    "}\n",
    "\n",
    "/* Adjust font size and weight for the textbox label */\n",
    ".gr-textbox .gr-label {\n",
    "    font-size: 18px !important;\n",
    "    font-weight: bold !important;\n",
    "    color: #000 !important;\n",
    "}\n",
    "\n",
    "/* Adjust the column widths in the DataFrame */\n",
    ".gr-dataframe {\n",
    "    margin: 0 auto; /* Center the DataFrame */\n",
    "    width: 80%; /* Set the width of the DataFrame */\n",
    "}\n",
    "\n",
    ".gr-dataframe th:nth-child(1), /* Headline column */\n",
    ".gr-dataframe td:nth-child(1) {\n",
    "    max-width: 450px; /* Wider width for Headline */\n",
    "    white-space: normal !important; /* Enable text wrapping */\n",
    "}\n",
    "\n",
    ".gr-dataframe th:nth-child(2), /* Predicted Sentiment column */\n",
    ".gr-dataframe td:nth-child(2) {\n",
    "    max-width: 150px; /* Narrower width for Predicted Sentiment */\n",
    "    text-align: center;\n",
    "}\n",
    "\n",
    "/* Style for the synopsis box */\n",
    ".gr-textbox {\n",
    "    width: 3in; /* Set width to 4 inches */\n",
    "    margin: 20px auto; /* Center align */\n",
    "    border: 1px solid black; /* Thinner black border around synopsis */\n",
    "    padding: 10px; /* Add padding for better readability */\n",
    "    background-color: #f9f9f9; /* Light gray background */\n",
    "}\n",
    "\"\"\"\n",
    "\n",
    "# Launch the app\n",
    "app.launch()"
   ]
  },
  {
   "cell_type": "code",
   "execution_count": null,
   "metadata": {},
   "outputs": [],
   "source": []
  }
 ],
 "metadata": {
  "colab": {
   "provenance": []
  },
  "kernelspec": {
   "display_name": "Python 3 (ipykernel)",
   "language": "python",
   "name": "python3"
  },
  "language_info": {
   "codemirror_mode": {
    "name": "ipython",
    "version": 3
   },
   "file_extension": ".py",
   "mimetype": "text/x-python",
   "name": "python",
   "nbconvert_exporter": "python",
   "pygments_lexer": "ipython3",
   "version": "3.12.4"
  }
 },
 "nbformat": 4,
 "nbformat_minor": 4
}
