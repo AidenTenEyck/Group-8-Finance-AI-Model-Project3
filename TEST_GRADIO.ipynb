{
 "cells": [
  {
   "cell_type": "code",
   "execution_count": 1,
   "metadata": {
    "id": "ixTaFu_DkvZ4"
   },
   "outputs": [],
   "source": [
    "# Import pandas\n",
    "import pandas as pd\n",
    "# Import the required dependencies from sklearn\n",
    "from sklearn.model_selection import train_test_split\n",
    "from sklearn.pipeline import Pipeline\n",
    "from sklearn.feature_extraction.text import TfidfVectorizer\n",
    "from sklearn.svm import LinearSVC\n",
    "import nltk\n",
    "from nltk.sentiment.vader import SentimentIntensityAnalyzer\n",
    "import gradio as gr\n",
    "import pandas as pd\n",
    "from finvizfinance.quote import finvizfinance"
   ]
  },
  {
   "cell_type": "code",
   "execution_count": 2,
   "metadata": {},
   "outputs": [
    {
     "name": "stderr",
     "output_type": "stream",
     "text": [
      "[nltk_data] Downloading package vader_lexicon to\n",
      "[nltk_data]     C:\\Users\\dclar\\AppData\\Roaming\\nltk_data...\n",
      "[nltk_data]   Package vader_lexicon is already up-to-date!\n"
     ]
    },
    {
     "name": "stdout",
     "output_type": "stream",
     "text": [
      "* Running on local URL:  http://127.0.0.1:7860\n",
      "\n",
      "To create a public link, set `share=True` in `launch()`.\n"
     ]
    },
    {
     "data": {
      "text/html": [
       "<div><iframe src=\"http://127.0.0.1:7860/\" width=\"100%\" height=\"500\" allow=\"autoplay; camera; microphone; clipboard-read; clipboard-write;\" frameborder=\"0\" allowfullscreen></iframe></div>"
      ],
      "text/plain": [
       "<IPython.core.display.HTML object>"
      ]
     },
     "metadata": {},
     "output_type": "display_data"
    },
    {
     "data": {
      "text/plain": []
     },
     "execution_count": 2,
     "metadata": {},
     "output_type": "execute_result"
    }
   ],
   "source": [
    "import nltk\n",
    "from nltk.sentiment.vader import SentimentIntensityAnalyzer\n",
    "import gradio as gr\n",
    "import pandas as pd\n",
    "from datetime import datetime\n",
    "\n",
    "# Download VADER lexicon for sentiment analysis\n",
    "nltk.download('vader_lexicon')\n",
    "sid = SentimentIntensityAnalyzer()\n",
    "\n",
    "# Define a function to calculate sentiment\n",
    "def extract_score(text):\n",
    "    score = sid.polarity_scores(text)\n",
    "    compound = score['compound']\n",
    "    sentiment = 'neutral'\n",
    "    if compound >= 0.05:\n",
    "        sentiment = \"positive\"\n",
    "    elif compound <= -0.05:\n",
    "        sentiment = \"negative\"\n",
    "    return sentiment\n",
    "\n",
    "# Mock data for demonstration\n",
    "def process_ticker(ticker):\n",
    "    # Simulated data for testing purposes\n",
    "    data = {\n",
    "        \"Date\": [datetime.now().strftime(\"%Y-%m-%d\") for _ in range(5)],\n",
    "        \"Title\": [\n",
    "            f\"{ticker} stock surges after strong earnings report\",\n",
    "            f\"{ticker} faces regulatory challenges\",\n",
    "            f\"{ticker} announces new product launch\",\n",
    "            f\"{ticker} sees decline in market share\",\n",
    "            f\"{ticker} continues to grow steadily\",\n",
    "        ]\n",
    "    }\n",
    "    news_df = pd.DataFrame(data)\n",
    "    news_df[\"Predicted Sentiment\"] = news_df[\"Title\"].apply(extract_score)\n",
    "    return news_df\n",
    "\n",
    "# Set Pandas display options\n",
    "pd.set_option('display.max_colwidth', None)\n",
    "\n",
    "# Gradio Interface\n",
    "with gr.Blocks() as app:\n",
    "    gr.Markdown(\"# 📈 Headline News Sentiment Analyzer\")\n",
    "    gr.Markdown(\n",
    "        \"\"\"\n",
    "        Analyze the sentiment of recent news headlines for a given stock ticker.\n",
    "        Just enter a valid ticker symbol (e.g., `AAPL`, `GOOGL`, `TSLA`) to see the predicted sentiment of recent news articles.\n",
    "        \"\"\"\n",
    "    )\n",
    "    with gr.Row():\n",
    "        ticker_input = gr.Textbox(\n",
    "            label=\"Enter Stock Ticker\", \n",
    "            placeholder=\"e.g., AAPL\", \n",
    "            lines=1\n",
    "        )\n",
    "    \n",
    "    with gr.Row():\n",
    "        analyze_button = gr.Button(\"Analyze Sentiment\", elem_classes=\"blue-button\")\n",
    "        clear_button = gr.Button(\"Clear\", elem_classes=\"white-button\")\n",
    "\n",
    "    sentiment_table = gr.DataFrame(\n",
    "        headers=[\"Date\", \"Title\", \"Predicted Sentiment\"],\n",
    "        label=\"News Sentiment Analysis Results\",\n",
    "        datatype=[\"date\", \"str\", \"str\"],\n",
    "    )\n",
    "\n",
    "    # Connect input, output, and function\n",
    "    analyze_button.click(process_ticker, inputs=[ticker_input], outputs=[sentiment_table])\n",
    "    clear_button.click(lambda: \"\", inputs=[], outputs=[ticker_input])\n",
    "\n",
    "# Add custom styles\n",
    "app.css = \"\"\"\n",
    ".blue-button {\n",
    "    background-color: lightblue;\n",
    "    color: black;\n",
    "    border-radius: 5px;\n",
    "    padding: 10px 15px;\n",
    "    font-weight: bold;\n",
    "    border: none;\n",
    "    cursor: pointer;\n",
    "}\n",
    "\n",
    ".white-button {\n",
    "    background-color: white;\n",
    "    color: black;\n",
    "    border-radius: 5px;\n",
    "    padding: 10px 15px;\n",
    "    font-weight: bold;\n",
    "    border: 1px solid #ccc;\n",
    "    cursor: pointer;\n",
    "}\n",
    "\n",
    ".gr-label {\n",
    "    font-size: 18px !important;\n",
    "    font-weight: bold !important;\n",
    "}\n",
    "\"\"\"\n",
    "\n",
    "# Launch the app\n",
    "app.launch()\n"
   ]
  }
 ],
 "metadata": {
  "colab": {
   "provenance": []
  },
  "kernelspec": {
   "display_name": "Python 3 (ipykernel)",
   "language": "python",
   "name": "python3"
  },
  "language_info": {
   "codemirror_mode": {
    "name": "ipython",
    "version": 3
   },
   "file_extension": ".py",
   "mimetype": "text/x-python",
   "name": "python",
   "nbconvert_exporter": "python",
   "pygments_lexer": "ipython3",
   "version": "3.12.4"
  }
 },
 "nbformat": 4,
 "nbformat_minor": 4
}
