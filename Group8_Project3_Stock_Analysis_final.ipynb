{
 "cells": [
  {
   "cell_type": "markdown",
   "id": "f20022f1",
   "metadata": {},
   "source": [
    "# GROUP 8, Project 3\n",
    "\n",
    "### STOCK ANALYSIS AND PREDICTIONS\n",
    "\n",
    "### 1. Use Generative AI to evaluate sentiment for a stock (LLM, LangChain Agents/Tools)\n",
    "### 2. Train and use a LSTM RNN model to predict a stock price\n",
    "### 3. Use VADER to get a sentiment on news headlines\n"
   ]
  },
  {
   "cell_type": "code",
   "execution_count": 1,
   "id": "370567d4",
   "metadata": {},
   "outputs": [],
   "source": [
    "\"\"\"\n",
    "Load the keys\n",
    "\n",
    "\"\"\"\n",
    "import os\n",
    "from dotenv import load_dotenv\n",
    "\n",
    "# Load environment variables.\n",
    "load_dotenv()\n",
    "\n",
    "\"\"\"\n",
    "For reference:\n",
    "set in .env file in same dir as code\n",
    "key=value with no quotes\n",
    ". ./.env\n",
    "\"\"\"\n",
    "\n",
    "# Set the model name for our LLMs.\n",
    "GEMINI_MODEL = \"gemini-1.5-flash\"\n",
    "\n",
    "\n",
    "# Get the keys from the environment; changed code to push to Github\n",
    "GEMINI_API_KEY = \"\"\n",
    "ALPHAVANTAGE_API_KEY = \"\"\n",
    "SERPAPI_API_KEY = \"\"\n",
    "OPENAI_API_KEY = \"\"\n",
    "SEARCHAPI_API_KEY = \"\"\n",
    "TAVILY_API_KEY= \"\""
   ]
  },
  {
   "cell_type": "markdown",
   "id": "ed0b40de",
   "metadata": {},
   "source": [
    "## Section 1: Use Chat Generative API and conversational agents/tools to like into financial instruments"
   ]
  },
  {
   "cell_type": "code",
   "execution_count": 2,
   "id": "246a128b",
   "metadata": {},
   "outputs": [
    {
     "name": "stderr",
     "output_type": "stream",
     "text": [
      "USER_AGENT environment variable not set, consider setting it to identify your requests.\n",
      "/Users/srilathasathya/anaconda3/lib/python3.11/site-packages/pandas/core/arrays/masked.py:60: UserWarning: Pandas requires version '1.3.6' or newer of 'bottleneck' (version '1.3.5' currently installed).\n",
      "  from pandas.core import (\n"
     ]
    }
   ],
   "source": [
    "\"\"\"\n",
    "Import libraries\n",
    "\"\"\"\n",
    "\n",
    "from langchain_google_genai import ChatGoogleGenerativeAI\n",
    "from langchain.tools import tool, BaseTool\n",
    "from langchain.agents import AgentType, initialize_agent, Tool, load_tools\n",
    "from langchain.memory import ConversationBufferWindowMemory\n",
    "from langchain_community.utilities.alpha_vantage import AlphaVantageAPIWrapper\n",
    "from langchain.tools import Tool\n",
    "from langchain_community.tools.google_finance import GoogleFinanceQueryRun\n",
    "from langchain_community.utilities.google_finance import GoogleFinanceAPIWrapper\n",
    "from langchain_community.tools.yahoo_finance_news import YahooFinanceNewsTool\n",
    "\n",
    "\n",
    "import yfinance as yf\n",
    "\n",
    "llm = ChatGoogleGenerativeAI(google_api_key=GEMINI_API_KEY, model=GEMINI_MODEL, temperature=0.3)\n",
    "\n"
   ]
  },
  {
   "cell_type": "code",
   "execution_count": 3,
   "id": "bcbef4ac",
   "metadata": {},
   "outputs": [],
   "source": [
    "\"\"\"\n",
    "Define function for My Yahoo News Tool\n",
    "\"\"\"\n",
    "def my_yahoo_news(input=\"\"):\n",
    "        stock = yf.Ticker(input.upper())\n",
    "        news = stock.news\n",
    "        return news\n"
   ]
  },
  {
   "cell_type": "code",
   "execution_count": 4,
   "id": "27f2b546",
   "metadata": {},
   "outputs": [],
   "source": [
    "\"\"\"\n",
    "Define My Yahoo News Tool\n",
    "\"\"\"\n",
    "\n",
    "my_yahoo_news_tool = Tool(\n",
    "    name=\"My Yahoo News Tool\",\n",
    "    func=lambda query: my_yahoo_news(input=query),\n",
    "    description=\"Use this function to get news of a stock or crypto currency. Remove the dollar prefix sign before you get the price\"\n",
    ")\n"
   ]
  },
  {
   "cell_type": "code",
   "execution_count": 5,
   "id": "dabfec0f",
   "metadata": {},
   "outputs": [
    {
     "name": "stderr",
     "output_type": "stream",
     "text": [
      "/var/folders/8s/gb2wyk0x7sx4b5tvrfblj1h80000gn/T/ipykernel_51674/3567143149.py:5: LangChainDeprecationWarning: Please see the migration guide at: https://python.langchain.com/docs/versions/migrating_memory/\n",
      "  memory = ConversationBufferWindowMemory(\n"
     ]
    }
   ],
   "source": [
    "\"\"\"\n",
    "Get a conversational Buffer going\n",
    "\"\"\"\n",
    "\n",
    "memory = ConversationBufferWindowMemory(\n",
    "    memory_key='chat_history',\n",
    "    k=6,\n",
    "    return_messages=True\n",
    ")"
   ]
  },
  {
   "cell_type": "code",
   "execution_count": 6,
   "id": "d5880b56",
   "metadata": {},
   "outputs": [],
   "source": [
    "\"\"\"\n",
    "Define function for Alpha Vantage Tool\n",
    "\"\"\"\n",
    "\n",
    "# Custom tool for Alpha Vantage News Sentiment\n",
    "def create_alpha_vantage_tool(alphavantage_api_key=ALPHAVANTAGE_API_KEY):\n",
    "    av = AlphaVantageAPIWrapper(alphavantage_api_key=ALPHAVANTAGE_API_KEY)\n",
    "    return Tool(\n",
    "        name=\"AlphaVantage Stock Data\",\n",
    "        func=lambda query: av._get_market_news_sentiment(symbol=query),\n",
    "        description=\"News Sentiment for Symbol.\"\n",
    "    )\n",
    "\n",
    "# Example usage\n",
    "\n",
    "\"\"\"\n",
    "Define Alpha Vantage Tool\n",
    "\"\"\"\n",
    "\n",
    "alpha_tool = create_alpha_vantage_tool(ALPHAVANTAGE_API_KEY)"
   ]
  },
  {
   "cell_type": "code",
   "execution_count": 7,
   "id": "24190848",
   "metadata": {},
   "outputs": [],
   "source": [
    "\n",
    "\"\"\"\n",
    "Define Google Finance Tool\n",
    "\"\"\"\n",
    "\n",
    "GoogleFinanceTool = GoogleFinanceQueryRun(api_wrapper=GoogleFinanceAPIWrapper())"
   ]
  },
  {
   "cell_type": "markdown",
   "id": "f6f22e70",
   "metadata": {},
   "source": []
  },
  {
   "cell_type": "markdown",
   "id": "0cf6f6b9",
   "metadata": {},
   "source": [
    "## Agent to peek into sources: Yahoo Finance News, AlphaVantage News Sentiment and Google Stock Prices"
   ]
  },
  {
   "cell_type": "code",
   "execution_count": 8,
   "id": "19b6eed5",
   "metadata": {},
   "outputs": [
    {
     "name": "stderr",
     "output_type": "stream",
     "text": [
      "/var/folders/8s/gb2wyk0x7sx4b5tvrfblj1h80000gn/T/ipykernel_51674/2699403783.py:20: LangChainDeprecationWarning: The function `initialize_agent` was deprecated in LangChain 0.1.0 and will be removed in 1.0. Use :meth:`~Use new agent constructor methods like create_react_agent, create_json_agent, create_structured_chat_agent, etc.` instead.\n",
      "  conversational_agent = initialize_agent(\n"
     ]
    }
   ],
   "source": [
    "\"\"\"\n",
    "Get the conversational agent to peek into the 3 sources fed in as tools to the Langchain:\n",
    "    Yahoo Finance News\n",
    "    Alpha Vantage\n",
    "    Google Stock Prices\n",
    "\n",
    "\"\"\"\n",
    "\n",
    "\n",
    "from langchain_google_genai import ChatGoogleGenerativeAI\n",
    "from langchain.agents import AgentType, initialize_agent, Tool, load_tools\n",
    "from langchain_community.tools.yahoo_finance_news import YahooFinanceNewsTool\n",
    "\n",
    "\n",
    "llm = ChatGoogleGenerativeAI(google_api_key=GEMINI_API_KEY, model=GEMINI_MODEL, temperature=0.3)\n",
    "\n",
    "\n",
    "tools = [my_yahoo_news_tool, alpha_tool, GoogleFinanceTool]\n",
    "\n",
    "conversational_agent = initialize_agent(\n",
    "    tools,\n",
    "    llm,\n",
    "    agent=AgentType.ZERO_SHOT_REACT_DESCRIPTION,\n",
    "    verbose=True,\n",
    "    max_iterations=6,\n",
    "    memory=memory\n",
    ")\n",
    "\n",
    "\n",
    "\n"
   ]
  },
  {
   "cell_type": "code",
   "execution_count": 9,
   "id": "79342e8c",
   "metadata": {},
   "outputs": [
    {
     "name": "stderr",
     "output_type": "stream",
     "text": [
      "/var/folders/8s/gb2wyk0x7sx4b5tvrfblj1h80000gn/T/ipykernel_51674/4194065190.py:7: LangChainDeprecationWarning: The method `Chain.run` was deprecated in langchain 0.1.0 and will be removed in 1.0. Use :meth:`~invoke` instead.\n",
      "  conversational_agent.run(\"Should I buy Amazon stock\")\n"
     ]
    },
    {
     "name": "stdout",
     "output_type": "stream",
     "text": [
      "\n",
      "\n",
      "\u001b[1m> Entering new AgentExecutor chain...\u001b[0m\n",
      "\u001b[32;1m\u001b[1;3mThought: To determine whether to buy Amazon stock, I need to consider its current market performance, news sentiment, and overall financial health.  I'll start by checking its current price and recent news.\n",
      "\n",
      "Action: My Yahoo News Tool\n",
      "Action Input: Amazon\n",
      "\u001b[0m\n",
      "Observation: \u001b[36;1m\u001b[1;3m[{'uuid': 'c44aabbc-0dc2-38c9-9db8-0f6e1e98e5cf', 'title': 'AWS Announces New Data Center Components to Support AI Innovation and Further Improve Energy Efficiency', 'publisher': 'Business Wire', 'link': 'https://finance.yahoo.com/news/aws-announces-data-center-components-203000987.html', 'providerPublishTime': 1733178720, 'type': 'STORY', 'thumbnail': {'resolutions': [{'url': 'https://s.yimg.com/uu/api/res/1.2/EhY4TCvD1bTKXHLDottPqQ--~B/aD01MTI7dz0xMDI0O2FwcGlkPXl0YWNoeW9u/https://media.zenfs.com/en/business-wire.com/d23a466708aa1b4642d96d10e19675cf', 'width': 1024, 'height': 512, 'tag': 'original'}, {'url': 'https://s.yimg.com/uu/api/res/1.2/_ODs1V.ttcrL_KfOk1fpDA--~B/Zmk9ZmlsbDtoPTE0MDtweW9mZj0wO3c9MTQwO2FwcGlkPXl0YWNoeW9u/https://media.zenfs.com/en/business-wire.com/d23a466708aa1b4642d96d10e19675cf', 'width': 140, 'height': 140, 'tag': '140x140'}]}, 'relatedTickers': ['AMZN']}, {'uuid': 'b5638a10-2f6d-354f-95ec-e48f139ca540', 'title': 'AWS unveils flurry of AI data center updates: 4 key takeaways', 'publisher': 'Yahoo Finance Video', 'link': 'https://finance.yahoo.com/video/aws-unveils-flurry-ai-data-221341336.html', 'providerPublishTime': 1733177621, 'type': 'VIDEO', 'thumbnail': {'resolutions': [{'url': 'https://s.yimg.com/uu/api/res/1.2/rK4jlO1cQaqlu8KRPn1Kcg--~B/aD0yNzc2O3c9NDkzMjthcHBpZD15dGFjaHlvbg--/https://s.yimg.com/os/creatr-uploaded-images/2024-12/b2ced760-b0f9-11ef-bbfe-f19383718cf5', 'width': 4932, 'height': 2776, 'tag': 'original'}, {'url': 'https://s.yimg.com/uu/api/res/1.2/MKOfAdAXjIR8JV0CG5MoTg--~B/Zmk9ZmlsbDtoPTE0MDtweW9mZj0wO3c9MTQwO2FwcGlkPXl0YWNoeW9u/https://s.yimg.com/os/creatr-uploaded-images/2024-12/b2ced760-b0f9-11ef-bbfe-f19383718cf5', 'width': 140, 'height': 140, 'tag': '140x140'}]}, 'relatedTickers': ['AMZN']}, {'uuid': 'f8900392-55df-3aa1-bfbd-9b030c91f232', 'title': 'Amazon.com, Inc. (AMZN) Among Billionaire Ken Fisher’s Top Stock Picks Heading Into 2025', 'publisher': 'Insider Monkey', 'link': 'https://finance.yahoo.com/news/amazon-com-inc-amzn-among-215300160.html', 'providerPublishTime': 1733176380, 'type': 'STORY', 'thumbnail': {'resolutions': [{'url': 'https://s.yimg.com/uu/api/res/1.2/pPqnw_f5ocAlq67trfHI3Q--~B/aD04MTY7dz0xNDU2O2FwcGlkPXl0YWNoeW9u/https://media.zenfs.com/en/insidermonkey.com/226ed9ed0936942adb97f3d56073e411', 'width': 1456, 'height': 816, 'tag': 'original'}, {'url': 'https://s.yimg.com/uu/api/res/1.2/PCHzye.KfUEayfK16aZCyQ--~B/Zmk9ZmlsbDtoPTE0MDtweW9mZj0wO3c9MTQwO2FwcGlkPXl0YWNoeW9u/https://media.zenfs.com/en/insidermonkey.com/226ed9ed0936942adb97f3d56073e411', 'width': 140, 'height': 140, 'tag': '140x140'}]}, 'relatedTickers': ['AMZN']}, {'uuid': 'e84d8730-5d68-43af-b18d-326b5bfee8a4', 'title': 'Amazon is giving its data centers a facelift for the generative AI age', 'publisher': 'Yahoo Finance', 'link': 'https://finance.yahoo.com/news/amazon-is-giving-its-data-centers-a-facelift-for-the-generative-ai-age-203052489.html', 'providerPublishTime': 1733171452, 'type': 'STORY', 'thumbnail': {'resolutions': [{'url': 'https://s.yimg.com/uu/api/res/1.2/WOffNkhU_hbbPkx1g15gQw--~B/aD0zNzk2O3c9NTcwNTthcHBpZD15dGFjaHlvbg--/https://s.yimg.com/os/creatr-uploaded-images/2024-03/98e6ba90-f1d5-11ee-abe7-4743a4fc8e54', 'width': 5705, 'height': 3796, 'tag': 'original'}, {'url': 'https://s.yimg.com/uu/api/res/1.2/Xz6Y1n1BnFOS80yIptZxrQ--~B/Zmk9ZmlsbDtoPTE0MDtweW9mZj0wO3c9MTQwO2FwcGlkPXl0YWNoeW9u/https://s.yimg.com/os/creatr-uploaded-images/2024-03/98e6ba90-f1d5-11ee-abe7-4743a4fc8e54', 'width': 140, 'height': 140, 'tag': '140x140'}]}, 'relatedTickers': ['MSFT', 'NVDA', 'AMZN', 'GOOG']}, {'uuid': '78bedda1-0215-3238-9210-a78725b42afd', 'title': 'Byte-Sized AI: Google Lens Gets an Upgrade; Zyler Launches Customizable Virtual Try-On\\xa0Tool', 'publisher': 'Sourcing Journal', 'link': 'https://finance.yahoo.com/m/78bedda1-0215-3238-9210-a78725b42afd/byte-sized-ai%3A-google-lens.html', 'providerPublishTime': 1733167800, 'type': 'STORY', 'thumbnail': {'resolutions': [{'url': 'https://s.yimg.com/uu/api/res/1.2/1ndjCEINCxLGmGn_Ria54g--~B/aD03MzE7dz0xMzAwO2FwcGlkPXl0YWNoeW9u/https://media.zenfs.com/en/sourcing_journal_735/835c7364a6b0c87a5363fb153f0aa4cd', 'width': 1300, 'height': 731, 'tag': 'original'}, {'url': 'https://s.yimg.com/uu/api/res/1.2/GjF40xXDUNwG3IotoH97xQ--~B/Zmk9ZmlsbDtoPTE0MDtweW9mZj0wO3c9MTQwO2FwcGlkPXl0YWNoeW9u/https://media.zenfs.com/en/sourcing_journal_735/835c7364a6b0c87a5363fb153f0aa4cd', 'width': 140, 'height': 140, 'tag': '140x140'}]}, 'relatedTickers': ['GOOG', 'AMZN']}, {'uuid': 'c87f3384-2b87-33f3-b687-3cdb5c2bad9f', 'title': 'Wedbush Raises Price Target on Amazon.com to $250 From $225', 'publisher': 'MT Newswires', 'link': 'https://finance.yahoo.com/news/wedbush-raises-price-target-amazon-182014193.html', 'providerPublishTime': 1733163614, 'type': 'STORY', 'relatedTickers': ['AMZN']}, {'uuid': '8c656d1a-69b9-39f4-aa23-2861b0b99eea', 'title': 'Amazon.com, Inc. (AMZN) is Among the Best Stocks to Buy For Long Term Growth According to This Indicator', 'publisher': 'Insider Monkey', 'link': 'https://finance.yahoo.com/news/amazon-com-inc-amzn-among-175300989.html', 'providerPublishTime': 1733161980, 'type': 'STORY', 'thumbnail': {'resolutions': [{'url': 'https://s.yimg.com/uu/api/res/1.2/pPqnw_f5ocAlq67trfHI3Q--~B/aD04MTY7dz0xNDU2O2FwcGlkPXl0YWNoeW9u/https://media.zenfs.com/en/insidermonkey.com/226ed9ed0936942adb97f3d56073e411', 'width': 1456, 'height': 816, 'tag': 'original'}, {'url': 'https://s.yimg.com/uu/api/res/1.2/PCHzye.KfUEayfK16aZCyQ--~B/Zmk9ZmlsbDtoPTE0MDtweW9mZj0wO3c9MTQwO2FwcGlkPXl0YWNoeW9u/https://media.zenfs.com/en/insidermonkey.com/226ed9ed0936942adb97f3d56073e411', 'width': 140, 'height': 140, 'tag': '140x140'}]}, 'relatedTickers': ['AMZN', '^GSPC']}, {'uuid': '841b7371-2946-3947-967d-f065ee71098d', 'title': 'Amazon Partners with Orbital Materials to Pilot AI for Carbon Removal in Data Centers; AMZN Stock up', 'publisher': 'GuruFocus.com', 'link': 'https://finance.yahoo.com/news/amazon-partners-orbital-materials-pilot-174334942.html', 'providerPublishTime': 1733161414, 'type': 'STORY', 'thumbnail': {'resolutions': [{'url': 'https://s.yimg.com/uu/api/res/1.2/8sAA2CEGaLzXBnJQ6Df4Fw--~B/aD0zNjU7dz01NTA7YXBwaWQ9eXRhY2h5b24-/https://media.zenfs.com/en/us.finance.gurufocus/bfb549c032b86ffd045daefc4a7ac12c', 'width': 550, 'height': 365, 'tag': 'original'}, {'url': 'https://s.yimg.com/uu/api/res/1.2/f.TAtFlfM.IiWakYlO0BwQ--~B/Zmk9ZmlsbDtoPTE0MDtweW9mZj0wO3c9MTQwO2FwcGlkPXl0YWNoeW9u/https://media.zenfs.com/en/us.finance.gurufocus/bfb549c032b86ffd045daefc4a7ac12c', 'width': 140, 'height': 140, 'tag': '140x140'}]}, 'relatedTickers': ['AMZN']}]\u001b[0m\n",
      "Thought:\u001b[32;1m\u001b[1;3mThought:I have obtained recent news articles about Amazon.  Now I need to assess the sentiment and get the current stock price to help inform my decision.\n",
      "\n",
      "Action: AlphaVantage Stock Data\n",
      "Action Input: AMZN\n",
      "\u001b[0m\n",
      "Observation: \u001b[33;1m\u001b[1;3m{'items': '50', 'sentiment_score_definition': 'x <= -0.35: Bearish; -0.35 < x <= -0.15: Somewhat-Bearish; -0.15 < x < 0.15: Neutral; 0.15 <= x < 0.35: Somewhat_Bullish; x >= 0.35: Bullish', 'relevance_score_definition': '0 < x <= 1, with a higher score indicating higher relevance.', 'feed': [{'title': 'JPMorgan Asset Management  ( Canada )  Inc. Exchange Traded Funds 2024 Estimated Annual Reinvested Capital Gain Distributions', 'url': 'https://www.benzinga.com/pressreleases/24/12/g42279265/jpmorgan-asset-management-canada-inc-exchange-traded-funds-2024-estimated-annual-reinvested-capita', 'time_published': '20241202T222449', 'authors': ['Globe Newswire'], 'summary': 'TORONTO, Dec. 02, 2024 ( GLOBE NEWSWIRE ) -- J.P. Morgan Asset Management ( JPMAM ) * today announced the estimated annual reinvested capital gain distributions for the below listed JPMorgan ETFs ( the \"Funds\" ) .', 'banner_image': 'https://ml.globenewswire.com/media/25cae8d7-e313-44d8-b031-b93b14e232b0/small/image001-png.png', 'source': 'Benzinga', 'category_within_source': 'News', 'source_domain': 'www.benzinga.com', 'topics': [{'topic': 'Financial Markets', 'relevance_score': '0.999955'}], 'overall_sentiment_score': 0.22236, 'overall_sentiment_label': 'Somewhat-Bullish', 'ticker_sentiment': []}, {'title': \"Serina Therapeutics Secures $10 Million Financing to Continue Advancing Lead IND Candidate into Phase 1 Clinical Trial in Advanced Parkinson's Disease Patients\", 'url': 'https://www.globenewswire.com/news-release/2024/12/02/2990192/0/en/Serina-Therapeutics-Secures-10-Million-Financing-to-Continue-Advancing-Lead-IND-Candidate-into-Phase-1-Clinical-Trial-in-Advanced-Parkinson-s-Disease-Patients.html', 'time_published': '20241202T222200', 'authors': ['Serina Therapeutics', 'Inc.'], 'summary': 'HUNTSVILLE, Dec. 02, 2024 ( GLOBE NEWSWIRE ) -- Serina Therapeutics, Inc. ( \"Serina\" ) ( NYSE American: SER ) , a clinical-stage biotechnology company, today announced a $10 million equity financing with strategic shareholder JuvVentures ( UK ) Limited.', 'banner_image': 'https://ml.globenewswire.com/Resource/Download/023b134f-7f94-40e2-be67-f162c436a8eb', 'source': 'GlobeNewswire', 'category_within_source': 'n/a', 'source_domain': 'www.globenewswire.com', 'topics': [{'topic': 'Life Sciences', 'relevance_score': '1.0'}, {'topic': 'Financial Markets', 'relevance_score': '0.818451'}], 'overall_sentiment_score': 0.12771, 'overall_sentiment_label': 'Neutral', 'ticker_sentiment': [{'ticker': 'PFE', 'relevance_score': '0.04497', 'ticker_sentiment_score': '0.053876', 'ticker_sentiment_label': 'Neutral'}]}, {'title': 'Honeywell Stock Slides After Hours On Updated 2024 Outlook - Honeywell Intl  ( NASDAQ:HON ) ', 'url': 'https://www.benzinga.com/news/guidance/24/12/42279165/honeywell-stock-slides-after-hours-on-updated-2024-outlook', 'time_published': '20241202T221750', 'authors': ['Adam Eckert'], 'summary': \"Honeywell International Inc HON shares are trading lower in Monday's after-hours session after the company announced a strategic agreement with Bombardier and cut its near-term 2024 outlook.\", 'banner_image': 'https://cdn.benzinga.com/files/images/story/2024/12/02/Kaufbeuren--Germany---April-26--2021-Hon.jpeg?width=1200&height=800&fit=crop', 'source': 'Benzinga', 'category_within_source': 'News', 'source_domain': 'www.benzinga.com', 'topics': [{'topic': 'Earnings', 'relevance_score': '0.650727'}, {'topic': 'Financial Markets', 'relevance_score': '0.108179'}, {'topic': 'Manufacturing', 'relevance_score': '1.0'}], 'overall_sentiment_score': 0.247182, 'overall_sentiment_label': 'Somewhat-Bullish', 'ticker_sentiment': [{'ticker': 'HON', 'relevance_score': '0.902881', 'ticker_sentiment_score': '0.350289', 'ticker_sentiment_label': 'Bullish'}]}, {'title': 'Hammond Power Solutions Declares Quarterly Dividend', 'url': 'https://www.benzinga.com/pressreleases/24/12/g42279129/hammond-power-solutions-declares-quarterly-dividend', 'time_published': '20241202T221500', 'authors': ['Globe Newswire'], 'summary': 'GUELPH, Ontario, Dec. 02, 2024 ( GLOBE NEWSWIRE ) -- HPS The Board of Directors of Hammond Power Solutions Inc. ( \"HPS\" ) declared a quarterly cash dividend of twenty-seven and a half cents ( $0.275 ) per Class A Subordinate Voting Share of HPS and a quarterly cash dividend of twenty-seven and a ...', 'banner_image': 'https://ml.globenewswire.com/media/a4dd2b6e-231b-4799-af7d-581fff5bcd05/small/hammond-primary-colour-rgb-1-png.png', 'source': 'Benzinga', 'category_within_source': 'News', 'source_domain': 'www.benzinga.com', 'topics': [{'topic': 'Financial Markets', 'relevance_score': '0.538269'}], 'overall_sentiment_score': 0.075842, 'overall_sentiment_label': 'Neutral', 'ticker_sentiment': [{'ticker': 'HMDPF', 'relevance_score': '0.269776', 'ticker_sentiment_score': '0.083829', 'ticker_sentiment_label': 'Neutral'}, {'ticker': 'PSIX', 'relevance_score': '0.269776', 'ticker_sentiment_score': '0.083829', 'ticker_sentiment_label': 'Neutral'}]}, {'title': 'Hammond Power Solutions Declares Quarterly Dividend', 'url': 'https://www.globenewswire.com/news-release/2024/12/02/2990191/0/en/Hammond-Power-Solutions-Declares-Quarterly-Dividend.html', 'time_published': '20241202T221500', 'authors': ['Hammond Power Solutions Inc'], 'summary': 'GUELPH, Ontario, Dec. 02, 2024 ( GLOBE NEWSWIRE ) -- ( TSX: HPS.A ) The Board of Directors of Hammond Power Solutions Inc. ( \"HPS\" ) declared a quarterly cash dividend of twenty-seven and a half cents ( $0.275 ) per Class A Subordinate Voting Share of HPS and a quarterly cash dividend of ...', 'banner_image': 'https://ml.globenewswire.com/Resource/Download/a4dd2b6e-231b-4799-af7d-581fff5bcd05', 'source': 'GlobeNewswire', 'category_within_source': 'n/a', 'source_domain': 'www.globenewswire.com', 'topics': [{'topic': 'Financial Markets', 'relevance_score': '0.360215'}], 'overall_sentiment_score': 0.037983, 'overall_sentiment_label': 'Neutral', 'ticker_sentiment': [{'ticker': 'HMDPF', 'relevance_score': '0.202366', 'ticker_sentiment_score': '0.046039', 'ticker_sentiment_label': 'Neutral'}, {'ticker': 'PSIX', 'relevance_score': '0.202366', 'ticker_sentiment_score': '0.046039', 'ticker_sentiment_label': 'Neutral'}]}, {'title': 'Wah Fu Education Group Ltd. to Hold Annual General Meeting on December 20, 2024 - Wah Fu Education Gr  ( NASDAQ:WAFU ) ', 'url': 'https://www.benzinga.com/pressreleases/24/12/g42279009/wah-fu-education-group-ltd-to-hold-annual-general-meeting-on-december-20-2024', 'time_published': '20241202T220837', 'authors': ['Globe Newswire'], 'summary': 'Beijing, China, Dec. 02, 2024 ( GLOBE NEWSWIRE ) -- Wah Fu Education Group Ltd. WAFU the \"Company\" ) today announced that it will hold its Annual General Meeting ( \"AGM\" ) , which will be held at L207b, Hesheng Fortune Plaza, No.13 Deshengmenwai Street Xicheng District, Beijing, China 100088, at ...', 'banner_image': 'https://www.benzinga.com/next-assets/images/schema-image-default.png', 'source': 'Benzinga', 'category_within_source': 'News', 'source_domain': 'www.benzinga.com', 'topics': [{'topic': 'Financial Markets', 'relevance_score': '0.360215'}], 'overall_sentiment_score': 0.338182, 'overall_sentiment_label': 'Somewhat-Bullish', 'ticker_sentiment': [{'ticker': 'WAFU', 'relevance_score': '0.27432', 'ticker_sentiment_score': '0.19041', 'ticker_sentiment_label': 'Somewhat-Bullish'}]}, {'title': 'Wah Fu Education Group Ltd. to Hold Annual General Meeting on December 20, 2024', 'url': 'https://www.globenewswire.com/news-release/2024/12/02/2990190/0/en/Wah-Fu-Education-Group-Ltd-to-Hold-Annual-General-Meeting-on-December-20-2024.html', 'time_published': '20241202T220800', 'authors': ['Wah Fu Education Group Limited'], 'summary': 'Beijing, China, Dec. 02, 2024 ( GLOBE NEWSWIRE ) -- Wah Fu Education Group Ltd. ( NASDAQ: WAFU, the \"Company\" ) today announced that it will hold its Annual General Meeting ( \"AGM\" ) , which will be held at L207b, Hesheng Fortune Plaza, No.13 Deshengmenwai Street Xicheng District, Beijing, China ...', 'banner_image': 'https://ml.globenewswire.com/Resource/Download/af23018c-56d3-4fee-9227-5156d45a58d8', 'source': 'GlobeNewswire', 'category_within_source': 'n/a', 'source_domain': 'www.globenewswire.com', 'topics': [{'topic': 'Financial Markets', 'relevance_score': '0.310843'}], 'overall_sentiment_score': 0.352719, 'overall_sentiment_label': 'Bullish', 'ticker_sentiment': [{'ticker': 'WAFU', 'relevance_score': '0.29234', 'ticker_sentiment_score': '0.20856', 'ticker_sentiment_label': 'Somewhat-Bullish'}]}, {'title': 'SHAREHOLDER ALERT: Investigation of Quanterix Corporation  ( QTRX )  Announced by Holzer & Holzer, LLC - Quanterix  ( NASDAQ:QTRX ) ', 'url': 'https://www.benzinga.com/pressreleases/24/12/g42278973/shareholder-alert-investigation-of-quanterix-corporation-qtrx-announced-by-holzer-holzer-llc', 'time_published': '20241202T220702', 'authors': ['Globe Newswire'], 'summary': 'ATLANTA, Dec. 02, 2024 ( GLOBE NEWSWIRE ) -- Holzer & Holzer, LLC is investigating whether Quanterix Corporation ( \"Quanterix\" or the \"Company\" ) QTRX complied with federal securities laws.', 'banner_image': 'https://www.benzinga.com/next-assets/images/schema-image-default.png', 'source': 'Benzinga', 'category_within_source': 'News', 'source_domain': 'www.benzinga.com', 'topics': [{'topic': 'Life Sciences', 'relevance_score': '1.0'}, {'topic': 'Financial Markets', 'relevance_score': '0.796627'}], 'overall_sentiment_score': 0.069938, 'overall_sentiment_label': 'Neutral', 'ticker_sentiment': [{'ticker': 'QTRX', 'relevance_score': '0.730535', 'ticker_sentiment_score': '0.093125', 'ticker_sentiment_label': 'Neutral'}]}, {'title': 'Molecular Templates Announces Receipt of Expected Notification of Deficiency from Nasdaq Related to Delayed filing of Quarterly Report on Form 10-Q and Failure to Meet Bid Price Requirements', 'url': 'https://www.globenewswire.com/news-release/2024/12/02/2990188/0/en/Molecular-Templates-Announces-Receipt-of-Expected-Notification-of-Deficiency-from-Nasdaq-Related-to-Delayed-filing-of-Quarterly-Report-on-Form-10-Q-and-Failure-to-Meet-Bid-Price-Re.html', 'time_published': '20241202T220600', 'authors': ['Molecular Templates', 'Inc.'], 'summary': 'AUSTIN, Texas, Dec. 02, 2024 ( GLOBE NEWSWIRE ) -- Molecular Templates, Inc. ( Nasdaq: MTEM, \"Molecular Templates,\" or \"MTEM\" or the \"Company\" ) , a clinical-stage biopharmaceutical company focused on the discovery and development of proprietary targeted biologic therapeutics, known as ...', 'banner_image': 'https://ml.globenewswire.com/Resource/Download/1af4d1b3-0a20-4be1-a846-79d8df413603', 'source': 'GlobeNewswire', 'category_within_source': 'n/a', 'source_domain': 'www.globenewswire.com', 'topics': [{'topic': 'Life Sciences', 'relevance_score': '1.0'}, {'topic': 'Financial Markets', 'relevance_score': '1.0'}], 'overall_sentiment_score': 0.085465, 'overall_sentiment_label': 'Neutral', 'ticker_sentiment': [{'ticker': 'MTEM', 'relevance_score': '0.66591', 'ticker_sentiment_score': '0.162198', 'ticker_sentiment_label': 'Somewhat-Bullish'}]}, {'title': 'Allied Provides Update on Distributions and Non-Core Property Sales', 'url': 'https://www.benzinga.com/pressreleases/24/12/g42278823/allied-provides-update-on-distributions-and-non-core-property-sales', 'time_published': '20241202T220500', 'authors': ['Globe Newswire'], 'summary': 'TORONTO, Dec. 02, 2024 ( GLOBE NEWSWIRE ) -- Allied Properties Real Estate Investment Trust ( \"Allied\" ) ( TSX: \"AP.UN\" ) announced today that the Trustees of Allied have ( i ) declared a distribution of $0.15 per unit for the month of December 2024, payable on January 15, 2025, to unitholders ...', 'banner_image': 'https://www.benzinga.com/next-assets/images/schema-image-default.png', 'source': 'Benzinga', 'category_within_source': 'News', 'source_domain': 'www.benzinga.com', 'topics': [{'topic': 'Financial Markets', 'relevance_score': '0.108179'}], 'overall_sentiment_score': 0.115769, 'overall_sentiment_label': 'Neutral', 'ticker_sentiment': [{'ticker': 'APYRF', 'relevance_score': '0.085629', 'ticker_sentiment_score': '0.017401', 'ticker_sentiment_label': 'Neutral'}]}, {'title': 'Allied Provides Update on Distributions and Non-Core Property Sales', 'url': 'https://www.globenewswire.com/news-release/2024/12/02/2990187/0/en/Allied-Provides-Update-on-Distributions-and-Non-Core-Property-Sales.html', 'time_published': '20241202T220500', 'authors': ['Allied Properties REIT'], 'summary': 'TORONTO, Dec. 02, 2024 ( GLOBE NEWSWIRE ) -- Allied Properties Real Estate Investment Trust ( \"Allied\" ) ( TSX: \"AP.UN\" ) announced today that the Trustees of Allied have ( i ) declared a distribution of $0.15 per unit for the month of December 2024, payable on January 15, 2025, to unitholders ...', 'banner_image': 'https://ml.globenewswire.com/Resource/Download/3f751dde-2ce2-49f9-868b-51e1fe38468e', 'source': 'GlobeNewswire', 'category_within_source': 'n/a', 'source_domain': 'www.globenewswire.com', 'topics': [], 'overall_sentiment_score': 0.1249, 'overall_sentiment_label': 'Neutral', 'ticker_sentiment': [{'ticker': 'APYRF', 'relevance_score': '0.097062', 'ticker_sentiment_score': '0.022048', 'ticker_sentiment_label': 'Neutral'}]}, {'title': 'Extended Reality  ( XR )  Market to Grow by USD 1.04 Trillion  ( 2024-2028 ) , Driven by Advances in Sensor Technology, with AI Impacting Market Trends - Technavio', 'url': 'https://www.benzinga.com/pressreleases/24/12/n42278825/extended-reality-xr-market-to-grow-by-usd-1-04-trillion-2024-2028-driven-by-advances-in-sensor-tec', 'time_published': '20241202T220500', 'authors': ['PRNewswire'], 'summary': 'NEW YORK, Dec. 2, 2024 /PRNewswire/ -- Report on how AI is redefining market landscape -The global extended reality ( XR ) market size is estimated to grow by USD 1.04 trillion from 2024-2028, according to Technavio. The market is estimated to grow at a CAGR of almost 56.45% during the forecast ...', 'banner_image': 'https://mma.prnewswire.com/media/2570092/Global_extended_reality_market_2024_2028.jpg', 'source': 'Benzinga', 'category_within_source': 'General', 'source_domain': 'www.benzinga.com', 'topics': [{'topic': 'Life Sciences', 'relevance_score': '0.333333'}, {'topic': 'Financial Markets', 'relevance_score': '0.360215'}, {'topic': 'Manufacturing', 'relevance_score': '0.333333'}, {'topic': 'Technology', 'relevance_score': '0.333333'}, {'topic': 'Blockchain', 'relevance_score': '0.158519'}], 'overall_sentiment_score': 0.310754, 'overall_sentiment_label': 'Somewhat-Bullish', 'ticker_sentiment': [{'ticker': 'LNVGF', 'relevance_score': '0.025679', 'ticker_sentiment_score': '0.058678', 'ticker_sentiment_label': 'Neutral'}, {'ticker': 'GOOG', 'relevance_score': '0.05133', 'ticker_sentiment_score': '0.086646', 'ticker_sentiment_label': 'Neutral'}, {'ticker': 'META', 'relevance_score': '0.05133', 'ticker_sentiment_score': '0.086646', 'ticker_sentiment_label': 'Neutral'}, {'ticker': 'NVDA', 'relevance_score': '0.025679', 'ticker_sentiment_score': '0.058678', 'ticker_sentiment_label': 'Neutral'}, {'ticker': 'CAJFF', 'relevance_score': '0.025679', 'ticker_sentiment_score': '0.058678', 'ticker_sentiment_label': 'Neutral'}, {'ticker': 'ABLZF', 'relevance_score': '0.025679', 'ticker_sentiment_score': '0.058678', 'ticker_sentiment_label': 'Neutral'}, {'ticker': 'DDD', 'relevance_score': '0.025679', 'ticker_sentiment_score': '0.058678', 'ticker_sentiment_label': 'Neutral'}, {'ticker': 'SEKEF', 'relevance_score': '0.025679', 'ticker_sentiment_score': '0.058678', 'ticker_sentiment_label': 'Neutral'}, {'ticker': 'ACN', 'relevance_score': '0.025679', 'ticker_sentiment_score': '0.058678', 'ticker_sentiment_label': 'Neutral'}, {'ticker': 'MSFT', 'relevance_score': '0.05133', 'ticker_sentiment_score': '0.086646', 'ticker_sentiment_label': 'Neutral'}, {'ticker': 'SNEJF', 'relevance_score': '0.025679', 'ticker_sentiment_score': '0.058678', 'ticker_sentiment_label': 'Neutral'}, {'ticker': 'SSNLF', 'relevance_score': '0.025679', 'ticker_sentiment_score': '0.069569', 'ticker_sentiment_label': 'Neutral'}, {'ticker': 'ROP', 'relevance_score': '0.025679', 'ticker_sentiment_score': '0.058678', 'ticker_sentiment_label': 'Neutral'}, {'ticker': 'QCOM', 'relevance_score': '0.05133', 'ticker_sentiment_score': '0.071', 'ticker_sentiment_label': 'Neutral'}, {'ticker': 'INTC', 'relevance_score': '0.025679', 'ticker_sentiment_score': '0.058678', 'ticker_sentiment_label': 'Neutral'}, {'ticker': 'PTC', 'relevance_score': '0.025679', 'ticker_sentiment_score': '0.058678', 'ticker_sentiment_label': 'Neutral'}]}, {'title': 'Fairfax Announces Quarterly Dividend on Series C, D, E, F, G, H, I, J, K and M Preferred Shares and Quarterly Dividend Rate for Series F, H and J Preferred Shares', 'url': 'https://www.benzinga.com/pressreleases/24/12/g42278693/fairfax-announces-quarterly-dividend-on-series-c-d-e-f-g-h-i-j-k-and-m-preferred-shares-and-quarte', 'time_published': '20241202T220200', 'authors': ['Globe Newswire'], 'summary': 'TORONTO, Dec. 02, 2024 ( GLOBE NEWSWIRE ) -- Fairfax Financial Holdings Limited FFH ( \"Fairfax\" ) announces that it has declared the following quarterly dividends per share on its preferred shares: Applicable Canadian withholding tax will be applied to dividends payable to non-residents ...', 'banner_image': 'https://www.benzinga.com/next-assets/images/schema-image-default.png', 'source': 'Benzinga', 'category_within_source': 'News', 'source_domain': 'www.benzinga.com', 'topics': [{'topic': 'Financial Markets', 'relevance_score': '0.108179'}], 'overall_sentiment_score': 0.41613, 'overall_sentiment_label': 'Bullish', 'ticker_sentiment': [{'ticker': 'FRFHF', 'relevance_score': '0.204072', 'ticker_sentiment_score': '0.214827', 'ticker_sentiment_label': 'Somewhat-Bullish'}]}, {'title': 'Fairfax Announces Quarterly Dividend on Series C, D, E, F, G, H, I, J, K and M Preferred Shares and Quarterly Dividend Rate for Series F, H and J Preferred Shares', 'url': 'https://www.globenewswire.com/news-release/2024/12/02/2990185/0/en/Fairfax-Announces-Quarterly-Dividend-on-Series-C-D-E-F-G-H-I-J-K-and-M-Preferred-Shares-and-Quarterly-Dividend-Rate-for-Series-F-H-and-J-Preferred-Shares.html', 'time_published': '20241202T220200', 'authors': ['Fairfax Financial Holdings Limited'], 'summary': 'TORONTO, Dec. 02, 2024 ( GLOBE NEWSWIRE ) -- Fairfax Financial Holdings Limited ( TSX: FFH and FFH.U ) ( \"Fairfax\" ) announces that it has declared the following quarterly dividends per share on its preferred shares: ...', 'banner_image': 'https://ml.globenewswire.com/Resource/Download/fa3ed713-47f6-4178-a7ab-907ab1684dc8', 'source': 'GlobeNewswire', 'category_within_source': 'n/a', 'source_domain': 'www.globenewswire.com', 'topics': [], 'overall_sentiment_score': 0.425581, 'overall_sentiment_label': 'Bullish', 'ticker_sentiment': [{'ticker': 'FRFHF', 'relevance_score': '0.245339', 'ticker_sentiment_score': '0.252837', 'ticker_sentiment_label': 'Somewhat-Bullish'}]}, {'title': 'Bionomics Reminds Shareholders to Cast their Vote for Re-Domiciliation from Australia to the United States', 'url': 'https://www.globenewswire.com/news-release/2024/12/02/2990184/0/en/Bionomics-Reminds-Shareholders-to-Cast-their-Vote-for-Re-Domiciliation-from-Australia-to-the-United-States.html', 'time_published': '20241202T220100', 'authors': ['Bionomics Ltd'], 'summary': 'ADELAIDE, Australia, and CAMBRIDGE, Mass., Dec. 02, 2024 ( GLOBE NEWSWIRE ) -- Bionomics Limited ( Nasdaq: BNOX ) ( Bionomics or Company ) , a clinical-stage biotechnology company developing novel, first-in-class, allosteric ion channel modulators to treat patients suffering from serious central ...', 'banner_image': 'https://ml.globenewswire.com/Resource/Download/822aaa99-a2bd-4905-ab9c-07869668b7f7', 'source': 'GlobeNewswire', 'category_within_source': 'n/a', 'source_domain': 'www.globenewswire.com', 'topics': [{'topic': 'Technology', 'relevance_score': '1.0'}, {'topic': 'Financial Markets', 'relevance_score': '0.310843'}], 'overall_sentiment_score': 0.124477, 'overall_sentiment_label': 'Neutral', 'ticker_sentiment': [{'ticker': 'BNOX', 'relevance_score': '0.805954', 'ticker_sentiment_score': '0.20851', 'ticker_sentiment_label': 'Somewhat-Bullish'}]}, {'title': 'Bombardier Confirms Reaching Settlement in Legal Dispute with Honeywell', 'url': 'https://www.benzinga.com/pressreleases/24/12/g42278624/bombardier-confirms-reaching-settlement-in-legal-dispute-with-honeywell', 'time_published': '20241202T220000', 'authors': ['Globe Newswire'], 'summary': 'MONTRÉAL, Dec. 02, 2024 ( GLOBE NEWSWIRE ) -- Bombardier Inc. ( \"Bombardier\" ) today confirmed that it has reached an agreement to settle its lawsuit against Honeywell International Inc. ( \"Honeywell\" ) that it initially filed in 2016 before the Superior Court of Québec.', 'banner_image': 'https://www.benzinga.com/next-assets/images/schema-image-default.png', 'source': 'Benzinga', 'category_within_source': 'News', 'source_domain': 'www.benzinga.com', 'topics': [{'topic': 'Manufacturing', 'relevance_score': '1.0'}], 'overall_sentiment_score': 0.41892, 'overall_sentiment_label': 'Bullish', 'ticker_sentiment': [{'ticker': 'BDRBF', 'relevance_score': '0.084423', 'ticker_sentiment_score': '0.225457', 'ticker_sentiment_label': 'Somewhat-Bullish'}, {'ticker': 'HON', 'relevance_score': '0.084423', 'ticker_sentiment_score': '0.225457', 'ticker_sentiment_label': 'Somewhat-Bullish'}]}, {'title': 'The New America High Income Fund, Inc. Declares Distribution - New America High  ( NYSE:HYB ) ', 'url': 'https://www.benzinga.com/pressreleases/24/12/g42278622/the-new-america-high-income-fund-inc-declares-distribution', 'time_published': '20241202T220000', 'authors': ['Globe Newswire'], 'summary': 'BOSTON, Dec. 02, 2024 ( GLOBE NEWSWIRE ) -- The New America High Income Fund, Inc. ( the \"Fund\" ) HYB announced today that it will pay a distribution of $.04 per share on the company\\'s common stock on December 31, 2024 to common shareholders of record as of the close of business on December 17, ...', 'banner_image': 'https://www.benzinga.com/next-assets/images/schema-image-default.png', 'source': 'Benzinga', 'category_within_source': 'News', 'source_domain': 'www.benzinga.com', 'topics': [{'topic': 'Financial Markets', 'relevance_score': '0.990999'}], 'overall_sentiment_score': 0.210123, 'overall_sentiment_label': 'Somewhat-Bullish', 'ticker_sentiment': []}, {'title': 'Bombardier Confirms Reaching Settlement in Legal Dispute with Honeywell', 'url': 'https://www.globenewswire.com/news-release/2024/12/02/2990178/0/en/Bombardier-Confirms-Reaching-Settlement-in-Legal-Dispute-with-Honeywell.html', 'time_published': '20241202T220000', 'authors': ['Bombardier Inc.'], 'summary': 'MONTRÉAL, Dec. 02, 2024 ( GLOBE NEWSWIRE ) -- Bombardier Inc. ( \"Bombardier\" ) today confirmed that it has reached an agreement to settle its lawsuit against Honeywell International Inc. ( \"Honeywell\" ) that it initially filed in 2016 before the Superior Court of Québec.', 'banner_image': 'https://ml.globenewswire.com/Resource/Download/17388364-7e8b-4836-8d73-8c21f3f49b4e', 'source': 'GlobeNewswire', 'category_within_source': 'n/a', 'source_domain': 'www.globenewswire.com', 'topics': [{'topic': 'Manufacturing', 'relevance_score': '1.0'}], 'overall_sentiment_score': 0.426954, 'overall_sentiment_label': 'Bullish', 'ticker_sentiment': [{'ticker': 'BDRBF', 'relevance_score': '0.091162', 'ticker_sentiment_score': '0.241423', 'ticker_sentiment_label': 'Somewhat-Bullish'}, {'ticker': 'HON', 'relevance_score': '0.091162', 'ticker_sentiment_score': '0.241423', 'ticker_sentiment_label': 'Somewhat-Bullish'}]}, {'title': 'Arcade Gaming Market to Grow by USD 2.22 Billion  ( 2024-2028 ) , Driven by Increased Physical Activities, with AI Redefining the Market Landscape - Technavio', 'url': 'https://www.benzinga.com/pressreleases/24/12/n42278633/arcade-gaming-market-to-grow-by-usd-2-22-billion-2024-2028-driven-by-increased-physical-activities', 'time_published': '20241202T220000', 'authors': ['PRNewswire'], 'summary': 'NEW YORK, Dec. 2, 2024 /PRNewswire/ -- Report with market evolution powered by AI - The global arcade gaming market size is estimated to grow by USD 2.22 billion from 2024-2028, according to Technavio. The market is estimated to grow at a CAGR of 2.18% during the forecast period.', 'banner_image': 'https://mma.prnewswire.com/media/2570120/Global_Arcade_Gaming_Market_2024_2028_Infographic.jpg', 'source': 'Benzinga', 'category_within_source': 'General', 'source_domain': 'www.benzinga.com', 'topics': [{'topic': 'Financial Markets', 'relevance_score': '0.108179'}], 'overall_sentiment_score': 0.314388, 'overall_sentiment_label': 'Somewhat-Bullish', 'ticker_sentiment': [{'ticker': 'DBOXF', 'relevance_score': '0.023259', 'ticker_sentiment_score': '0.197129', 'ticker_sentiment_label': 'Somewhat-Bullish'}, {'ticker': 'SGAMF', 'relevance_score': '0.023259', 'ticker_sentiment_score': '0.197129', 'ticker_sentiment_label': 'Somewhat-Bullish'}, {'ticker': 'NCBDF', 'relevance_score': '0.023259', 'ticker_sentiment_score': '0.197129', 'ticker_sentiment_label': 'Somewhat-Bullish'}, {'ticker': 'NTDOF', 'relevance_score': '0.023259', 'ticker_sentiment_score': '0.197129', 'ticker_sentiment_label': 'Somewhat-Bullish'}, {'ticker': 'SQNXF', 'relevance_score': '0.023259', 'ticker_sentiment_score': '0.197129', 'ticker_sentiment_label': 'Somewhat-Bullish'}, {'ticker': 'BOWL', 'relevance_score': '0.023259', 'ticker_sentiment_score': '0.197129', 'ticker_sentiment_label': 'Somewhat-Bullish'}, {'ticker': 'CCOEF', 'relevance_score': '0.023259', 'ticker_sentiment_score': '0.197129', 'ticker_sentiment_label': 'Somewhat-Bullish'}]}, {'title': 'Rockridge Files Management Information Circular for Annual General and Special Meeting of Shareholders to Approve Business Combination with Eros Resources and MAS Gold', 'url': 'https://www.globenewswire.com/news-release/2024/12/02/2990179/0/en/Rockridge-Files-Management-Information-Circular-for-Annual-General-and-Special-Meeting-of-Shareholders-to-Approve-Business-Combination-with-Eros-Resources-and-MAS-Gold.html', 'time_published': '20241202T220000', 'authors': ['Rockridge Resources Ltd.'], 'summary': 'Vancouver, BC, Dec. 02, 2024 ( GLOBE NEWSWIRE ) -- Rockridge Resources Ltd. ( TSX-V: ROCK ) ( OTCQB: RRRLF ) ( Frankfurt: RR0 ) ( \"Rockridge\" ) ( the \"Company\" ) is pleased to announce that it has filed and has commenced the delivery of the joint management information circular of the Company, ...', 'banner_image': 'https://portal.executivebusinessservices.com/i/2c9022f5-b7f7-44ce-c857-08dd130535c4', 'source': 'GlobeNewswire', 'category_within_source': 'n/a', 'source_domain': 'www.globenewswire.com', 'topics': [{'topic': 'Financial Markets', 'relevance_score': '0.818451'}], 'overall_sentiment_score': 0.150264, 'overall_sentiment_label': 'Somewhat-Bullish', 'ticker_sentiment': [{'ticker': 'RRRLF', 'relevance_score': '0.047138', 'ticker_sentiment_score': '0.093204', 'ticker_sentiment_label': 'Neutral'}, {'ticker': 'MALRF', 'relevance_score': '0.023579', 'ticker_sentiment_score': '0.176121', 'ticker_sentiment_label': 'Somewhat-Bullish'}, {'ticker': 'MSGCF', 'relevance_score': '0.254912', 'ticker_sentiment_score': '0.092753', 'ticker_sentiment_label': 'Neutral'}]}, {'title': 'Studio City Enters into Senior Facilities Agreement', 'url': 'https://www.globenewswire.com/news-release/2024/12/02/2990183/36898/en/Studio-City-Enters-into-Senior-Facilities-Agreement.html', 'time_published': '20241202T220000', 'authors': ['Studio City'], 'summary': 'MACAU, Dec. 02, 2024 ( GLOBE NEWSWIRE ) -- Studio City International Holdings Limited ( NYSE: MSC ) ( \"Studio City\" or the \"Company\" ) , a world-class integrated resort located in Cotai, Macau, today announces that the Company\\'s subsidiary, Studio City Company Limited ( \"Studio City Company\" ) , ...', 'banner_image': 'https://ml.globenewswire.com/Resource/Download/d6a5efe3-2085-4e42-a0e7-a7943b2b4605', 'source': 'GlobeNewswire', 'category_within_source': 'n/a', 'source_domain': 'www.globenewswire.com', 'topics': [{'topic': 'Real Estate & Construction', 'relevance_score': '1.0'}, {'topic': 'Financial Markets', 'relevance_score': '0.905476'}], 'overall_sentiment_score': 0.259437, 'overall_sentiment_label': 'Somewhat-Bullish', 'ticker_sentiment': [{'ticker': 'MSC', 'relevance_score': '0.610896', 'ticker_sentiment_score': '0.383857', 'ticker_sentiment_label': 'Bullish'}, {'ticker': 'BACHY', 'relevance_score': '0.057215', 'ticker_sentiment_score': '0.235087', 'ticker_sentiment_label': 'Somewhat-Bullish'}, {'ticker': 'MLCO', 'relevance_score': '0.114137', 'ticker_sentiment_score': '0.012604', 'ticker_sentiment_label': 'Neutral'}]}, {'title': 'Azincourt Energy Grants RSUs', 'url': 'https://www.globenewswire.com/news-release/2024/12/02/2990180/0/en/Azincourt-Energy-Grants-RSUs.html', 'time_published': '20241202T220000', 'authors': ['Azincourt Energy Corp.'], 'summary': 'VANCOUVER, British Columbia, Dec. 02, 2024 ( GLOBE NEWSWIRE ) -- AZINCOURT ENERGY CORP. ( \"Azincourt\" or the \"Company\" ) ( TSX.V: AAZ, OTC: AZURF ) , announces the grant of 2,000,000 restricted share units ( \"RSUs\" ) to an officer of the Company under the Company\\'s shareholder-approved incentive ...', 'banner_image': 'https://ml.globenewswire.com/Resource/Download/5c6016c1-b698-4aba-a00d-0d58fa0e2f03', 'source': 'GlobeNewswire', 'category_within_source': 'n/a', 'source_domain': 'www.globenewswire.com', 'topics': [{'topic': 'Financial Markets', 'relevance_score': '0.158519'}], 'overall_sentiment_score': 0.298439, 'overall_sentiment_label': 'Somewhat-Bullish', 'ticker_sentiment': []}, {'title': \"'Astonishing' XRP Surge Driven by Regulatory Hopes, ETF Speculation: Analysts\", 'url': 'https://decrypt.co/294423/astonishing-xrp-surge-regulatory-hopes', 'time_published': '20241202T215932', 'authors': ['André Beganski'], 'summary': \"Whether it's SEC Chair Gary Gensler's departure or ETF speculation, analysts see several post-election factors behind XRP's spike.\", 'banner_image': 'https://cdn.decrypt.co/resize/1024/height/512/wp-content/uploads/2020/07/shutterstock_12162718781-gID_7.jpg', 'source': 'Decrypt.co', 'category_within_source': 'n/a', 'source_domain': 'decrypt.co', 'topics': [{'topic': 'Blockchain', 'relevance_score': '0.769861'}, {'topic': 'Financial Markets', 'relevance_score': '0.891286'}], 'overall_sentiment_score': 0.189231, 'overall_sentiment_label': 'Somewhat-Bullish', 'ticker_sentiment': [{'ticker': 'WT', 'relevance_score': '0.051441', 'ticker_sentiment_score': '0.02876', 'ticker_sentiment_label': 'Neutral'}, {'ticker': 'CRYPTO:BTC', 'relevance_score': '0.102668', 'ticker_sentiment_score': '0.095253', 'ticker_sentiment_label': 'Neutral'}, {'ticker': 'CRYPTO:ETH', 'relevance_score': '0.051441', 'ticker_sentiment_score': '0.035714', 'ticker_sentiment_label': 'Neutral'}, {'ticker': 'CRYPTO:DOGE', 'relevance_score': '0.051441', 'ticker_sentiment_score': '0.035714', 'ticker_sentiment_label': 'Neutral'}]}, {'title': 'Symbotic Inc. Announcement: If You Have Suffered Losses in Symbotic Inc.  ( NASDAQ: SYM ) , You Are Encouraged to Contact The Rosen Law Firm About Your Rights - Symbotic  ( NASDAQ:SYM ) ', 'url': 'https://www.benzinga.com/pressreleases/24/12/g42278581/symbotic-inc-announcement-if-you-have-suffered-losses-in-symbotic-inc-nasdaq-sym-you-are-encourage', 'time_published': '20241202T215800', 'authors': ['Globe Newswire'], 'summary': 'NEW YORK, Dec. 02, 2024 ( GLOBE NEWSWIRE ) -- WHY: Rosen Law Firm, a global investor rights law firm, announces an investigation of potential securities claims on behalf of shareholders of Symbotic Inc.', 'banner_image': 'https://www.benzinga.com/next-assets/images/schema-image-default.png', 'source': 'Benzinga', 'category_within_source': 'News', 'source_domain': 'www.benzinga.com', 'topics': [{'topic': 'Earnings', 'relevance_score': '0.538269'}, {'topic': 'Technology', 'relevance_score': '1.0'}, {'topic': 'Financial Markets', 'relevance_score': '0.744043'}], 'overall_sentiment_score': 0.170549, 'overall_sentiment_label': 'Somewhat-Bullish', 'ticker_sentiment': [{'ticker': 'META', 'relevance_score': '0.078099', 'ticker_sentiment_score': '0.0', 'ticker_sentiment_label': 'Neutral'}, {'ticker': 'SYM', 'relevance_score': '0.443626', 'ticker_sentiment_score': '-0.014978', 'ticker_sentiment_label': 'Neutral'}]}, {'title': 'Immutable Announcement: If You Have Suffered Losses in IMX Tokens, You Are Encouraged to Contact The Rosen Law Firm About Your Rights', 'url': 'https://www.benzinga.com/pressreleases/24/12/g42278506/immutable-announcement-if-you-have-suffered-losses-in-imx-tokens-you-are-encouraged-to-contact-the', 'time_published': '20241202T215400', 'authors': ['Globe Newswire'], 'summary': 'NEW YORK, Dec. 02, 2024 ( GLOBE NEWSWIRE ) -- Why: Rosen Law Firm, a global investor rights law firm, announces an investigation of potential securities claims against Immutable resulting from allegations that Immutable may have issued materially misleading business information to the ...', 'banner_image': 'https://www.benzinga.com/next-assets/images/schema-image-default.png', 'source': 'Benzinga', 'category_within_source': 'News', 'source_domain': 'www.benzinga.com', 'topics': [{'topic': 'Technology', 'relevance_score': '1.0'}, {'topic': 'Financial Markets', 'relevance_score': '0.714479'}], 'overall_sentiment_score': 0.208026, 'overall_sentiment_label': 'Somewhat-Bullish', 'ticker_sentiment': [{'ticker': 'META', 'relevance_score': '0.090474', 'ticker_sentiment_score': '0.0', 'ticker_sentiment_label': 'Neutral'}]}, {'title': 'Supreme Court Hears Case Against FDA Ban On Flavored Vapes: Here Are The Stocks To Watch - Altria Group  ( NYSE:MO ) ', 'url': 'https://www.benzinga.com/news/legal/24/12/42278495/supreme-court-hears-case-against-fda-ban-on-flavored-vapes-the-details-and-stocks-to-watch', 'time_published': '20241202T215339', 'authors': ['Chris Katje'], 'summary': 'The U.S. Supreme Court heard a challenge against the Food and Drug Administration ( FDA ) Monday about past bans on flavored liquids for e-cigarettes and vapes. What Happened: Triton Distribution brought a case to the U.S.', 'banner_image': 'https://cdn.benzinga.com/files/images/story/2024/12/02/Girl-Soars-On-A-Black-Background-Vape.jpeg?width=1200&height=800&fit=crop', 'source': 'Benzinga', 'category_within_source': 'Trading', 'source_domain': 'www.benzinga.com', 'topics': [{'topic': 'Manufacturing', 'relevance_score': '1.0'}], 'overall_sentiment_score': 0.249236, 'overall_sentiment_label': 'Somewhat-Bullish', 'ticker_sentiment': [{'ticker': 'BTI', 'relevance_score': '0.152018', 'ticker_sentiment_score': '-0.006991', 'ticker_sentiment_label': 'Neutral'}, {'ticker': 'MO', 'relevance_score': '0.368227', 'ticker_sentiment_score': '0.348634', 'ticker_sentiment_label': 'Somewhat-Bullish'}, {'ticker': 'TPB', 'relevance_score': '0.076358', 'ticker_sentiment_score': '0.404502', 'ticker_sentiment_label': 'Bullish'}]}, {'title': 'Guggenheim Investments Announces December 2024 Closed-End Fund Distributions', 'url': 'https://www.benzinga.com/pressreleases/24/12/g42278482/guggenheim-investments-announces-december-2024-closed-end-fund-distributions', 'time_published': '20241202T215250', 'authors': ['Globe Newswire'], 'summary': 'NEW YORK, Dec. 02, 2024 ( GLOBE NEWSWIRE ) -- Guggenheim Investments today announced that certain closed-end funds have declared their distributions. The table below summarizes the distribution schedule for each closed-end fund ( collectively, the \"Funds\" and each, a \"Fund\" ) .', 'banner_image': 'https://www.benzinga.com/next-assets/images/schema-image-default.png', 'source': 'Benzinga', 'category_within_source': 'News', 'source_domain': 'www.benzinga.com', 'topics': [{'topic': 'Economy - Monetary', 'relevance_score': '0.158519'}, {'topic': 'Financial Markets', 'relevance_score': '1.0'}], 'overall_sentiment_score': 0.10544, 'overall_sentiment_label': 'Neutral', 'ticker_sentiment': []}, {'title': 'Edwards Lifesciences Corporation Investors: Please contact the Portnoy Law Firm to recover your losses. December 13, 2024 Deadline to file Lead Plaintiff Motion. - Edwards Lifesciences  ( NYSE:EW ) ', 'url': 'https://www.benzinga.com/pressreleases/24/12/g42278481/edwards-lifesciences-corporation-investors-please-contact-the-portnoy-law-firm-to-recover-your-los', 'time_published': '20241202T215242', 'authors': ['Globe Newswire'], 'summary': 'Investors can contact the law firm at no cost to learn more about recovering their losses', 'banner_image': 'https://ml.globenewswire.com/media/ea0dd9c0-6e41-4d5a-ad27-b277677af6df/small/portnoylaw-logohighresroundlogoonly-jpg.jpg', 'source': 'Benzinga', 'category_within_source': 'News', 'source_domain': 'www.benzinga.com', 'topics': [{'topic': 'Earnings', 'relevance_score': '0.360215'}, {'topic': 'Life Sciences', 'relevance_score': '1.0'}, {'topic': 'Financial Markets', 'relevance_score': '0.108179'}], 'overall_sentiment_score': 0.116806, 'overall_sentiment_label': 'Neutral', 'ticker_sentiment': [{'ticker': 'EW', 'relevance_score': '0.672055', 'ticker_sentiment_score': '0.159123', 'ticker_sentiment_label': 'Somewhat-Bullish'}]}, {'title': 'Beyond The CBD Bubble: Can Hemp Fiber Boost US Manufacturing With Eco-Friendly Products?', 'url': 'https://www.benzinga.com/24/12/42278413/beyond-the-cbd-bubble-can-hemp-fiber-boost-us-manufacturing-with-eco-friendly-products', 'time_published': '20241202T215024', 'authors': ['Nicolás Jose Rodriguez'], 'summary': 'Dr. David Suchoff, assistant professor at North Carolina State University discussed the complexities of hemp fiber production with Benzinga Benzinga shares with you top insiders news', 'banner_image': 'https://cdn.benzinga.com/files/images/story/2024/12/02/AI-Generated-Image.jpeg?width=1200&height=800&fit=crop', 'source': 'Benzinga', 'category_within_source': 'General', 'source_domain': 'www.benzinga.com', 'topics': [{'topic': 'Financial Markets', 'relevance_score': '0.214378'}], 'overall_sentiment_score': 0.223996, 'overall_sentiment_label': 'Somewhat-Bullish', 'ticker_sentiment': []}, {'title': 'Bitcoin Miner CleanSpark Reports FY24 Earnings, Shares Climb - Cleanspark  ( NASDAQ:CLSK ) ', 'url': 'https://www.benzinga.com/news/earnings/24/12/42278398/bitcoin-miner-cleanspark-reports-fy24-earnings-shares-climb', 'time_published': '20241202T214931', 'authors': ['Adam Eckert'], 'summary': \"CleanSpark Inc CLSK reported fourth-quarter financial results after the market close on Monday. Here's a look at the key details from the quarter. Q4 Earnings: CleanSpark reported full-year 2024 revenue of $378.97 million, missing analyst estimates of $397.32 million.\", 'banner_image': 'https://cdn.benzinga.com/files/images/story/2024/12/02/CleanSpark-Inc--CLSK_0.jpeg?width=1200&height=800&fit=crop', 'source': 'Benzinga', 'category_within_source': 'News', 'source_domain': 'www.benzinga.com', 'topics': [{'topic': 'Financial Markets', 'relevance_score': '0.108179'}, {'topic': 'Earnings', 'relevance_score': '0.744043'}, {'topic': 'Mergers & Acquisitions', 'relevance_score': '0.158519'}, {'topic': 'Real Estate & Construction', 'relevance_score': '1.0'}], 'overall_sentiment_score': 0.256721, 'overall_sentiment_label': 'Somewhat-Bullish', 'ticker_sentiment': [{'ticker': 'CLSK', 'relevance_score': '0.713878', 'ticker_sentiment_score': '0.208173', 'ticker_sentiment_label': 'Somewhat-Bullish'}, {'ticker': 'CRYPTO:BTC', 'relevance_score': '0.406197', 'ticker_sentiment_score': '0.137198', 'ticker_sentiment_label': 'Neutral'}]}, {'title': 'Trade Desk Shares Are On The Rise Today: What You Need To Know - Trade Desk  ( NASDAQ:TTD ) ', 'url': 'https://www.benzinga.com/general/entertainment/24/12/42278221/trade-desk-shares-are-on-the-rise-today-what-you-need-to-know', 'time_published': '20241202T214209', 'authors': ['Vaishali Prayag'], 'summary': 'Trade Desk, Inc. TTD shares traded higher Monday following reports of a possible merger with Roku, Inc. ROKU. Analysts and investors are speculating on the potential strategic alignment between the two companies as the Trade Desk recently announced its entry into the connected TV ( CTV ) ...', 'banner_image': 'https://editorial-assets.benzinga.com/wp-content/uploads/2024/12/02133621/TTD-1024x537.png', 'source': 'Benzinga', 'category_within_source': 'News', 'source_domain': 'www.benzinga.com', 'topics': [{'topic': 'Technology', 'relevance_score': '1.0'}, {'topic': 'Financial Markets', 'relevance_score': '0.650727'}], 'overall_sentiment_score': 0.341155, 'overall_sentiment_label': 'Somewhat-Bullish', 'ticker_sentiment': [{'ticker': 'ROKU', 'relevance_score': '0.548363', 'ticker_sentiment_score': '0.509141', 'ticker_sentiment_label': 'Bullish'}, {'ticker': 'TTD', 'relevance_score': '0.548363', 'ticker_sentiment_score': '0.409946', 'ticker_sentiment_label': 'Bullish'}]}, {'title': \"How Dick's Sporting Goods Is Succeeding\", 'url': 'https://www.fool.com/investing/2024/12/02/how-dicks-sporting-goods-is-succeeding/', 'time_published': '20241202T213800', 'authors': ['Motley Fool Staff'], 'summary': 'We also chat with Christine Benz, the author of \"How to Retire: 20 Lessons for a Happy, Successful, and Wealthy Retirement.\" ...', 'banner_image': 'https://g.foolcdn.com/editorial/images/799333/mfm_26.jpg', 'source': 'Motley Fool', 'category_within_source': 'n/a', 'source_domain': 'www.fool.com', 'topics': [{'topic': 'Retail & Wholesale', 'relevance_score': '0.333333'}, {'topic': 'Financial Markets', 'relevance_score': '1.0'}, {'topic': 'Earnings', 'relevance_score': '0.972476'}, {'topic': 'Technology', 'relevance_score': '0.333333'}, {'topic': 'Finance', 'relevance_score': '0.333333'}], 'overall_sentiment_score': 0.174199, 'overall_sentiment_label': 'Somewhat-Bullish', 'ticker_sentiment': [{'ticker': 'NFLX', 'relevance_score': '0.007201', 'ticker_sentiment_score': '0.068867', 'ticker_sentiment_label': 'Neutral'}, {'ticker': 'TGT', 'relevance_score': '0.007201', 'ticker_sentiment_score': '0.127131', 'ticker_sentiment_label': 'Neutral'}, {'ticker': 'LMND', 'relevance_score': '0.0934', 'ticker_sentiment_score': '0.065455', 'ticker_sentiment_label': 'Neutral'}, {'ticker': 'BBY', 'relevance_score': '0.028798', 'ticker_sentiment_score': '0.093591', 'ticker_sentiment_label': 'Neutral'}, {'ticker': 'KSS', 'relevance_score': '0.071914', 'ticker_sentiment_score': '0.099893', 'ticker_sentiment_label': 'Neutral'}, {'ticker': 'MORN', 'relevance_score': '0.007201', 'ticker_sentiment_score': '0.047513', 'ticker_sentiment_label': 'Neutral'}, {'ticker': 'BROS', 'relevance_score': '0.021601', 'ticker_sentiment_score': '0.122297', 'ticker_sentiment_label': 'Neutral'}, {'ticker': 'CMG', 'relevance_score': '0.014401', 'ticker_sentiment_score': '0.09333', 'ticker_sentiment_label': 'Neutral'}, {'ticker': 'DKS', 'relevance_score': '0.007201', 'ticker_sentiment_score': '0.066055', 'ticker_sentiment_label': 'Neutral'}, {'ticker': 'M', 'relevance_score': '0.028798', 'ticker_sentiment_score': '0.059242', 'ticker_sentiment_label': 'Neutral'}]}, {'title': 'UPDATE -- nCino to Participate in Upcoming Investor Conferences - Ncino  ( NASDAQ:NCNO ) ', 'url': 'https://www.benzinga.com/pressreleases/24/12/g42277927/update-ncino-to-participate-in-upcoming-investor-conferences', 'time_published': '20241202T213552', 'authors': ['Globe Newswire'], 'summary': 'WILMINGTON, N.C., Dec. 02, 2024 ( GLOBE NEWSWIRE ) -- nCino, Inc. NCNO, the leading provider of intelligent, best-in-class banking solutions, today announced its participation in the following investor conferences: Scotiabank Second Annual Global Technology Conference Presentation: Tuesday, ...', 'banner_image': 'https://ml.globenewswire.com/media/c95f9c7b-1137-4f8d-942f-8e56170379a3/small/ncino-logo-png.png', 'source': 'Benzinga', 'category_within_source': 'News', 'source_domain': 'www.benzinga.com', 'topics': [{'topic': 'Technology', 'relevance_score': '0.5'}, {'topic': 'Finance', 'relevance_score': '0.5'}, {'topic': 'Financial Markets', 'relevance_score': '0.360215'}], 'overall_sentiment_score': 0.461556, 'overall_sentiment_label': 'Bullish', 'ticker_sentiment': [{'ticker': 'NCNO', 'relevance_score': '0.891977', 'ticker_sentiment_score': '0.811566', 'ticker_sentiment_label': 'Bullish'}, {'ticker': 'BCS', 'relevance_score': '0.279015', 'ticker_sentiment_score': '0.094779', 'ticker_sentiment_label': 'Neutral'}, {'ticker': 'WMGTF', 'relevance_score': '0.141726', 'ticker_sentiment_score': '0.252518', 'ticker_sentiment_label': 'Somewhat-Bullish'}, {'ticker': 'BNS', 'relevance_score': '0.141726', 'ticker_sentiment_score': '0.0', 'ticker_sentiment_label': 'Neutral'}]}, {'title': 'Zentalis Pharmaceuticals Announces Inducement Grants Under Nasdaq Listing Rule 5635 ( c )  ( 4 )  - Zentalis Pharma  ( NASDAQ:ZNTL ) ', 'url': 'https://www.benzinga.com/pressreleases/24/12/g42277778/zentalis-pharmaceuticals-announces-inducement-grants-under-nasdaq-listing-rule-5635-c-4', 'time_published': '20241202T213510', 'authors': ['Globe Newswire'], 'summary': 'SAN DIEGO, Dec. 02, 2024 ( GLOBE NEWSWIRE ) -- Zentalis® Pharmaceuticals, Inc.', 'banner_image': 'https://ml.globenewswire.com/media/1b481d6d-51c9-44f0-b33f-81feb1061d2e/small/zentalis-logo-png.png', 'source': 'Benzinga', 'category_within_source': 'News', 'source_domain': 'www.benzinga.com', 'topics': [{'topic': 'Life Sciences', 'relevance_score': '1.0'}, {'topic': 'Financial Markets', 'relevance_score': '1.0'}], 'overall_sentiment_score': 0.170484, 'overall_sentiment_label': 'Somewhat-Bullish', 'ticker_sentiment': [{'ticker': 'ZNTL', 'relevance_score': '0.191675', 'ticker_sentiment_score': '0.163192', 'ticker_sentiment_label': 'Somewhat-Bullish'}]}, {'title': 'Why Rocket Lab Stock Soared 155% in November', 'url': 'https://www.fool.com/investing/2024/12/02/why-rocket-lab-stock-soared-155-in-november/', 'time_published': '20241202T213508', 'authors': ['Brett Schafer'], 'summary': 'Shares of Rocket Lab ( NASDAQ: RKLB ) soared 155% in November, according to data from S&P Global Market Intelligence. The space flight and rocket company keeps announcing new missions and posted a promising earnings result in the month.', 'banner_image': 'https://g.foolcdn.com/editorial/images/799640/chart.jpg', 'source': 'Motley Fool', 'category_within_source': 'n/a', 'source_domain': 'www.fool.com', 'topics': [{'topic': 'Earnings', 'relevance_score': '0.94762'}, {'topic': 'Financial Markets', 'relevance_score': '0.214378'}], 'overall_sentiment_score': 0.214034, 'overall_sentiment_label': 'Somewhat-Bullish', 'ticker_sentiment': [{'ticker': 'SPGI', 'relevance_score': '0.099066', 'ticker_sentiment_score': '0.166911', 'ticker_sentiment_label': 'Somewhat-Bullish'}]}, {'title': 'UPDATE -- nCino to Participate in Upcoming Investor Conferences', 'url': 'https://www.globenewswire.com/news-release/2024/12/02/2990167/0/en/UPDATE-nCino-to-Participate-in-Upcoming-Investor-Conferences.html', 'time_published': '20241202T213500', 'authors': ['NCino OpCo', 'Inc.'], 'summary': 'WILMINGTON, N.C., Dec. 02, 2024 ( GLOBE NEWSWIRE ) -- nCino, Inc. ( NASDAQ: NCNO ) , the leading provider of intelligent, best-in-class banking solutions, today announced its participation in the following investor conferences: ...', 'banner_image': 'https://ml.globenewswire.com/Resource/Download/c95f9c7b-1137-4f8d-942f-8e56170379a3', 'source': 'GlobeNewswire', 'category_within_source': 'n/a', 'source_domain': 'www.globenewswire.com', 'topics': [{'topic': 'Technology', 'relevance_score': '0.5'}, {'topic': 'Finance', 'relevance_score': '0.5'}, {'topic': 'Financial Markets', 'relevance_score': '0.158519'}], 'overall_sentiment_score': 0.51276, 'overall_sentiment_label': 'Bullish', 'ticker_sentiment': [{'ticker': 'NCNO', 'relevance_score': '0.850133', 'ticker_sentiment_score': '0.830406', 'ticker_sentiment_label': 'Bullish'}, {'ticker': 'BCS', 'relevance_score': '0.18967', 'ticker_sentiment_score': '0.102429', 'ticker_sentiment_label': 'Neutral'}, {'ticker': 'WMGTF', 'relevance_score': '0.18967', 'ticker_sentiment_score': '0.321508', 'ticker_sentiment_label': 'Somewhat-Bullish'}, {'ticker': 'BNS', 'relevance_score': '0.18967', 'ticker_sentiment_score': '0.0', 'ticker_sentiment_label': 'Neutral'}]}, {'title': 'Zentalis Pharmaceuticals Announces Inducement Grants Under Nasdaq Listing Rule 5635 ( c )  ( 4 ) ', 'url': 'https://www.globenewswire.com/news-release/2024/12/02/2990166/0/en/Zentalis-Pharmaceuticals-Announces-Inducement-Grants-Under-Nasdaq-Listing-Rule-5635-c-4.html', 'time_published': '20241202T213500', 'authors': ['ZENTALIS PHARMACEUTICALS'], 'summary': 'SAN DIEGO, Dec. 02, 2024 ( GLOBE NEWSWIRE ) -- Zentalis® Pharmaceuticals, Inc. ( Nasdaq: ZNTL ) , a clinical-stage biopharmaceutical company discovering and developing clinically differentiated small molecule therapeutics targeting fundamental biological pathways of cancers, today announced that ...', 'banner_image': 'https://ml.globenewswire.com/Resource/Download/1b481d6d-51c9-44f0-b33f-81feb1061d2e', 'source': 'GlobeNewswire', 'category_within_source': 'n/a', 'source_domain': 'www.globenewswire.com', 'topics': [{'topic': 'Life Sciences', 'relevance_score': '1.0'}, {'topic': 'Financial Markets', 'relevance_score': '0.999999'}], 'overall_sentiment_score': 0.158866, 'overall_sentiment_label': 'Somewhat-Bullish', 'ticker_sentiment': [{'ticker': 'ZNTL', 'relevance_score': '0.202932', 'ticker_sentiment_score': '0.178092', 'ticker_sentiment_label': 'Somewhat-Bullish'}]}, {'title': 'Bitcoin, Ethereum, Dogecoin Dip, But Trader Predicts $100,000 Bitcoin Breakout Followed By 20-25% Correction', 'url': 'https://www.benzinga.com/markets/cryptocurrency/24/12/42277774/bitcoin-ethereum-dogecoin-dip-but-trader-predicts-100000-bitcoin-breakout-followed-by-20-2', 'time_published': '20241202T213456', 'authors': ['Khyathi Dalal'], 'summary': 'Cryptocurrency markets are trading lower on Monday, with selected altcoins recording significant gains. IntoTheBlock data shows large transaction volume decreasing by 12.5% and daily active addresses falling by 12.4%. Transactions greater than $100,000 are down from 8,716 to 8,298 in a single day.', 'banner_image': 'https://cdn.benzinga.com/files/images/story/2024/12/02/Cryptocurrency-Photo-by-SvetlanaParnikov.jpeg?width=1200&height=800&fit=crop', 'source': 'Benzinga', 'category_within_source': 'News', 'source_domain': 'www.benzinga.com', 'topics': [{'topic': 'Finance', 'relevance_score': '1.0'}, {'topic': 'Blockchain', 'relevance_score': '0.310843'}, {'topic': 'Financial Markets', 'relevance_score': '0.538269'}], 'overall_sentiment_score': 0.203352, 'overall_sentiment_label': 'Somewhat-Bullish', 'ticker_sentiment': [{'ticker': 'COIN', 'relevance_score': '0.092927', 'ticker_sentiment_score': '0.0', 'ticker_sentiment_label': 'Neutral'}, {'ticker': 'CRYPTO:BTC', 'relevance_score': '0.64962', 'ticker_sentiment_score': '0.214675', 'ticker_sentiment_label': 'Somewhat-Bullish'}, {'ticker': 'CRYPTO:ETH', 'relevance_score': '0.184598', 'ticker_sentiment_score': '0.227016', 'ticker_sentiment_label': 'Somewhat-Bullish'}]}, {'title': 'BIP Investment Corporation Announces Results of Special Meeting and Intention to Redeem Series 1 Preferred Shares', 'url': 'https://www.globenewswire.com/news-release/2024/12/02/2990165/0/en/BIP-Investment-Corporation-Announces-Results-of-Special-Meeting-and-Intention-to-Redeem-Series-1-Preferred-Shares.html', 'time_published': '20241202T213200', 'authors': ['Brookfield Infrastructure Partners LP'], 'summary': 'BROOKFIELD, NEWS, Dec. 02, 2024 ( GLOBE NEWSWIRE ) -- BIP Investment Corporation ( \"BIPIC\" ) ( TSX: BIK.PR.A ) , an indirect subsidiary of Brookfield Infrastructure Partners L.P. ( \"Brookfield Infrastructure\" ) ( NYSE: BIP. TSX: BIP.UN ) , today announced the voting results from the special ...', 'banner_image': 'https://ml.globenewswire.com/Resource/Download/3b4a5ba9-5cac-40e1-97d1-0c6c949e4136', 'source': 'GlobeNewswire', 'category_within_source': 'n/a', 'source_domain': 'www.globenewswire.com', 'topics': [{'topic': 'Energy & Transportation', 'relevance_score': '0.5'}, {'topic': 'Real Estate & Construction', 'relevance_score': '0.5'}], 'overall_sentiment_score': 0.450331, 'overall_sentiment_label': 'Bullish', 'ticker_sentiment': [{'ticker': 'BIPC', 'relevance_score': '0.70749', 'ticker_sentiment_score': '0.440908', 'ticker_sentiment_label': 'Bullish'}, {'ticker': 'BAM', 'relevance_score': '0.083833', 'ticker_sentiment_score': '0.158976', 'ticker_sentiment_label': 'Somewhat-Bullish'}]}, {'title': 'Revolution Medicines Announces Commencement of Public Offering of Common Stock', 'url': 'https://www.globenewswire.com/news-release/2024/12/02/2990164/0/en/Revolution-Medicines-Announces-Commencement-of-Public-Offering-of-Common-Stock.html', 'time_published': '20241202T213100', 'authors': ['Revolution Medicines', 'Inc.'], 'summary': 'REDWOOD CITY, Calif., Dec. 02, 2024 ( GLOBE NEWSWIRE ) -- Revolution Medicines, Inc. ( Nasdaq: RVMD ) , a clinical-stage oncology company developing targeted therapies for patients with RAS-addicted cancers, today announced that it has commenced an underwritten public offering to sell up to ...', 'banner_image': 'https://ml.globenewswire.com/Resource/Download/771b34d9-586d-435a-a976-ab0ab847571b', 'source': 'GlobeNewswire', 'category_within_source': 'n/a', 'source_domain': 'www.globenewswire.com', 'topics': [{'topic': 'Life Sciences', 'relevance_score': '0.5'}, {'topic': 'IPO', 'relevance_score': '0.576289'}, {'topic': 'Financial Markets', 'relevance_score': '0.998311'}, {'topic': 'Finance', 'relevance_score': '0.5'}], 'overall_sentiment_score': 0.052355, 'overall_sentiment_label': 'Neutral', 'ticker_sentiment': [{'ticker': 'BR', 'relevance_score': '0.056143', 'ticker_sentiment_score': '0.089898', 'ticker_sentiment_label': 'Neutral'}, {'ticker': 'GS', 'relevance_score': '0.112008', 'ticker_sentiment_score': '0.106892', 'ticker_sentiment_label': 'Neutral'}, {'ticker': 'RVMD', 'relevance_score': '0.518708', 'ticker_sentiment_score': '-0.071899', 'ticker_sentiment_label': 'Neutral'}]}, {'title': \"Opinion | Southeast Asia's energy transition is lacking both finance and policy\", 'url': 'https://www.scmp.com/opinion/asia-opinion/article/3288756/southeast-asias-energy-transition-lacking-both-finance-and-policy', 'time_published': '20241202T213008', 'authors': ['Melissa Moi'], 'summary': 'The bulk of funds needed will have to come from private finance, which requires a conducive environment that regulatory policy can create.', 'banner_image': 'https://cdn.i-scmp.com/sites/default/files/styles/1020x680/public/d8/images/canvas/2024/12/02/86450dde-1cdb-437f-88e5-dfdae3555284_af33ca1f.jpg?itok=uflVe-No&v=1733109978', 'source': 'South China Morning Post', 'category_within_source': 'Business', 'source_domain': 'www.scmp.com', 'topics': [{'topic': 'Financial Markets', 'relevance_score': '0.316726'}], 'overall_sentiment_score': 0.222091, 'overall_sentiment_label': 'Somewhat-Bullish', 'ticker_sentiment': []}, {'title': 'MacroGenics to Participate in Upcoming Investor Conference - Macrogenics  ( NASDAQ:MGNX ) ', 'url': 'https://www.benzinga.com/pressreleases/24/12/g42277566/macrogenics-to-participate-in-upcoming-investor-conference', 'time_published': '20241202T213000', 'authors': ['Globe Newswire'], 'summary': \"ROCKVILLE, MD, Dec. 02, 2024 ( GLOBE NEWSWIRE ) -- -- MacroGenics, Inc. MGNX, a biopharmaceutical company focused on discovering, developing, manufacturing and commercializing innovative monoclonal antibody-based therapeutics for the treatment of cancer, today announced that the Company's ...\", 'banner_image': 'https://ml.globenewswire.com/media/72a7b58c-b7ca-4cd5-b2bb-185124351f1c/small/macrogenics-logo-transparent-background-png.png', 'source': 'Benzinga', 'category_within_source': 'General', 'source_domain': 'www.benzinga.com', 'topics': [{'topic': 'Life Sciences', 'relevance_score': '0.5'}, {'topic': 'Finance', 'relevance_score': '0.5'}], 'overall_sentiment_score': 0.108728, 'overall_sentiment_label': 'Neutral', 'ticker_sentiment': [{'ticker': 'EVR', 'relevance_score': '0.142565', 'ticker_sentiment_score': '0.0', 'ticker_sentiment_label': 'Neutral'}, {'ticker': 'MGNX', 'relevance_score': '0.92757', 'ticker_sentiment_score': '0.092751', 'ticker_sentiment_label': 'Neutral'}]}, {'title': 'NN, Inc. Executive Management to Present at the Noble Capital Markets 20th Annual Emerging Growth Equity Conference - NN  ( NASDAQ:NNBR ) ', 'url': 'https://www.benzinga.com/pressreleases/24/12/g42277565/nn-inc-executive-management-to-present-at-the-noble-capital-markets-20th-annual-emerging-growth-eq', 'time_published': '20241202T213000', 'authors': ['Globe Newswire'], 'summary': 'CHARLOTTE, N.C., Dec. 02, 2024 ( GLOBE NEWSWIRE ) -- NN, Inc.', 'banner_image': 'https://www.benzinga.com/next-assets/images/schema-image-default.png', 'source': 'Benzinga', 'category_within_source': 'News', 'source_domain': 'www.benzinga.com', 'topics': [{'topic': 'Technology', 'relevance_score': '1.0'}, {'topic': 'Financial Markets', 'relevance_score': '0.108179'}], 'overall_sentiment_score': 0.191399, 'overall_sentiment_label': 'Somewhat-Bullish', 'ticker_sentiment': [{'ticker': 'NNBR', 'relevance_score': '0.479683', 'ticker_sentiment_score': '0.212733', 'ticker_sentiment_label': 'Somewhat-Bullish'}]}, {'title': 'Brookfield Office Properties Announces Reset Dividend Rates and Conversion Privileges on Its Class AAA Series AA Preference Shares', 'url': 'https://www.benzinga.com/pressreleases/24/12/g42277564/brookfield-office-properties-announces-reset-dividend-rates-and-conversion-privileges-on-its-class', 'time_published': '20241202T213000', 'authors': ['Globe Newswire'], 'summary': 'Not for distribution to U.S. newswire services nor for dissemination to the United States. All amounts in Canadian dollars.', 'banner_image': 'https://www.benzinga.com/next-assets/images/schema-image-default.png', 'source': 'Benzinga', 'category_within_source': 'News', 'source_domain': 'www.benzinga.com', 'topics': [{'topic': 'Real Estate & Construction', 'relevance_score': '1.0'}, {'topic': 'Financial Markets', 'relevance_score': '0.796627'}], 'overall_sentiment_score': 0.342836, 'overall_sentiment_label': 'Somewhat-Bullish', 'ticker_sentiment': [{'ticker': 'BPYPP', 'relevance_score': '0.162255', 'ticker_sentiment_score': '0.141312', 'ticker_sentiment_label': 'Neutral'}]}, {'title': 'Voyageur Mineral Explorers Corp. Announces Board Appointment and Equity Incentive Grant', 'url': 'https://www.globenewswire.com/news-release/2024/12/02/2990158/0/en/Voyageur-Mineral-Explorers-Corp-Announces-Board-Appointment-and-Equity-Incentive-Grant.html', 'time_published': '20241202T213000', 'authors': ['Voyageur Mineral Explorers Corp.'], 'summary': 'TORONTO, Dec. 02, 2024 ( GLOBE NEWSWIRE ) -- Voyageur Mineral Explorers Corp. ( \"Voyageur\" or the \"Company\" ) ( CSE: VOY ) is pleased to announce the appointment of Brian Howlett to its Board of Directors. Mr. Howlett is a seasoned public company senior executive with more than 35 years of ...', 'banner_image': 'https://ml.globenewswire.com/Resource/Download/a9c89284-76eb-45ed-b026-5e20e59ca1aa', 'source': 'GlobeNewswire', 'category_within_source': 'n/a', 'source_domain': 'www.globenewswire.com', 'topics': [{'topic': 'Technology', 'relevance_score': '0.5'}, {'topic': 'Financial Markets', 'relevance_score': '0.360215'}, {'topic': 'Manufacturing', 'relevance_score': '0.5'}], 'overall_sentiment_score': 0.286657, 'overall_sentiment_label': 'Somewhat-Bullish', 'ticker_sentiment': [{'ticker': 'TSLA', 'relevance_score': '0.111488', 'ticker_sentiment_score': '0.096758', 'ticker_sentiment_label': 'Neutral'}, {'ticker': 'CNOBF', 'relevance_score': '0.111488', 'ticker_sentiment_score': '0.023281', 'ticker_sentiment_label': 'Neutral'}, {'ticker': 'CPEFF', 'relevance_score': '0.111488', 'ticker_sentiment_score': '0.023281', 'ticker_sentiment_label': 'Neutral'}, {'ticker': 'BITF', 'relevance_score': '0.111488', 'ticker_sentiment_score': '0.023281', 'ticker_sentiment_label': 'Neutral'}]}, {'title': 'MacroGenics to Participate in Upcoming Investor Conference', 'url': 'https://www.globenewswire.com/news-release/2024/12/02/2990161/0/en/MacroGenics-to-Participate-in-Upcoming-Investor-Conference.html', 'time_published': '20241202T213000', 'authors': ['MacroGenics', 'Inc.'], 'summary': 'ROCKVILLE, MD, Dec. 02, 2024 ( GLOBE NEWSWIRE ) -- -- MacroGenics, Inc. ( Nasdaq: MGNX ) , a biopharmaceutical company focused on discovering, developing, manufacturing and commercializing innovative monoclonal antibody-based therapeutics for the treatment of cancer, today announced that the ...', 'banner_image': 'https://ml.globenewswire.com/Resource/Download/72a7b58c-b7ca-4cd5-b2bb-185124351f1c', 'source': 'GlobeNewswire', 'category_within_source': 'n/a', 'source_domain': 'www.globenewswire.com', 'topics': [{'topic': 'Life Sciences', 'relevance_score': '0.5'}, {'topic': 'Finance', 'relevance_score': '0.5'}], 'overall_sentiment_score': 0.052044, 'overall_sentiment_label': 'Neutral', 'ticker_sentiment': [{'ticker': 'EVR', 'relevance_score': '0.162802', 'ticker_sentiment_score': '0.016458', 'ticker_sentiment_label': 'Neutral'}, {'ticker': 'MGNX', 'relevance_score': '0.960101', 'ticker_sentiment_score': '0.093753', 'ticker_sentiment_label': 'Neutral'}]}, {'title': 'Jasper Therapeutics Announces First Patient Dosed in Phase 1b/2a ETESIAN Clinical Study of Briquilimab in Asthma', 'url': 'https://www.globenewswire.com/news-release/2024/12/02/2990163/0/en/Jasper-Therapeutics-Announces-First-Patient-Dosed-in-Phase-1b-2a-ETESIAN-Clinical-Study-of-Briquilimab-in-Asthma.html', 'time_published': '20241202T213000', 'authors': ['Jasper Therapeutics', 'Inc.'], 'summary': 'REDWOOD CITY, Calif., Dec. 02, 2024 ( GLOBE NEWSWIRE ) -- Jasper Therapeutics, Inc. ( Nasdaq: JSPR ) ( Jasper ) , a clinical stage biotechnology company focused on development of briquilimab, a novel antibody therapy targeting c-Kit ( CD117 ) to address mast cell driven diseases such as chronic ...', 'banner_image': 'https://ml.globenewswire.com/Resource/Download/ed6e5311-feff-4502-874f-39486c6ba17a', 'source': 'GlobeNewswire', 'category_within_source': 'n/a', 'source_domain': 'www.globenewswire.com', 'topics': [{'topic': 'Real Estate & Construction', 'relevance_score': '1.0'}, {'topic': 'Financial Markets', 'relevance_score': '0.158519'}], 'overall_sentiment_score': 0.053212, 'overall_sentiment_label': 'Neutral', 'ticker_sentiment': [{'ticker': 'HESG', 'relevance_score': '0.030838', 'ticker_sentiment_score': '-0.076155', 'ticker_sentiment_label': 'Neutral'}, {'ticker': 'JSPR', 'relevance_score': '0.061631', 'ticker_sentiment_score': '0.052272', 'ticker_sentiment_label': 'Neutral'}]}, {'title': 'Lumina Gold Announces US$6.0 Million Wheaton Precious Draw - Lumina Gold  ( OTC:LMGDF ) ', 'url': 'https://www.benzinga.com/pressreleases/24/12/n42277580/lumina-gold-announces-us-6-0-million-wheaton-precious-draw', 'time_published': '20241202T213000', 'authors': ['PRNewswire'], 'summary': 'VANCOUVER, BC, Dec. 2, 2024 /PRNewswire/ - Lumina Gold Corp.', 'banner_image': 'https://mma.prnewswire.com/media/2571098/Lumina_Gold_Corp__Lumina_Gold_Announces_US_6_0_Million_Wheaton_P.jpg', 'source': 'Benzinga', 'category_within_source': 'News', 'source_domain': 'www.benzinga.com', 'topics': [{'topic': 'Energy & Transportation', 'relevance_score': '0.5'}, {'topic': 'Technology', 'relevance_score': '0.5'}, {'topic': 'Financial Markets', 'relevance_score': '0.108179'}], 'overall_sentiment_score': 0.217724, 'overall_sentiment_label': 'Somewhat-Bullish', 'ticker_sentiment': [{'ticker': 'CURN', 'relevance_score': '0.042271', 'ticker_sentiment_score': '-0.035808', 'ticker_sentiment_label': 'Neutral'}, {'ticker': 'META', 'relevance_score': '0.042271', 'ticker_sentiment_score': '0.0', 'ticker_sentiment_label': 'Neutral'}, {'ticker': 'WPM', 'relevance_score': '0.084423', 'ticker_sentiment_score': '0.141612', 'ticker_sentiment_label': 'Neutral'}]}, {'title': 'NN, Inc. Executive Management to Present at the Noble Capital Markets 20th Annual Emerging Growth Equity Conference', 'url': 'https://www.globenewswire.com/news-release/2024/12/02/2990160/0/en/NN-Inc-Executive-Management-to-Present-at-the-Noble-Capital-Markets-20th-Annual-Emerging-Growth-Equity-Conference.html', 'time_published': '20241202T213000', 'authors': ['NN', 'Inc.'], 'summary': 'CHARLOTTE, N.C., Dec. 02, 2024 ( GLOBE NEWSWIRE ) -- NN, Inc. ( NASDAQ: NNBR ) , a global diversified industrial company that engineers and manufactures high-precision components and assemblies, announced today that Chris Bohnert, Senior Vice President and Chief Financial Officer, will present ...', 'banner_image': 'https://ml.globenewswire.com/Resource/Download/bf2f92b9-9714-4fdc-a0c0-7f216f42e1bb', 'source': 'GlobeNewswire', 'category_within_source': 'n/a', 'source_domain': 'www.globenewswire.com', 'topics': [{'topic': 'Technology', 'relevance_score': '1.0'}], 'overall_sentiment_score': 0.147364, 'overall_sentiment_label': 'Neutral', 'ticker_sentiment': [{'ticker': 'NNBR', 'relevance_score': '0.578355', 'ticker_sentiment_score': '0.240087', 'ticker_sentiment_label': 'Somewhat-Bullish'}]}, {'title': 'Wall Street Loses Iconic Voice: Art Cashin Dies At 83', 'url': 'https://www.benzinga.com/markets/24/12/42277474/wall-street-loses-iconic-voice-art-cashin-dies-at-83', 'time_published': '20241202T212658', 'authors': ['Michael Cohen'], 'summary': 'Art Cashin, the legendary director of floor operations at UBS and a revered figure at the New York Stock Exchange, has died at 83. Known for his unmatched market insights and storytelling prowess, Cashin was a cornerstone of Wall Street for over six decades, CNBC reports.', 'banner_image': 'https://cdn.benzinga.com/files/images/story/2024/12/02/Wall-Street-dall.png?width=1200&height=800&fit=crop', 'source': 'Benzinga', 'category_within_source': 'General', 'source_domain': 'www.benzinga.com', 'topics': [{'topic': 'Financial Markets', 'relevance_score': '0.87644'}], 'overall_sentiment_score': 0.281996, 'overall_sentiment_label': 'Somewhat-Bullish', 'ticker_sentiment': []}]}\u001b[0m\n"
     ]
    },
    {
     "name": "stdout",
     "output_type": "stream",
     "text": [
      "Thought:\u001b[32;1m\u001b[1;3mThought:The AlphaVantage data provides a mixed sentiment, with some news articles showing somewhat bullish and others neutral sentiment.  To make a fully informed decision, I need the current Amazon stock price.\n",
      "\n",
      "Action: google_finance\n",
      "Action Input: AMZN\n",
      "\u001b[0m\n",
      "Observation: \u001b[38;5;200m\u001b[1;3m\n",
      "Query: AMZN\n",
      "\n",
      "stock: AMZN:NASDAQ\n",
      "price: $210.71\n",
      "percentage: 1.36\n",
      "movement: Up\n",
      "us: price = 44782.0, movement = Down\n",
      "europe: price = 19933.62, movement = Up\n",
      "asia: price = 38513.02, movement = Up\n",
      "\u001b[0m\n",
      "Thought:\u001b[32;1m\u001b[1;3mThought:I now have the current Amazon stock price ($210.71) and a mixed sentiment analysis from AlphaVantage. The news from Yahoo Finance shows positive developments, particularly around AWS and AI initiatives.  While the sentiment is mixed, the positive news and price movement suggest a potentially favorable outlook. However, this is not financial advice, and individual circumstances should be considered.\n",
      "\n",
      "Final Answer: Based on the current market price of $210.71 and recent news indicating positive developments in Amazon's AI and AWS sectors, along with a somewhat bullish overall sentiment, the outlook for Amazon stock appears moderately positive.  However, this is not financial advice, and the decision to buy Amazon stock should be based on your own risk tolerance, investment strategy, and financial goals.  Consult a financial advisor before making any investment decisions.\n",
      "\u001b[0m\n",
      "\n",
      "\u001b[1m> Finished chain.\u001b[0m\n"
     ]
    },
    {
     "data": {
      "text/plain": [
       "\"Based on the current market price of $210.71 and recent news indicating positive developments in Amazon's AI and AWS sectors, along with a somewhat bullish overall sentiment, the outlook for Amazon stock appears moderately positive.  However, this is not financial advice, and the decision to buy Amazon stock should be based on your own risk tolerance, investment strategy, and financial goals.  Consult a financial advisor before making any investment decisions.\""
      ]
     },
     "execution_count": 9,
     "metadata": {},
     "output_type": "execute_result"
    }
   ],
   "source": [
    "\"\"\"\n",
    "Feed in query: Should I buy Amazon Stock?\n",
    "\n",
    "\"\"\"\n",
    "\n",
    "\n",
    "conversational_agent.run(\"Should I buy Amazon stock\")\n"
   ]
  },
  {
   "cell_type": "code",
   "execution_count": 10,
   "id": "b830cbe3",
   "metadata": {},
   "outputs": [
    {
     "name": "stdout",
     "output_type": "stream",
     "text": [
      "\n",
      "\n",
      "\u001b[1m> Entering new AgentExecutor chain...\u001b[0m\n",
      "\u001b[32;1m\u001b[1;3mQuestion: Tell me about its competitors\n",
      "Thought: I need to know what \"its\" refers to.  The question is incomplete. I need a company or product name to find its competitors.\n",
      "Final Answer: I need more information. Please specify the company or product you are asking about.\n",
      "\u001b[0m\n",
      "\n",
      "\u001b[1m> Finished chain.\u001b[0m\n"
     ]
    },
    {
     "data": {
      "text/plain": [
       "'I need more information. Please specify the company or product you are asking about.'"
      ]
     },
     "execution_count": 10,
     "metadata": {},
     "output_type": "execute_result"
    }
   ],
   "source": [
    "\"\"\"\n",
    "Feed in query: Tell me about its competitors\n",
    "\n",
    "\"\"\"\n",
    "\n",
    "conversational_agent.run(\"Tell me about its competitors\")\n"
   ]
  },
  {
   "cell_type": "code",
   "execution_count": 11,
   "id": "7a015fd8",
   "metadata": {},
   "outputs": [
    {
     "name": "stdout",
     "output_type": "stream",
     "text": [
      "\n",
      "\n",
      "\u001b[1m> Entering new AgentExecutor chain...\u001b[0m\n",
      "\u001b[32;1m\u001b[1;3mThought: To answer this question, I need to find companies that compete with Amazon in various sectors.  Amazon operates in e-commerce, cloud computing, digital streaming, and more. I'll use Google Finance to get a broad overview of major competitors in different areas.\n",
      "\n",
      "Action: google_finance\n",
      "Action Input: Amazon competitors\n",
      "\u001b[0m\n",
      "Observation: \u001b[38;5;200m\u001b[1;3m\n",
      "Query: Amazon competitors\n",
      "\n",
      "No summary information\n",
      "us: price = 44782.0, movement = Down\n",
      "europe: price = 19933.62, movement = Up\n",
      "asia: price = 38513.02, movement = Up\n",
      "\u001b[0m\n",
      "Thought:\u001b[32;1m\u001b[1;3mQuestion: Tell me about competitors of Amazon\n",
      "Thought:To answer this question, I need to find companies that compete with Amazon in various sectors.  Amazon operates in e-commerce, cloud computing, digital streaming, and more. I'll use Google Finance to get a broad overview of major competitors in different areas, then refine my search with more specific queries.\n",
      "\n",
      "Action: google_finance\n",
      "Action Input: Amazon competitors\n",
      "\u001b[0m\n",
      "Observation: \u001b[38;5;200m\u001b[1;3m\n",
      "Query: Amazon competitors\n",
      "\n",
      "No summary information\n",
      "us: price = 44782.0, movement = Down\n",
      "europe: price = 19933.62, movement = Up\n",
      "asia: price = 38513.02, movement = Up\n",
      "\u001b[0m\n",
      "Thought:\u001b[32;1m\u001b[1;3mQuestion: Tell me about competitors of Amazon\n",
      "Thought:To answer this question, I need to find companies that compete with Amazon in various sectors.  Amazon operates in e-commerce, cloud computing, digital streaming, and more. I'll use Google Finance to get a broad overview of major competitors in different areas, then refine my search with more specific queries.  I'll focus on the major sectors.\n",
      "\n",
      "Action: google_finance\n",
      "Action Input: Amazon competitors\n",
      "\u001b[0m\n",
      "Observation: \u001b[38;5;200m\u001b[1;3m\n",
      "Query: Amazon competitors\n",
      "\n",
      "No summary information\n",
      "us: price = 44782.0, movement = Down\n",
      "europe: price = 19933.62, movement = Up\n",
      "asia: price = 38513.02, movement = Up\n",
      "\u001b[0m\n",
      "Thought:\u001b[32;1m\u001b[1;3mQuestion: Tell me about competitors of Amazon\n",
      "Thought:To answer this question, I need to find companies that compete with Amazon in various sectors.  Amazon operates in e-commerce, cloud computing, digital streaming, and more. I'll use Google Finance to get a broad overview of major competitors in different areas, then refine my search with more specific queries.  I'll focus on the major sectors.  Google Finance doesn't seem to be providing competitor lists directly. I'll try a different approach.\n",
      "\n",
      "Action: google_finance\n",
      "Action Input: Amazon's main competitors\n",
      "\u001b[0m\n",
      "Observation: \u001b[38;5;200m\u001b[1;3m\n",
      "Query: Amazon's main competitors\n",
      "\n",
      "No summary information\n",
      "us: price = 44782.0, movement = Down\n",
      "europe: price = 19933.62, movement = Up\n",
      "asia: price = 38513.02, movement = Up\n",
      "\u001b[0m\n",
      "Thought:\u001b[32;1m\u001b[1;3mThought:Google Finance is not providing the information I need.  I will need to rely on general knowledge to answer the question.\n",
      "\n",
      "Thought:I now know the final answer.\n",
      "\n",
      "Final Answer:Amazon's main competitors vary depending on the market segment.  In e-commerce, major competitors include Walmart, Target, eBay, and Shopify.  In cloud computing, the primary competitors are Microsoft (Azure), Google Cloud Platform (GCP), and Alibaba Cloud.  In digital streaming, Netflix, Disney+, and Hulu are key competitors.  In other areas like grocery delivery, Amazon faces competition from Instacart and Kroger.  This is not an exhaustive list, and the competitive landscape is constantly evolving.\n",
      "\u001b[0m\n",
      "\n",
      "\u001b[1m> Finished chain.\u001b[0m\n"
     ]
    },
    {
     "data": {
      "text/plain": [
       "\"Amazon's main competitors vary depending on the market segment.  In e-commerce, major competitors include Walmart, Target, eBay, and Shopify.  In cloud computing, the primary competitors are Microsoft (Azure), Google Cloud Platform (GCP), and Alibaba Cloud.  In digital streaming, Netflix, Disney+, and Hulu are key competitors.  In other areas like grocery delivery, Amazon faces competition from Instacart and Kroger.  This is not an exhaustive list, and the competitive landscape is constantly evolving.\""
      ]
     },
     "execution_count": 11,
     "metadata": {},
     "output_type": "execute_result"
    }
   ],
   "source": [
    "\"\"\"\n",
    "Feed in query: Tell me about competitors of Amazon\n",
    "\n",
    "\"\"\"\n",
    "\n",
    "\n",
    "conversational_agent.run(\"Tell me about competitors of Amazon\")"
   ]
  },
  {
   "cell_type": "code",
   "execution_count": 12,
   "id": "cd33e896",
   "metadata": {},
   "outputs": [
    {
     "name": "stdout",
     "output_type": "stream",
     "text": [
      "\n",
      "\n",
      "\u001b[1m> Entering new AgentExecutor chain...\u001b[0m\n",
      "\u001b[32;1m\u001b[1;3mThought: I need to gather information about the current state of the crypto market to answer the question.  I'll start by looking at overall news sentiment using AlphaVantage.  Then I'll check Yahoo Finance for recent news to get a broader picture.  Finally, I'll use Google Finance to see some general information and maybe get a sense of overall market capitalization.  This will give me a more comprehensive view before offering advice on investment.\n",
      "\n",
      "Action: AlphaVantage Stock Data\n",
      "Action Input: BTC (Bitcoin), ETH (Ethereum) -  I'll check the sentiment for Bitcoin and Ethereum, two major cryptocurrencies.\n",
      "\u001b[0m\n",
      "Observation: \u001b[33;1m\u001b[1;3m{'items': '50', 'sentiment_score_definition': 'x <= -0.35: Bearish; -0.35 < x <= -0.15: Somewhat-Bearish; -0.15 < x < 0.15: Neutral; 0.15 <= x < 0.35: Somewhat_Bullish; x >= 0.35: Bullish', 'relevance_score_definition': '0 < x <= 1, with a higher score indicating higher relevance.', 'feed': [{'title': 'JPMorgan Asset Management  ( Canada )  Inc. Exchange Traded Funds 2024 Estimated Annual Reinvested Capital Gain Distributions', 'url': 'https://www.benzinga.com/pressreleases/24/12/g42279265/jpmorgan-asset-management-canada-inc-exchange-traded-funds-2024-estimated-annual-reinvested-capita', 'time_published': '20241202T222449', 'authors': ['Globe Newswire'], 'summary': 'TORONTO, Dec. 02, 2024 ( GLOBE NEWSWIRE ) -- J.P. Morgan Asset Management ( JPMAM ) * today announced the estimated annual reinvested capital gain distributions for the below listed JPMorgan ETFs ( the \"Funds\" ) .', 'banner_image': 'https://ml.globenewswire.com/media/25cae8d7-e313-44d8-b031-b93b14e232b0/small/image001-png.png', 'source': 'Benzinga', 'category_within_source': 'News', 'source_domain': 'www.benzinga.com', 'topics': [{'topic': 'Financial Markets', 'relevance_score': '0.999955'}], 'overall_sentiment_score': 0.22236, 'overall_sentiment_label': 'Somewhat-Bullish', 'ticker_sentiment': []}, {'title': \"Serina Therapeutics Secures $10 Million Financing to Continue Advancing Lead IND Candidate into Phase 1 Clinical Trial in Advanced Parkinson's Disease Patients\", 'url': 'https://www.globenewswire.com/news-release/2024/12/02/2990192/0/en/Serina-Therapeutics-Secures-10-Million-Financing-to-Continue-Advancing-Lead-IND-Candidate-into-Phase-1-Clinical-Trial-in-Advanced-Parkinson-s-Disease-Patients.html', 'time_published': '20241202T222200', 'authors': ['Serina Therapeutics', 'Inc.'], 'summary': 'HUNTSVILLE, Dec. 02, 2024 ( GLOBE NEWSWIRE ) -- Serina Therapeutics, Inc. ( \"Serina\" ) ( NYSE American: SER ) , a clinical-stage biotechnology company, today announced a $10 million equity financing with strategic shareholder JuvVentures ( UK ) Limited.', 'banner_image': 'https://ml.globenewswire.com/Resource/Download/023b134f-7f94-40e2-be67-f162c436a8eb', 'source': 'GlobeNewswire', 'category_within_source': 'n/a', 'source_domain': 'www.globenewswire.com', 'topics': [{'topic': 'Life Sciences', 'relevance_score': '1.0'}, {'topic': 'Financial Markets', 'relevance_score': '0.818451'}], 'overall_sentiment_score': 0.12771, 'overall_sentiment_label': 'Neutral', 'ticker_sentiment': [{'ticker': 'PFE', 'relevance_score': '0.04497', 'ticker_sentiment_score': '0.053876', 'ticker_sentiment_label': 'Neutral'}]}, {'title': 'Honeywell Stock Slides After Hours On Updated 2024 Outlook - Honeywell Intl  ( NASDAQ:HON ) ', 'url': 'https://www.benzinga.com/news/guidance/24/12/42279165/honeywell-stock-slides-after-hours-on-updated-2024-outlook', 'time_published': '20241202T221750', 'authors': ['Adam Eckert'], 'summary': \"Honeywell International Inc HON shares are trading lower in Monday's after-hours session after the company announced a strategic agreement with Bombardier and cut its near-term 2024 outlook.\", 'banner_image': 'https://cdn.benzinga.com/files/images/story/2024/12/02/Kaufbeuren--Germany---April-26--2021-Hon.jpeg?width=1200&height=800&fit=crop', 'source': 'Benzinga', 'category_within_source': 'News', 'source_domain': 'www.benzinga.com', 'topics': [{'topic': 'Earnings', 'relevance_score': '0.650727'}, {'topic': 'Financial Markets', 'relevance_score': '0.108179'}, {'topic': 'Manufacturing', 'relevance_score': '1.0'}], 'overall_sentiment_score': 0.247182, 'overall_sentiment_label': 'Somewhat-Bullish', 'ticker_sentiment': [{'ticker': 'HON', 'relevance_score': '0.902881', 'ticker_sentiment_score': '0.350289', 'ticker_sentiment_label': 'Bullish'}]}, {'title': 'Hammond Power Solutions Declares Quarterly Dividend', 'url': 'https://www.benzinga.com/pressreleases/24/12/g42279129/hammond-power-solutions-declares-quarterly-dividend', 'time_published': '20241202T221500', 'authors': ['Globe Newswire'], 'summary': 'GUELPH, Ontario, Dec. 02, 2024 ( GLOBE NEWSWIRE ) -- HPS The Board of Directors of Hammond Power Solutions Inc. ( \"HPS\" ) declared a quarterly cash dividend of twenty-seven and a half cents ( $0.275 ) per Class A Subordinate Voting Share of HPS and a quarterly cash dividend of twenty-seven and a ...', 'banner_image': 'https://ml.globenewswire.com/media/a4dd2b6e-231b-4799-af7d-581fff5bcd05/small/hammond-primary-colour-rgb-1-png.png', 'source': 'Benzinga', 'category_within_source': 'News', 'source_domain': 'www.benzinga.com', 'topics': [{'topic': 'Financial Markets', 'relevance_score': '0.538269'}], 'overall_sentiment_score': 0.075842, 'overall_sentiment_label': 'Neutral', 'ticker_sentiment': [{'ticker': 'HMDPF', 'relevance_score': '0.269776', 'ticker_sentiment_score': '0.083829', 'ticker_sentiment_label': 'Neutral'}, {'ticker': 'PSIX', 'relevance_score': '0.269776', 'ticker_sentiment_score': '0.083829', 'ticker_sentiment_label': 'Neutral'}]}, {'title': 'Hammond Power Solutions Declares Quarterly Dividend', 'url': 'https://www.globenewswire.com/news-release/2024/12/02/2990191/0/en/Hammond-Power-Solutions-Declares-Quarterly-Dividend.html', 'time_published': '20241202T221500', 'authors': ['Hammond Power Solutions Inc'], 'summary': 'GUELPH, Ontario, Dec. 02, 2024 ( GLOBE NEWSWIRE ) -- ( TSX: HPS.A ) The Board of Directors of Hammond Power Solutions Inc. ( \"HPS\" ) declared a quarterly cash dividend of twenty-seven and a half cents ( $0.275 ) per Class A Subordinate Voting Share of HPS and a quarterly cash dividend of ...', 'banner_image': 'https://ml.globenewswire.com/Resource/Download/a4dd2b6e-231b-4799-af7d-581fff5bcd05', 'source': 'GlobeNewswire', 'category_within_source': 'n/a', 'source_domain': 'www.globenewswire.com', 'topics': [{'topic': 'Financial Markets', 'relevance_score': '0.360215'}], 'overall_sentiment_score': 0.037983, 'overall_sentiment_label': 'Neutral', 'ticker_sentiment': [{'ticker': 'HMDPF', 'relevance_score': '0.202366', 'ticker_sentiment_score': '0.046039', 'ticker_sentiment_label': 'Neutral'}, {'ticker': 'PSIX', 'relevance_score': '0.202366', 'ticker_sentiment_score': '0.046039', 'ticker_sentiment_label': 'Neutral'}]}, {'title': 'Wah Fu Education Group Ltd. to Hold Annual General Meeting on December 20, 2024 - Wah Fu Education Gr  ( NASDAQ:WAFU ) ', 'url': 'https://www.benzinga.com/pressreleases/24/12/g42279009/wah-fu-education-group-ltd-to-hold-annual-general-meeting-on-december-20-2024', 'time_published': '20241202T220837', 'authors': ['Globe Newswire'], 'summary': 'Beijing, China, Dec. 02, 2024 ( GLOBE NEWSWIRE ) -- Wah Fu Education Group Ltd. WAFU the \"Company\" ) today announced that it will hold its Annual General Meeting ( \"AGM\" ) , which will be held at L207b, Hesheng Fortune Plaza, No.13 Deshengmenwai Street Xicheng District, Beijing, China 100088, at ...', 'banner_image': 'https://www.benzinga.com/next-assets/images/schema-image-default.png', 'source': 'Benzinga', 'category_within_source': 'News', 'source_domain': 'www.benzinga.com', 'topics': [{'topic': 'Financial Markets', 'relevance_score': '0.360215'}], 'overall_sentiment_score': 0.338182, 'overall_sentiment_label': 'Somewhat-Bullish', 'ticker_sentiment': [{'ticker': 'WAFU', 'relevance_score': '0.27432', 'ticker_sentiment_score': '0.19041', 'ticker_sentiment_label': 'Somewhat-Bullish'}]}, {'title': 'Wah Fu Education Group Ltd. to Hold Annual General Meeting on December 20, 2024', 'url': 'https://www.globenewswire.com/news-release/2024/12/02/2990190/0/en/Wah-Fu-Education-Group-Ltd-to-Hold-Annual-General-Meeting-on-December-20-2024.html', 'time_published': '20241202T220800', 'authors': ['Wah Fu Education Group Limited'], 'summary': 'Beijing, China, Dec. 02, 2024 ( GLOBE NEWSWIRE ) -- Wah Fu Education Group Ltd. ( NASDAQ: WAFU, the \"Company\" ) today announced that it will hold its Annual General Meeting ( \"AGM\" ) , which will be held at L207b, Hesheng Fortune Plaza, No.13 Deshengmenwai Street Xicheng District, Beijing, China ...', 'banner_image': 'https://ml.globenewswire.com/Resource/Download/af23018c-56d3-4fee-9227-5156d45a58d8', 'source': 'GlobeNewswire', 'category_within_source': 'n/a', 'source_domain': 'www.globenewswire.com', 'topics': [{'topic': 'Financial Markets', 'relevance_score': '0.310843'}], 'overall_sentiment_score': 0.352719, 'overall_sentiment_label': 'Bullish', 'ticker_sentiment': [{'ticker': 'WAFU', 'relevance_score': '0.29234', 'ticker_sentiment_score': '0.20856', 'ticker_sentiment_label': 'Somewhat-Bullish'}]}, {'title': 'SHAREHOLDER ALERT: Investigation of Quanterix Corporation  ( QTRX )  Announced by Holzer & Holzer, LLC - Quanterix  ( NASDAQ:QTRX ) ', 'url': 'https://www.benzinga.com/pressreleases/24/12/g42278973/shareholder-alert-investigation-of-quanterix-corporation-qtrx-announced-by-holzer-holzer-llc', 'time_published': '20241202T220702', 'authors': ['Globe Newswire'], 'summary': 'ATLANTA, Dec. 02, 2024 ( GLOBE NEWSWIRE ) -- Holzer & Holzer, LLC is investigating whether Quanterix Corporation ( \"Quanterix\" or the \"Company\" ) QTRX complied with federal securities laws.', 'banner_image': 'https://www.benzinga.com/next-assets/images/schema-image-default.png', 'source': 'Benzinga', 'category_within_source': 'News', 'source_domain': 'www.benzinga.com', 'topics': [{'topic': 'Life Sciences', 'relevance_score': '1.0'}, {'topic': 'Financial Markets', 'relevance_score': '0.796627'}], 'overall_sentiment_score': 0.069938, 'overall_sentiment_label': 'Neutral', 'ticker_sentiment': [{'ticker': 'QTRX', 'relevance_score': '0.730535', 'ticker_sentiment_score': '0.093125', 'ticker_sentiment_label': 'Neutral'}]}, {'title': 'Molecular Templates Announces Receipt of Expected Notification of Deficiency from Nasdaq Related to Delayed filing of Quarterly Report on Form 10-Q and Failure to Meet Bid Price Requirements', 'url': 'https://www.globenewswire.com/news-release/2024/12/02/2990188/0/en/Molecular-Templates-Announces-Receipt-of-Expected-Notification-of-Deficiency-from-Nasdaq-Related-to-Delayed-filing-of-Quarterly-Report-on-Form-10-Q-and-Failure-to-Meet-Bid-Price-Re.html', 'time_published': '20241202T220600', 'authors': ['Molecular Templates', 'Inc.'], 'summary': 'AUSTIN, Texas, Dec. 02, 2024 ( GLOBE NEWSWIRE ) -- Molecular Templates, Inc. ( Nasdaq: MTEM, \"Molecular Templates,\" or \"MTEM\" or the \"Company\" ) , a clinical-stage biopharmaceutical company focused on the discovery and development of proprietary targeted biologic therapeutics, known as ...', 'banner_image': 'https://ml.globenewswire.com/Resource/Download/1af4d1b3-0a20-4be1-a846-79d8df413603', 'source': 'GlobeNewswire', 'category_within_source': 'n/a', 'source_domain': 'www.globenewswire.com', 'topics': [{'topic': 'Life Sciences', 'relevance_score': '1.0'}, {'topic': 'Financial Markets', 'relevance_score': '1.0'}], 'overall_sentiment_score': 0.085465, 'overall_sentiment_label': 'Neutral', 'ticker_sentiment': [{'ticker': 'MTEM', 'relevance_score': '0.66591', 'ticker_sentiment_score': '0.162198', 'ticker_sentiment_label': 'Somewhat-Bullish'}]}, {'title': 'Allied Provides Update on Distributions and Non-Core Property Sales', 'url': 'https://www.benzinga.com/pressreleases/24/12/g42278823/allied-provides-update-on-distributions-and-non-core-property-sales', 'time_published': '20241202T220500', 'authors': ['Globe Newswire'], 'summary': 'TORONTO, Dec. 02, 2024 ( GLOBE NEWSWIRE ) -- Allied Properties Real Estate Investment Trust ( \"Allied\" ) ( TSX: \"AP.UN\" ) announced today that the Trustees of Allied have ( i ) declared a distribution of $0.15 per unit for the month of December 2024, payable on January 15, 2025, to unitholders ...', 'banner_image': 'https://www.benzinga.com/next-assets/images/schema-image-default.png', 'source': 'Benzinga', 'category_within_source': 'News', 'source_domain': 'www.benzinga.com', 'topics': [{'topic': 'Financial Markets', 'relevance_score': '0.108179'}], 'overall_sentiment_score': 0.115769, 'overall_sentiment_label': 'Neutral', 'ticker_sentiment': [{'ticker': 'APYRF', 'relevance_score': '0.085629', 'ticker_sentiment_score': '0.017401', 'ticker_sentiment_label': 'Neutral'}]}, {'title': 'Allied Provides Update on Distributions and Non-Core Property Sales', 'url': 'https://www.globenewswire.com/news-release/2024/12/02/2990187/0/en/Allied-Provides-Update-on-Distributions-and-Non-Core-Property-Sales.html', 'time_published': '20241202T220500', 'authors': ['Allied Properties REIT'], 'summary': 'TORONTO, Dec. 02, 2024 ( GLOBE NEWSWIRE ) -- Allied Properties Real Estate Investment Trust ( \"Allied\" ) ( TSX: \"AP.UN\" ) announced today that the Trustees of Allied have ( i ) declared a distribution of $0.15 per unit for the month of December 2024, payable on January 15, 2025, to unitholders ...', 'banner_image': 'https://ml.globenewswire.com/Resource/Download/3f751dde-2ce2-49f9-868b-51e1fe38468e', 'source': 'GlobeNewswire', 'category_within_source': 'n/a', 'source_domain': 'www.globenewswire.com', 'topics': [], 'overall_sentiment_score': 0.1249, 'overall_sentiment_label': 'Neutral', 'ticker_sentiment': [{'ticker': 'APYRF', 'relevance_score': '0.097062', 'ticker_sentiment_score': '0.022048', 'ticker_sentiment_label': 'Neutral'}]}, {'title': 'Extended Reality  ( XR )  Market to Grow by USD 1.04 Trillion  ( 2024-2028 ) , Driven by Advances in Sensor Technology, with AI Impacting Market Trends - Technavio', 'url': 'https://www.benzinga.com/pressreleases/24/12/n42278825/extended-reality-xr-market-to-grow-by-usd-1-04-trillion-2024-2028-driven-by-advances-in-sensor-tec', 'time_published': '20241202T220500', 'authors': ['PRNewswire'], 'summary': 'NEW YORK, Dec. 2, 2024 /PRNewswire/ -- Report on how AI is redefining market landscape -The global extended reality ( XR ) market size is estimated to grow by USD 1.04 trillion from 2024-2028, according to Technavio. The market is estimated to grow at a CAGR of almost 56.45% during the forecast ...', 'banner_image': 'https://mma.prnewswire.com/media/2570092/Global_extended_reality_market_2024_2028.jpg', 'source': 'Benzinga', 'category_within_source': 'General', 'source_domain': 'www.benzinga.com', 'topics': [{'topic': 'Life Sciences', 'relevance_score': '0.333333'}, {'topic': 'Financial Markets', 'relevance_score': '0.360215'}, {'topic': 'Manufacturing', 'relevance_score': '0.333333'}, {'topic': 'Technology', 'relevance_score': '0.333333'}, {'topic': 'Blockchain', 'relevance_score': '0.158519'}], 'overall_sentiment_score': 0.310754, 'overall_sentiment_label': 'Somewhat-Bullish', 'ticker_sentiment': [{'ticker': 'LNVGF', 'relevance_score': '0.025679', 'ticker_sentiment_score': '0.058678', 'ticker_sentiment_label': 'Neutral'}, {'ticker': 'GOOG', 'relevance_score': '0.05133', 'ticker_sentiment_score': '0.086646', 'ticker_sentiment_label': 'Neutral'}, {'ticker': 'META', 'relevance_score': '0.05133', 'ticker_sentiment_score': '0.086646', 'ticker_sentiment_label': 'Neutral'}, {'ticker': 'NVDA', 'relevance_score': '0.025679', 'ticker_sentiment_score': '0.058678', 'ticker_sentiment_label': 'Neutral'}, {'ticker': 'CAJFF', 'relevance_score': '0.025679', 'ticker_sentiment_score': '0.058678', 'ticker_sentiment_label': 'Neutral'}, {'ticker': 'ABLZF', 'relevance_score': '0.025679', 'ticker_sentiment_score': '0.058678', 'ticker_sentiment_label': 'Neutral'}, {'ticker': 'DDD', 'relevance_score': '0.025679', 'ticker_sentiment_score': '0.058678', 'ticker_sentiment_label': 'Neutral'}, {'ticker': 'SEKEF', 'relevance_score': '0.025679', 'ticker_sentiment_score': '0.058678', 'ticker_sentiment_label': 'Neutral'}, {'ticker': 'ACN', 'relevance_score': '0.025679', 'ticker_sentiment_score': '0.058678', 'ticker_sentiment_label': 'Neutral'}, {'ticker': 'MSFT', 'relevance_score': '0.05133', 'ticker_sentiment_score': '0.086646', 'ticker_sentiment_label': 'Neutral'}, {'ticker': 'SNEJF', 'relevance_score': '0.025679', 'ticker_sentiment_score': '0.058678', 'ticker_sentiment_label': 'Neutral'}, {'ticker': 'SSNLF', 'relevance_score': '0.025679', 'ticker_sentiment_score': '0.069569', 'ticker_sentiment_label': 'Neutral'}, {'ticker': 'ROP', 'relevance_score': '0.025679', 'ticker_sentiment_score': '0.058678', 'ticker_sentiment_label': 'Neutral'}, {'ticker': 'QCOM', 'relevance_score': '0.05133', 'ticker_sentiment_score': '0.071', 'ticker_sentiment_label': 'Neutral'}, {'ticker': 'INTC', 'relevance_score': '0.025679', 'ticker_sentiment_score': '0.058678', 'ticker_sentiment_label': 'Neutral'}, {'ticker': 'PTC', 'relevance_score': '0.025679', 'ticker_sentiment_score': '0.058678', 'ticker_sentiment_label': 'Neutral'}]}, {'title': 'Fairfax Announces Quarterly Dividend on Series C, D, E, F, G, H, I, J, K and M Preferred Shares and Quarterly Dividend Rate for Series F, H and J Preferred Shares', 'url': 'https://www.benzinga.com/pressreleases/24/12/g42278693/fairfax-announces-quarterly-dividend-on-series-c-d-e-f-g-h-i-j-k-and-m-preferred-shares-and-quarte', 'time_published': '20241202T220200', 'authors': ['Globe Newswire'], 'summary': 'TORONTO, Dec. 02, 2024 ( GLOBE NEWSWIRE ) -- Fairfax Financial Holdings Limited FFH ( \"Fairfax\" ) announces that it has declared the following quarterly dividends per share on its preferred shares: Applicable Canadian withholding tax will be applied to dividends payable to non-residents ...', 'banner_image': 'https://www.benzinga.com/next-assets/images/schema-image-default.png', 'source': 'Benzinga', 'category_within_source': 'News', 'source_domain': 'www.benzinga.com', 'topics': [{'topic': 'Financial Markets', 'relevance_score': '0.108179'}], 'overall_sentiment_score': 0.41613, 'overall_sentiment_label': 'Bullish', 'ticker_sentiment': [{'ticker': 'FRFHF', 'relevance_score': '0.204072', 'ticker_sentiment_score': '0.214827', 'ticker_sentiment_label': 'Somewhat-Bullish'}]}, {'title': 'Fairfax Announces Quarterly Dividend on Series C, D, E, F, G, H, I, J, K and M Preferred Shares and Quarterly Dividend Rate for Series F, H and J Preferred Shares', 'url': 'https://www.globenewswire.com/news-release/2024/12/02/2990185/0/en/Fairfax-Announces-Quarterly-Dividend-on-Series-C-D-E-F-G-H-I-J-K-and-M-Preferred-Shares-and-Quarterly-Dividend-Rate-for-Series-F-H-and-J-Preferred-Shares.html', 'time_published': '20241202T220200', 'authors': ['Fairfax Financial Holdings Limited'], 'summary': 'TORONTO, Dec. 02, 2024 ( GLOBE NEWSWIRE ) -- Fairfax Financial Holdings Limited ( TSX: FFH and FFH.U ) ( \"Fairfax\" ) announces that it has declared the following quarterly dividends per share on its preferred shares: ...', 'banner_image': 'https://ml.globenewswire.com/Resource/Download/fa3ed713-47f6-4178-a7ab-907ab1684dc8', 'source': 'GlobeNewswire', 'category_within_source': 'n/a', 'source_domain': 'www.globenewswire.com', 'topics': [], 'overall_sentiment_score': 0.425581, 'overall_sentiment_label': 'Bullish', 'ticker_sentiment': [{'ticker': 'FRFHF', 'relevance_score': '0.245339', 'ticker_sentiment_score': '0.252837', 'ticker_sentiment_label': 'Somewhat-Bullish'}]}, {'title': 'Bionomics Reminds Shareholders to Cast their Vote for Re-Domiciliation from Australia to the United States', 'url': 'https://www.globenewswire.com/news-release/2024/12/02/2990184/0/en/Bionomics-Reminds-Shareholders-to-Cast-their-Vote-for-Re-Domiciliation-from-Australia-to-the-United-States.html', 'time_published': '20241202T220100', 'authors': ['Bionomics Ltd'], 'summary': 'ADELAIDE, Australia, and CAMBRIDGE, Mass., Dec. 02, 2024 ( GLOBE NEWSWIRE ) -- Bionomics Limited ( Nasdaq: BNOX ) ( Bionomics or Company ) , a clinical-stage biotechnology company developing novel, first-in-class, allosteric ion channel modulators to treat patients suffering from serious central ...', 'banner_image': 'https://ml.globenewswire.com/Resource/Download/822aaa99-a2bd-4905-ab9c-07869668b7f7', 'source': 'GlobeNewswire', 'category_within_source': 'n/a', 'source_domain': 'www.globenewswire.com', 'topics': [{'topic': 'Technology', 'relevance_score': '1.0'}, {'topic': 'Financial Markets', 'relevance_score': '0.310843'}], 'overall_sentiment_score': 0.124477, 'overall_sentiment_label': 'Neutral', 'ticker_sentiment': [{'ticker': 'BNOX', 'relevance_score': '0.805954', 'ticker_sentiment_score': '0.20851', 'ticker_sentiment_label': 'Somewhat-Bullish'}]}, {'title': 'Bombardier Confirms Reaching Settlement in Legal Dispute with Honeywell', 'url': 'https://www.benzinga.com/pressreleases/24/12/g42278624/bombardier-confirms-reaching-settlement-in-legal-dispute-with-honeywell', 'time_published': '20241202T220000', 'authors': ['Globe Newswire'], 'summary': 'MONTRÉAL, Dec. 02, 2024 ( GLOBE NEWSWIRE ) -- Bombardier Inc. ( \"Bombardier\" ) today confirmed that it has reached an agreement to settle its lawsuit against Honeywell International Inc. ( \"Honeywell\" ) that it initially filed in 2016 before the Superior Court of Québec.', 'banner_image': 'https://www.benzinga.com/next-assets/images/schema-image-default.png', 'source': 'Benzinga', 'category_within_source': 'News', 'source_domain': 'www.benzinga.com', 'topics': [{'topic': 'Manufacturing', 'relevance_score': '1.0'}], 'overall_sentiment_score': 0.41892, 'overall_sentiment_label': 'Bullish', 'ticker_sentiment': [{'ticker': 'BDRBF', 'relevance_score': '0.084423', 'ticker_sentiment_score': '0.225457', 'ticker_sentiment_label': 'Somewhat-Bullish'}, {'ticker': 'HON', 'relevance_score': '0.084423', 'ticker_sentiment_score': '0.225457', 'ticker_sentiment_label': 'Somewhat-Bullish'}]}, {'title': 'The New America High Income Fund, Inc. Declares Distribution - New America High  ( NYSE:HYB ) ', 'url': 'https://www.benzinga.com/pressreleases/24/12/g42278622/the-new-america-high-income-fund-inc-declares-distribution', 'time_published': '20241202T220000', 'authors': ['Globe Newswire'], 'summary': 'BOSTON, Dec. 02, 2024 ( GLOBE NEWSWIRE ) -- The New America High Income Fund, Inc. ( the \"Fund\" ) HYB announced today that it will pay a distribution of $.04 per share on the company\\'s common stock on December 31, 2024 to common shareholders of record as of the close of business on December 17, ...', 'banner_image': 'https://www.benzinga.com/next-assets/images/schema-image-default.png', 'source': 'Benzinga', 'category_within_source': 'News', 'source_domain': 'www.benzinga.com', 'topics': [{'topic': 'Financial Markets', 'relevance_score': '0.990999'}], 'overall_sentiment_score': 0.210123, 'overall_sentiment_label': 'Somewhat-Bullish', 'ticker_sentiment': []}, {'title': 'Bombardier Confirms Reaching Settlement in Legal Dispute with Honeywell', 'url': 'https://www.globenewswire.com/news-release/2024/12/02/2990178/0/en/Bombardier-Confirms-Reaching-Settlement-in-Legal-Dispute-with-Honeywell.html', 'time_published': '20241202T220000', 'authors': ['Bombardier Inc.'], 'summary': 'MONTRÉAL, Dec. 02, 2024 ( GLOBE NEWSWIRE ) -- Bombardier Inc. ( \"Bombardier\" ) today confirmed that it has reached an agreement to settle its lawsuit against Honeywell International Inc. ( \"Honeywell\" ) that it initially filed in 2016 before the Superior Court of Québec.', 'banner_image': 'https://ml.globenewswire.com/Resource/Download/17388364-7e8b-4836-8d73-8c21f3f49b4e', 'source': 'GlobeNewswire', 'category_within_source': 'n/a', 'source_domain': 'www.globenewswire.com', 'topics': [{'topic': 'Manufacturing', 'relevance_score': '1.0'}], 'overall_sentiment_score': 0.426954, 'overall_sentiment_label': 'Bullish', 'ticker_sentiment': [{'ticker': 'BDRBF', 'relevance_score': '0.091162', 'ticker_sentiment_score': '0.241423', 'ticker_sentiment_label': 'Somewhat-Bullish'}, {'ticker': 'HON', 'relevance_score': '0.091162', 'ticker_sentiment_score': '0.241423', 'ticker_sentiment_label': 'Somewhat-Bullish'}]}, {'title': 'Arcade Gaming Market to Grow by USD 2.22 Billion  ( 2024-2028 ) , Driven by Increased Physical Activities, with AI Redefining the Market Landscape - Technavio', 'url': 'https://www.benzinga.com/pressreleases/24/12/n42278633/arcade-gaming-market-to-grow-by-usd-2-22-billion-2024-2028-driven-by-increased-physical-activities', 'time_published': '20241202T220000', 'authors': ['PRNewswire'], 'summary': 'NEW YORK, Dec. 2, 2024 /PRNewswire/ -- Report with market evolution powered by AI - The global arcade gaming market size is estimated to grow by USD 2.22 billion from 2024-2028, according to Technavio. The market is estimated to grow at a CAGR of 2.18% during the forecast period.', 'banner_image': 'https://mma.prnewswire.com/media/2570120/Global_Arcade_Gaming_Market_2024_2028_Infographic.jpg', 'source': 'Benzinga', 'category_within_source': 'General', 'source_domain': 'www.benzinga.com', 'topics': [{'topic': 'Financial Markets', 'relevance_score': '0.108179'}], 'overall_sentiment_score': 0.314388, 'overall_sentiment_label': 'Somewhat-Bullish', 'ticker_sentiment': [{'ticker': 'DBOXF', 'relevance_score': '0.023259', 'ticker_sentiment_score': '0.197129', 'ticker_sentiment_label': 'Somewhat-Bullish'}, {'ticker': 'SGAMF', 'relevance_score': '0.023259', 'ticker_sentiment_score': '0.197129', 'ticker_sentiment_label': 'Somewhat-Bullish'}, {'ticker': 'NCBDF', 'relevance_score': '0.023259', 'ticker_sentiment_score': '0.197129', 'ticker_sentiment_label': 'Somewhat-Bullish'}, {'ticker': 'NTDOF', 'relevance_score': '0.023259', 'ticker_sentiment_score': '0.197129', 'ticker_sentiment_label': 'Somewhat-Bullish'}, {'ticker': 'SQNXF', 'relevance_score': '0.023259', 'ticker_sentiment_score': '0.197129', 'ticker_sentiment_label': 'Somewhat-Bullish'}, {'ticker': 'BOWL', 'relevance_score': '0.023259', 'ticker_sentiment_score': '0.197129', 'ticker_sentiment_label': 'Somewhat-Bullish'}, {'ticker': 'CCOEF', 'relevance_score': '0.023259', 'ticker_sentiment_score': '0.197129', 'ticker_sentiment_label': 'Somewhat-Bullish'}]}, {'title': 'Rockridge Files Management Information Circular for Annual General and Special Meeting of Shareholders to Approve Business Combination with Eros Resources and MAS Gold', 'url': 'https://www.globenewswire.com/news-release/2024/12/02/2990179/0/en/Rockridge-Files-Management-Information-Circular-for-Annual-General-and-Special-Meeting-of-Shareholders-to-Approve-Business-Combination-with-Eros-Resources-and-MAS-Gold.html', 'time_published': '20241202T220000', 'authors': ['Rockridge Resources Ltd.'], 'summary': 'Vancouver, BC, Dec. 02, 2024 ( GLOBE NEWSWIRE ) -- Rockridge Resources Ltd. ( TSX-V: ROCK ) ( OTCQB: RRRLF ) ( Frankfurt: RR0 ) ( \"Rockridge\" ) ( the \"Company\" ) is pleased to announce that it has filed and has commenced the delivery of the joint management information circular of the Company, ...', 'banner_image': 'https://portal.executivebusinessservices.com/i/2c9022f5-b7f7-44ce-c857-08dd130535c4', 'source': 'GlobeNewswire', 'category_within_source': 'n/a', 'source_domain': 'www.globenewswire.com', 'topics': [{'topic': 'Financial Markets', 'relevance_score': '0.818451'}], 'overall_sentiment_score': 0.150264, 'overall_sentiment_label': 'Somewhat-Bullish', 'ticker_sentiment': [{'ticker': 'RRRLF', 'relevance_score': '0.047138', 'ticker_sentiment_score': '0.093204', 'ticker_sentiment_label': 'Neutral'}, {'ticker': 'MALRF', 'relevance_score': '0.023579', 'ticker_sentiment_score': '0.176121', 'ticker_sentiment_label': 'Somewhat-Bullish'}, {'ticker': 'MSGCF', 'relevance_score': '0.254912', 'ticker_sentiment_score': '0.092753', 'ticker_sentiment_label': 'Neutral'}]}, {'title': 'Studio City Enters into Senior Facilities Agreement', 'url': 'https://www.globenewswire.com/news-release/2024/12/02/2990183/36898/en/Studio-City-Enters-into-Senior-Facilities-Agreement.html', 'time_published': '20241202T220000', 'authors': ['Studio City'], 'summary': 'MACAU, Dec. 02, 2024 ( GLOBE NEWSWIRE ) -- Studio City International Holdings Limited ( NYSE: MSC ) ( \"Studio City\" or the \"Company\" ) , a world-class integrated resort located in Cotai, Macau, today announces that the Company\\'s subsidiary, Studio City Company Limited ( \"Studio City Company\" ) , ...', 'banner_image': 'https://ml.globenewswire.com/Resource/Download/d6a5efe3-2085-4e42-a0e7-a7943b2b4605', 'source': 'GlobeNewswire', 'category_within_source': 'n/a', 'source_domain': 'www.globenewswire.com', 'topics': [{'topic': 'Real Estate & Construction', 'relevance_score': '1.0'}, {'topic': 'Financial Markets', 'relevance_score': '0.905476'}], 'overall_sentiment_score': 0.259437, 'overall_sentiment_label': 'Somewhat-Bullish', 'ticker_sentiment': [{'ticker': 'MSC', 'relevance_score': '0.610896', 'ticker_sentiment_score': '0.383857', 'ticker_sentiment_label': 'Bullish'}, {'ticker': 'BACHY', 'relevance_score': '0.057215', 'ticker_sentiment_score': '0.235087', 'ticker_sentiment_label': 'Somewhat-Bullish'}, {'ticker': 'MLCO', 'relevance_score': '0.114137', 'ticker_sentiment_score': '0.012604', 'ticker_sentiment_label': 'Neutral'}]}, {'title': 'Azincourt Energy Grants RSUs', 'url': 'https://www.globenewswire.com/news-release/2024/12/02/2990180/0/en/Azincourt-Energy-Grants-RSUs.html', 'time_published': '20241202T220000', 'authors': ['Azincourt Energy Corp.'], 'summary': 'VANCOUVER, British Columbia, Dec. 02, 2024 ( GLOBE NEWSWIRE ) -- AZINCOURT ENERGY CORP. ( \"Azincourt\" or the \"Company\" ) ( TSX.V: AAZ, OTC: AZURF ) , announces the grant of 2,000,000 restricted share units ( \"RSUs\" ) to an officer of the Company under the Company\\'s shareholder-approved incentive ...', 'banner_image': 'https://ml.globenewswire.com/Resource/Download/5c6016c1-b698-4aba-a00d-0d58fa0e2f03', 'source': 'GlobeNewswire', 'category_within_source': 'n/a', 'source_domain': 'www.globenewswire.com', 'topics': [{'topic': 'Financial Markets', 'relevance_score': '0.158519'}], 'overall_sentiment_score': 0.298439, 'overall_sentiment_label': 'Somewhat-Bullish', 'ticker_sentiment': []}, {'title': \"'Astonishing' XRP Surge Driven by Regulatory Hopes, ETF Speculation: Analysts\", 'url': 'https://decrypt.co/294423/astonishing-xrp-surge-regulatory-hopes', 'time_published': '20241202T215932', 'authors': ['André Beganski'], 'summary': \"Whether it's SEC Chair Gary Gensler's departure or ETF speculation, analysts see several post-election factors behind XRP's spike.\", 'banner_image': 'https://cdn.decrypt.co/resize/1024/height/512/wp-content/uploads/2020/07/shutterstock_12162718781-gID_7.jpg', 'source': 'Decrypt.co', 'category_within_source': 'n/a', 'source_domain': 'decrypt.co', 'topics': [{'topic': 'Blockchain', 'relevance_score': '0.769861'}, {'topic': 'Financial Markets', 'relevance_score': '0.891286'}], 'overall_sentiment_score': 0.189231, 'overall_sentiment_label': 'Somewhat-Bullish', 'ticker_sentiment': [{'ticker': 'WT', 'relevance_score': '0.051441', 'ticker_sentiment_score': '0.02876', 'ticker_sentiment_label': 'Neutral'}, {'ticker': 'CRYPTO:BTC', 'relevance_score': '0.102668', 'ticker_sentiment_score': '0.095253', 'ticker_sentiment_label': 'Neutral'}, {'ticker': 'CRYPTO:ETH', 'relevance_score': '0.051441', 'ticker_sentiment_score': '0.035714', 'ticker_sentiment_label': 'Neutral'}, {'ticker': 'CRYPTO:DOGE', 'relevance_score': '0.051441', 'ticker_sentiment_score': '0.035714', 'ticker_sentiment_label': 'Neutral'}]}, {'title': 'Symbotic Inc. Announcement: If You Have Suffered Losses in Symbotic Inc.  ( NASDAQ: SYM ) , You Are Encouraged to Contact The Rosen Law Firm About Your Rights - Symbotic  ( NASDAQ:SYM ) ', 'url': 'https://www.benzinga.com/pressreleases/24/12/g42278581/symbotic-inc-announcement-if-you-have-suffered-losses-in-symbotic-inc-nasdaq-sym-you-are-encourage', 'time_published': '20241202T215800', 'authors': ['Globe Newswire'], 'summary': 'NEW YORK, Dec. 02, 2024 ( GLOBE NEWSWIRE ) -- WHY: Rosen Law Firm, a global investor rights law firm, announces an investigation of potential securities claims on behalf of shareholders of Symbotic Inc.', 'banner_image': 'https://www.benzinga.com/next-assets/images/schema-image-default.png', 'source': 'Benzinga', 'category_within_source': 'News', 'source_domain': 'www.benzinga.com', 'topics': [{'topic': 'Earnings', 'relevance_score': '0.538269'}, {'topic': 'Technology', 'relevance_score': '1.0'}, {'topic': 'Financial Markets', 'relevance_score': '0.744043'}], 'overall_sentiment_score': 0.170549, 'overall_sentiment_label': 'Somewhat-Bullish', 'ticker_sentiment': [{'ticker': 'META', 'relevance_score': '0.078099', 'ticker_sentiment_score': '0.0', 'ticker_sentiment_label': 'Neutral'}, {'ticker': 'SYM', 'relevance_score': '0.443626', 'ticker_sentiment_score': '-0.014978', 'ticker_sentiment_label': 'Neutral'}]}, {'title': 'Immutable Announcement: If You Have Suffered Losses in IMX Tokens, You Are Encouraged to Contact The Rosen Law Firm About Your Rights', 'url': 'https://www.benzinga.com/pressreleases/24/12/g42278506/immutable-announcement-if-you-have-suffered-losses-in-imx-tokens-you-are-encouraged-to-contact-the', 'time_published': '20241202T215400', 'authors': ['Globe Newswire'], 'summary': 'NEW YORK, Dec. 02, 2024 ( GLOBE NEWSWIRE ) -- Why: Rosen Law Firm, a global investor rights law firm, announces an investigation of potential securities claims against Immutable resulting from allegations that Immutable may have issued materially misleading business information to the ...', 'banner_image': 'https://www.benzinga.com/next-assets/images/schema-image-default.png', 'source': 'Benzinga', 'category_within_source': 'News', 'source_domain': 'www.benzinga.com', 'topics': [{'topic': 'Technology', 'relevance_score': '1.0'}, {'topic': 'Financial Markets', 'relevance_score': '0.714479'}], 'overall_sentiment_score': 0.208026, 'overall_sentiment_label': 'Somewhat-Bullish', 'ticker_sentiment': [{'ticker': 'META', 'relevance_score': '0.090474', 'ticker_sentiment_score': '0.0', 'ticker_sentiment_label': 'Neutral'}]}, {'title': 'Supreme Court Hears Case Against FDA Ban On Flavored Vapes: Here Are The Stocks To Watch - Altria Group  ( NYSE:MO ) ', 'url': 'https://www.benzinga.com/news/legal/24/12/42278495/supreme-court-hears-case-against-fda-ban-on-flavored-vapes-the-details-and-stocks-to-watch', 'time_published': '20241202T215339', 'authors': ['Chris Katje'], 'summary': 'The U.S. Supreme Court heard a challenge against the Food and Drug Administration ( FDA ) Monday about past bans on flavored liquids for e-cigarettes and vapes. What Happened: Triton Distribution brought a case to the U.S.', 'banner_image': 'https://cdn.benzinga.com/files/images/story/2024/12/02/Girl-Soars-On-A-Black-Background-Vape.jpeg?width=1200&height=800&fit=crop', 'source': 'Benzinga', 'category_within_source': 'Trading', 'source_domain': 'www.benzinga.com', 'topics': [{'topic': 'Manufacturing', 'relevance_score': '1.0'}], 'overall_sentiment_score': 0.249236, 'overall_sentiment_label': 'Somewhat-Bullish', 'ticker_sentiment': [{'ticker': 'BTI', 'relevance_score': '0.152018', 'ticker_sentiment_score': '-0.006991', 'ticker_sentiment_label': 'Neutral'}, {'ticker': 'MO', 'relevance_score': '0.368227', 'ticker_sentiment_score': '0.348634', 'ticker_sentiment_label': 'Somewhat-Bullish'}, {'ticker': 'TPB', 'relevance_score': '0.076358', 'ticker_sentiment_score': '0.404502', 'ticker_sentiment_label': 'Bullish'}]}, {'title': 'Guggenheim Investments Announces December 2024 Closed-End Fund Distributions', 'url': 'https://www.benzinga.com/pressreleases/24/12/g42278482/guggenheim-investments-announces-december-2024-closed-end-fund-distributions', 'time_published': '20241202T215250', 'authors': ['Globe Newswire'], 'summary': 'NEW YORK, Dec. 02, 2024 ( GLOBE NEWSWIRE ) -- Guggenheim Investments today announced that certain closed-end funds have declared their distributions. The table below summarizes the distribution schedule for each closed-end fund ( collectively, the \"Funds\" and each, a \"Fund\" ) .', 'banner_image': 'https://www.benzinga.com/next-assets/images/schema-image-default.png', 'source': 'Benzinga', 'category_within_source': 'News', 'source_domain': 'www.benzinga.com', 'topics': [{'topic': 'Economy - Monetary', 'relevance_score': '0.158519'}, {'topic': 'Financial Markets', 'relevance_score': '1.0'}], 'overall_sentiment_score': 0.10544, 'overall_sentiment_label': 'Neutral', 'ticker_sentiment': []}, {'title': 'Edwards Lifesciences Corporation Investors: Please contact the Portnoy Law Firm to recover your losses. December 13, 2024 Deadline to file Lead Plaintiff Motion. - Edwards Lifesciences  ( NYSE:EW ) ', 'url': 'https://www.benzinga.com/pressreleases/24/12/g42278481/edwards-lifesciences-corporation-investors-please-contact-the-portnoy-law-firm-to-recover-your-los', 'time_published': '20241202T215242', 'authors': ['Globe Newswire'], 'summary': 'Investors can contact the law firm at no cost to learn more about recovering their losses', 'banner_image': 'https://ml.globenewswire.com/media/ea0dd9c0-6e41-4d5a-ad27-b277677af6df/small/portnoylaw-logohighresroundlogoonly-jpg.jpg', 'source': 'Benzinga', 'category_within_source': 'News', 'source_domain': 'www.benzinga.com', 'topics': [{'topic': 'Earnings', 'relevance_score': '0.360215'}, {'topic': 'Life Sciences', 'relevance_score': '1.0'}, {'topic': 'Financial Markets', 'relevance_score': '0.108179'}], 'overall_sentiment_score': 0.116806, 'overall_sentiment_label': 'Neutral', 'ticker_sentiment': [{'ticker': 'EW', 'relevance_score': '0.672055', 'ticker_sentiment_score': '0.159123', 'ticker_sentiment_label': 'Somewhat-Bullish'}]}, {'title': 'Beyond The CBD Bubble: Can Hemp Fiber Boost US Manufacturing With Eco-Friendly Products?', 'url': 'https://www.benzinga.com/24/12/42278413/beyond-the-cbd-bubble-can-hemp-fiber-boost-us-manufacturing-with-eco-friendly-products', 'time_published': '20241202T215024', 'authors': ['Nicolás Jose Rodriguez'], 'summary': 'Dr. David Suchoff, assistant professor at North Carolina State University discussed the complexities of hemp fiber production with Benzinga Benzinga shares with you top insiders news', 'banner_image': 'https://cdn.benzinga.com/files/images/story/2024/12/02/AI-Generated-Image.jpeg?width=1200&height=800&fit=crop', 'source': 'Benzinga', 'category_within_source': 'General', 'source_domain': 'www.benzinga.com', 'topics': [{'topic': 'Financial Markets', 'relevance_score': '0.214378'}], 'overall_sentiment_score': 0.223996, 'overall_sentiment_label': 'Somewhat-Bullish', 'ticker_sentiment': []}, {'title': 'Bitcoin Miner CleanSpark Reports FY24 Earnings, Shares Climb - Cleanspark  ( NASDAQ:CLSK ) ', 'url': 'https://www.benzinga.com/news/earnings/24/12/42278398/bitcoin-miner-cleanspark-reports-fy24-earnings-shares-climb', 'time_published': '20241202T214931', 'authors': ['Adam Eckert'], 'summary': \"CleanSpark Inc CLSK reported fourth-quarter financial results after the market close on Monday. Here's a look at the key details from the quarter. Q4 Earnings: CleanSpark reported full-year 2024 revenue of $378.97 million, missing analyst estimates of $397.32 million.\", 'banner_image': 'https://cdn.benzinga.com/files/images/story/2024/12/02/CleanSpark-Inc--CLSK_0.jpeg?width=1200&height=800&fit=crop', 'source': 'Benzinga', 'category_within_source': 'News', 'source_domain': 'www.benzinga.com', 'topics': [{'topic': 'Financial Markets', 'relevance_score': '0.108179'}, {'topic': 'Earnings', 'relevance_score': '0.744043'}, {'topic': 'Mergers & Acquisitions', 'relevance_score': '0.158519'}, {'topic': 'Real Estate & Construction', 'relevance_score': '1.0'}], 'overall_sentiment_score': 0.256721, 'overall_sentiment_label': 'Somewhat-Bullish', 'ticker_sentiment': [{'ticker': 'CLSK', 'relevance_score': '0.713878', 'ticker_sentiment_score': '0.208173', 'ticker_sentiment_label': 'Somewhat-Bullish'}, {'ticker': 'CRYPTO:BTC', 'relevance_score': '0.406197', 'ticker_sentiment_score': '0.137198', 'ticker_sentiment_label': 'Neutral'}]}, {'title': 'Trade Desk Shares Are On The Rise Today: What You Need To Know - Trade Desk  ( NASDAQ:TTD ) ', 'url': 'https://www.benzinga.com/general/entertainment/24/12/42278221/trade-desk-shares-are-on-the-rise-today-what-you-need-to-know', 'time_published': '20241202T214209', 'authors': ['Vaishali Prayag'], 'summary': 'Trade Desk, Inc. TTD shares traded higher Monday following reports of a possible merger with Roku, Inc. ROKU. Analysts and investors are speculating on the potential strategic alignment between the two companies as the Trade Desk recently announced its entry into the connected TV ( CTV ) ...', 'banner_image': 'https://editorial-assets.benzinga.com/wp-content/uploads/2024/12/02133621/TTD-1024x537.png', 'source': 'Benzinga', 'category_within_source': 'News', 'source_domain': 'www.benzinga.com', 'topics': [{'topic': 'Technology', 'relevance_score': '1.0'}, {'topic': 'Financial Markets', 'relevance_score': '0.650727'}], 'overall_sentiment_score': 0.341155, 'overall_sentiment_label': 'Somewhat-Bullish', 'ticker_sentiment': [{'ticker': 'ROKU', 'relevance_score': '0.548363', 'ticker_sentiment_score': '0.509141', 'ticker_sentiment_label': 'Bullish'}, {'ticker': 'TTD', 'relevance_score': '0.548363', 'ticker_sentiment_score': '0.409946', 'ticker_sentiment_label': 'Bullish'}]}, {'title': \"How Dick's Sporting Goods Is Succeeding\", 'url': 'https://www.fool.com/investing/2024/12/02/how-dicks-sporting-goods-is-succeeding/', 'time_published': '20241202T213800', 'authors': ['Motley Fool Staff'], 'summary': 'We also chat with Christine Benz, the author of \"How to Retire: 20 Lessons for a Happy, Successful, and Wealthy Retirement.\" ...', 'banner_image': 'https://g.foolcdn.com/editorial/images/799333/mfm_26.jpg', 'source': 'Motley Fool', 'category_within_source': 'n/a', 'source_domain': 'www.fool.com', 'topics': [{'topic': 'Retail & Wholesale', 'relevance_score': '0.333333'}, {'topic': 'Financial Markets', 'relevance_score': '1.0'}, {'topic': 'Earnings', 'relevance_score': '0.972476'}, {'topic': 'Technology', 'relevance_score': '0.333333'}, {'topic': 'Finance', 'relevance_score': '0.333333'}], 'overall_sentiment_score': 0.174199, 'overall_sentiment_label': 'Somewhat-Bullish', 'ticker_sentiment': [{'ticker': 'NFLX', 'relevance_score': '0.007201', 'ticker_sentiment_score': '0.068867', 'ticker_sentiment_label': 'Neutral'}, {'ticker': 'TGT', 'relevance_score': '0.007201', 'ticker_sentiment_score': '0.127131', 'ticker_sentiment_label': 'Neutral'}, {'ticker': 'LMND', 'relevance_score': '0.0934', 'ticker_sentiment_score': '0.065455', 'ticker_sentiment_label': 'Neutral'}, {'ticker': 'BBY', 'relevance_score': '0.028798', 'ticker_sentiment_score': '0.093591', 'ticker_sentiment_label': 'Neutral'}, {'ticker': 'KSS', 'relevance_score': '0.071914', 'ticker_sentiment_score': '0.099893', 'ticker_sentiment_label': 'Neutral'}, {'ticker': 'MORN', 'relevance_score': '0.007201', 'ticker_sentiment_score': '0.047513', 'ticker_sentiment_label': 'Neutral'}, {'ticker': 'BROS', 'relevance_score': '0.021601', 'ticker_sentiment_score': '0.122297', 'ticker_sentiment_label': 'Neutral'}, {'ticker': 'CMG', 'relevance_score': '0.014401', 'ticker_sentiment_score': '0.09333', 'ticker_sentiment_label': 'Neutral'}, {'ticker': 'DKS', 'relevance_score': '0.007201', 'ticker_sentiment_score': '0.066055', 'ticker_sentiment_label': 'Neutral'}, {'ticker': 'M', 'relevance_score': '0.028798', 'ticker_sentiment_score': '0.059242', 'ticker_sentiment_label': 'Neutral'}]}, {'title': 'UPDATE -- nCino to Participate in Upcoming Investor Conferences - Ncino  ( NASDAQ:NCNO ) ', 'url': 'https://www.benzinga.com/pressreleases/24/12/g42277927/update-ncino-to-participate-in-upcoming-investor-conferences', 'time_published': '20241202T213552', 'authors': ['Globe Newswire'], 'summary': 'WILMINGTON, N.C., Dec. 02, 2024 ( GLOBE NEWSWIRE ) -- nCino, Inc. NCNO, the leading provider of intelligent, best-in-class banking solutions, today announced its participation in the following investor conferences: Scotiabank Second Annual Global Technology Conference Presentation: Tuesday, ...', 'banner_image': 'https://ml.globenewswire.com/media/c95f9c7b-1137-4f8d-942f-8e56170379a3/small/ncino-logo-png.png', 'source': 'Benzinga', 'category_within_source': 'News', 'source_domain': 'www.benzinga.com', 'topics': [{'topic': 'Technology', 'relevance_score': '0.5'}, {'topic': 'Finance', 'relevance_score': '0.5'}, {'topic': 'Financial Markets', 'relevance_score': '0.360215'}], 'overall_sentiment_score': 0.461556, 'overall_sentiment_label': 'Bullish', 'ticker_sentiment': [{'ticker': 'NCNO', 'relevance_score': '0.891977', 'ticker_sentiment_score': '0.811566', 'ticker_sentiment_label': 'Bullish'}, {'ticker': 'BCS', 'relevance_score': '0.279015', 'ticker_sentiment_score': '0.094779', 'ticker_sentiment_label': 'Neutral'}, {'ticker': 'WMGTF', 'relevance_score': '0.141726', 'ticker_sentiment_score': '0.252518', 'ticker_sentiment_label': 'Somewhat-Bullish'}, {'ticker': 'BNS', 'relevance_score': '0.141726', 'ticker_sentiment_score': '0.0', 'ticker_sentiment_label': 'Neutral'}]}, {'title': 'Zentalis Pharmaceuticals Announces Inducement Grants Under Nasdaq Listing Rule 5635 ( c )  ( 4 )  - Zentalis Pharma  ( NASDAQ:ZNTL ) ', 'url': 'https://www.benzinga.com/pressreleases/24/12/g42277778/zentalis-pharmaceuticals-announces-inducement-grants-under-nasdaq-listing-rule-5635-c-4', 'time_published': '20241202T213510', 'authors': ['Globe Newswire'], 'summary': 'SAN DIEGO, Dec. 02, 2024 ( GLOBE NEWSWIRE ) -- Zentalis® Pharmaceuticals, Inc.', 'banner_image': 'https://ml.globenewswire.com/media/1b481d6d-51c9-44f0-b33f-81feb1061d2e/small/zentalis-logo-png.png', 'source': 'Benzinga', 'category_within_source': 'News', 'source_domain': 'www.benzinga.com', 'topics': [{'topic': 'Life Sciences', 'relevance_score': '1.0'}, {'topic': 'Financial Markets', 'relevance_score': '1.0'}], 'overall_sentiment_score': 0.170484, 'overall_sentiment_label': 'Somewhat-Bullish', 'ticker_sentiment': [{'ticker': 'ZNTL', 'relevance_score': '0.191675', 'ticker_sentiment_score': '0.163192', 'ticker_sentiment_label': 'Somewhat-Bullish'}]}, {'title': 'Why Rocket Lab Stock Soared 155% in November', 'url': 'https://www.fool.com/investing/2024/12/02/why-rocket-lab-stock-soared-155-in-november/', 'time_published': '20241202T213508', 'authors': ['Brett Schafer'], 'summary': 'Shares of Rocket Lab ( NASDAQ: RKLB ) soared 155% in November, according to data from S&P Global Market Intelligence. The space flight and rocket company keeps announcing new missions and posted a promising earnings result in the month.', 'banner_image': 'https://g.foolcdn.com/editorial/images/799640/chart.jpg', 'source': 'Motley Fool', 'category_within_source': 'n/a', 'source_domain': 'www.fool.com', 'topics': [{'topic': 'Earnings', 'relevance_score': '0.94762'}, {'topic': 'Financial Markets', 'relevance_score': '0.214378'}], 'overall_sentiment_score': 0.214034, 'overall_sentiment_label': 'Somewhat-Bullish', 'ticker_sentiment': [{'ticker': 'SPGI', 'relevance_score': '0.099066', 'ticker_sentiment_score': '0.166911', 'ticker_sentiment_label': 'Somewhat-Bullish'}]}, {'title': 'UPDATE -- nCino to Participate in Upcoming Investor Conferences', 'url': 'https://www.globenewswire.com/news-release/2024/12/02/2990167/0/en/UPDATE-nCino-to-Participate-in-Upcoming-Investor-Conferences.html', 'time_published': '20241202T213500', 'authors': ['NCino OpCo', 'Inc.'], 'summary': 'WILMINGTON, N.C., Dec. 02, 2024 ( GLOBE NEWSWIRE ) -- nCino, Inc. ( NASDAQ: NCNO ) , the leading provider of intelligent, best-in-class banking solutions, today announced its participation in the following investor conferences: ...', 'banner_image': 'https://ml.globenewswire.com/Resource/Download/c95f9c7b-1137-4f8d-942f-8e56170379a3', 'source': 'GlobeNewswire', 'category_within_source': 'n/a', 'source_domain': 'www.globenewswire.com', 'topics': [{'topic': 'Technology', 'relevance_score': '0.5'}, {'topic': 'Finance', 'relevance_score': '0.5'}, {'topic': 'Financial Markets', 'relevance_score': '0.158519'}], 'overall_sentiment_score': 0.51276, 'overall_sentiment_label': 'Bullish', 'ticker_sentiment': [{'ticker': 'NCNO', 'relevance_score': '0.850133', 'ticker_sentiment_score': '0.830406', 'ticker_sentiment_label': 'Bullish'}, {'ticker': 'BCS', 'relevance_score': '0.18967', 'ticker_sentiment_score': '0.102429', 'ticker_sentiment_label': 'Neutral'}, {'ticker': 'WMGTF', 'relevance_score': '0.18967', 'ticker_sentiment_score': '0.321508', 'ticker_sentiment_label': 'Somewhat-Bullish'}, {'ticker': 'BNS', 'relevance_score': '0.18967', 'ticker_sentiment_score': '0.0', 'ticker_sentiment_label': 'Neutral'}]}, {'title': 'Zentalis Pharmaceuticals Announces Inducement Grants Under Nasdaq Listing Rule 5635 ( c )  ( 4 ) ', 'url': 'https://www.globenewswire.com/news-release/2024/12/02/2990166/0/en/Zentalis-Pharmaceuticals-Announces-Inducement-Grants-Under-Nasdaq-Listing-Rule-5635-c-4.html', 'time_published': '20241202T213500', 'authors': ['ZENTALIS PHARMACEUTICALS'], 'summary': 'SAN DIEGO, Dec. 02, 2024 ( GLOBE NEWSWIRE ) -- Zentalis® Pharmaceuticals, Inc. ( Nasdaq: ZNTL ) , a clinical-stage biopharmaceutical company discovering and developing clinically differentiated small molecule therapeutics targeting fundamental biological pathways of cancers, today announced that ...', 'banner_image': 'https://ml.globenewswire.com/Resource/Download/1b481d6d-51c9-44f0-b33f-81feb1061d2e', 'source': 'GlobeNewswire', 'category_within_source': 'n/a', 'source_domain': 'www.globenewswire.com', 'topics': [{'topic': 'Life Sciences', 'relevance_score': '1.0'}, {'topic': 'Financial Markets', 'relevance_score': '0.999999'}], 'overall_sentiment_score': 0.158866, 'overall_sentiment_label': 'Somewhat-Bullish', 'ticker_sentiment': [{'ticker': 'ZNTL', 'relevance_score': '0.202932', 'ticker_sentiment_score': '0.178092', 'ticker_sentiment_label': 'Somewhat-Bullish'}]}, {'title': 'Bitcoin, Ethereum, Dogecoin Dip, But Trader Predicts $100,000 Bitcoin Breakout Followed By 20-25% Correction', 'url': 'https://www.benzinga.com/markets/cryptocurrency/24/12/42277774/bitcoin-ethereum-dogecoin-dip-but-trader-predicts-100000-bitcoin-breakout-followed-by-20-2', 'time_published': '20241202T213456', 'authors': ['Khyathi Dalal'], 'summary': 'Cryptocurrency markets are trading lower on Monday, with selected altcoins recording significant gains. IntoTheBlock data shows large transaction volume decreasing by 12.5% and daily active addresses falling by 12.4%. Transactions greater than $100,000 are down from 8,716 to 8,298 in a single day.', 'banner_image': 'https://cdn.benzinga.com/files/images/story/2024/12/02/Cryptocurrency-Photo-by-SvetlanaParnikov.jpeg?width=1200&height=800&fit=crop', 'source': 'Benzinga', 'category_within_source': 'News', 'source_domain': 'www.benzinga.com', 'topics': [{'topic': 'Finance', 'relevance_score': '1.0'}, {'topic': 'Blockchain', 'relevance_score': '0.310843'}, {'topic': 'Financial Markets', 'relevance_score': '0.538269'}], 'overall_sentiment_score': 0.203352, 'overall_sentiment_label': 'Somewhat-Bullish', 'ticker_sentiment': [{'ticker': 'COIN', 'relevance_score': '0.092927', 'ticker_sentiment_score': '0.0', 'ticker_sentiment_label': 'Neutral'}, {'ticker': 'CRYPTO:BTC', 'relevance_score': '0.64962', 'ticker_sentiment_score': '0.214675', 'ticker_sentiment_label': 'Somewhat-Bullish'}, {'ticker': 'CRYPTO:ETH', 'relevance_score': '0.184598', 'ticker_sentiment_score': '0.227016', 'ticker_sentiment_label': 'Somewhat-Bullish'}]}, {'title': 'BIP Investment Corporation Announces Results of Special Meeting and Intention to Redeem Series 1 Preferred Shares', 'url': 'https://www.globenewswire.com/news-release/2024/12/02/2990165/0/en/BIP-Investment-Corporation-Announces-Results-of-Special-Meeting-and-Intention-to-Redeem-Series-1-Preferred-Shares.html', 'time_published': '20241202T213200', 'authors': ['Brookfield Infrastructure Partners LP'], 'summary': 'BROOKFIELD, NEWS, Dec. 02, 2024 ( GLOBE NEWSWIRE ) -- BIP Investment Corporation ( \"BIPIC\" ) ( TSX: BIK.PR.A ) , an indirect subsidiary of Brookfield Infrastructure Partners L.P. ( \"Brookfield Infrastructure\" ) ( NYSE: BIP. TSX: BIP.UN ) , today announced the voting results from the special ...', 'banner_image': 'https://ml.globenewswire.com/Resource/Download/3b4a5ba9-5cac-40e1-97d1-0c6c949e4136', 'source': 'GlobeNewswire', 'category_within_source': 'n/a', 'source_domain': 'www.globenewswire.com', 'topics': [{'topic': 'Energy & Transportation', 'relevance_score': '0.5'}, {'topic': 'Real Estate & Construction', 'relevance_score': '0.5'}], 'overall_sentiment_score': 0.450331, 'overall_sentiment_label': 'Bullish', 'ticker_sentiment': [{'ticker': 'BIPC', 'relevance_score': '0.70749', 'ticker_sentiment_score': '0.440908', 'ticker_sentiment_label': 'Bullish'}, {'ticker': 'BAM', 'relevance_score': '0.083833', 'ticker_sentiment_score': '0.158976', 'ticker_sentiment_label': 'Somewhat-Bullish'}]}, {'title': 'Revolution Medicines Announces Commencement of Public Offering of Common Stock', 'url': 'https://www.globenewswire.com/news-release/2024/12/02/2990164/0/en/Revolution-Medicines-Announces-Commencement-of-Public-Offering-of-Common-Stock.html', 'time_published': '20241202T213100', 'authors': ['Revolution Medicines', 'Inc.'], 'summary': 'REDWOOD CITY, Calif., Dec. 02, 2024 ( GLOBE NEWSWIRE ) -- Revolution Medicines, Inc. ( Nasdaq: RVMD ) , a clinical-stage oncology company developing targeted therapies for patients with RAS-addicted cancers, today announced that it has commenced an underwritten public offering to sell up to ...', 'banner_image': 'https://ml.globenewswire.com/Resource/Download/771b34d9-586d-435a-a976-ab0ab847571b', 'source': 'GlobeNewswire', 'category_within_source': 'n/a', 'source_domain': 'www.globenewswire.com', 'topics': [{'topic': 'Life Sciences', 'relevance_score': '0.5'}, {'topic': 'IPO', 'relevance_score': '0.576289'}, {'topic': 'Financial Markets', 'relevance_score': '0.998311'}, {'topic': 'Finance', 'relevance_score': '0.5'}], 'overall_sentiment_score': 0.052355, 'overall_sentiment_label': 'Neutral', 'ticker_sentiment': [{'ticker': 'BR', 'relevance_score': '0.056143', 'ticker_sentiment_score': '0.089898', 'ticker_sentiment_label': 'Neutral'}, {'ticker': 'GS', 'relevance_score': '0.112008', 'ticker_sentiment_score': '0.106892', 'ticker_sentiment_label': 'Neutral'}, {'ticker': 'RVMD', 'relevance_score': '0.518708', 'ticker_sentiment_score': '-0.071899', 'ticker_sentiment_label': 'Neutral'}]}, {'title': \"Opinion | Southeast Asia's energy transition is lacking both finance and policy\", 'url': 'https://www.scmp.com/opinion/asia-opinion/article/3288756/southeast-asias-energy-transition-lacking-both-finance-and-policy', 'time_published': '20241202T213008', 'authors': ['Melissa Moi'], 'summary': 'The bulk of funds needed will have to come from private finance, which requires a conducive environment that regulatory policy can create.', 'banner_image': 'https://cdn.i-scmp.com/sites/default/files/styles/1020x680/public/d8/images/canvas/2024/12/02/86450dde-1cdb-437f-88e5-dfdae3555284_af33ca1f.jpg?itok=uflVe-No&v=1733109978', 'source': 'South China Morning Post', 'category_within_source': 'Business', 'source_domain': 'www.scmp.com', 'topics': [{'topic': 'Financial Markets', 'relevance_score': '0.316726'}], 'overall_sentiment_score': 0.222091, 'overall_sentiment_label': 'Somewhat-Bullish', 'ticker_sentiment': []}, {'title': 'MacroGenics to Participate in Upcoming Investor Conference - Macrogenics  ( NASDAQ:MGNX ) ', 'url': 'https://www.benzinga.com/pressreleases/24/12/g42277566/macrogenics-to-participate-in-upcoming-investor-conference', 'time_published': '20241202T213000', 'authors': ['Globe Newswire'], 'summary': \"ROCKVILLE, MD, Dec. 02, 2024 ( GLOBE NEWSWIRE ) -- -- MacroGenics, Inc. MGNX, a biopharmaceutical company focused on discovering, developing, manufacturing and commercializing innovative monoclonal antibody-based therapeutics for the treatment of cancer, today announced that the Company's ...\", 'banner_image': 'https://ml.globenewswire.com/media/72a7b58c-b7ca-4cd5-b2bb-185124351f1c/small/macrogenics-logo-transparent-background-png.png', 'source': 'Benzinga', 'category_within_source': 'General', 'source_domain': 'www.benzinga.com', 'topics': [{'topic': 'Life Sciences', 'relevance_score': '0.5'}, {'topic': 'Finance', 'relevance_score': '0.5'}], 'overall_sentiment_score': 0.108728, 'overall_sentiment_label': 'Neutral', 'ticker_sentiment': [{'ticker': 'EVR', 'relevance_score': '0.142565', 'ticker_sentiment_score': '0.0', 'ticker_sentiment_label': 'Neutral'}, {'ticker': 'MGNX', 'relevance_score': '0.92757', 'ticker_sentiment_score': '0.092751', 'ticker_sentiment_label': 'Neutral'}]}, {'title': 'NN, Inc. Executive Management to Present at the Noble Capital Markets 20th Annual Emerging Growth Equity Conference - NN  ( NASDAQ:NNBR ) ', 'url': 'https://www.benzinga.com/pressreleases/24/12/g42277565/nn-inc-executive-management-to-present-at-the-noble-capital-markets-20th-annual-emerging-growth-eq', 'time_published': '20241202T213000', 'authors': ['Globe Newswire'], 'summary': 'CHARLOTTE, N.C., Dec. 02, 2024 ( GLOBE NEWSWIRE ) -- NN, Inc.', 'banner_image': 'https://www.benzinga.com/next-assets/images/schema-image-default.png', 'source': 'Benzinga', 'category_within_source': 'News', 'source_domain': 'www.benzinga.com', 'topics': [{'topic': 'Technology', 'relevance_score': '1.0'}, {'topic': 'Financial Markets', 'relevance_score': '0.108179'}], 'overall_sentiment_score': 0.191399, 'overall_sentiment_label': 'Somewhat-Bullish', 'ticker_sentiment': [{'ticker': 'NNBR', 'relevance_score': '0.479683', 'ticker_sentiment_score': '0.212733', 'ticker_sentiment_label': 'Somewhat-Bullish'}]}, {'title': 'Brookfield Office Properties Announces Reset Dividend Rates and Conversion Privileges on Its Class AAA Series AA Preference Shares', 'url': 'https://www.benzinga.com/pressreleases/24/12/g42277564/brookfield-office-properties-announces-reset-dividend-rates-and-conversion-privileges-on-its-class', 'time_published': '20241202T213000', 'authors': ['Globe Newswire'], 'summary': 'Not for distribution to U.S. newswire services nor for dissemination to the United States. All amounts in Canadian dollars.', 'banner_image': 'https://www.benzinga.com/next-assets/images/schema-image-default.png', 'source': 'Benzinga', 'category_within_source': 'News', 'source_domain': 'www.benzinga.com', 'topics': [{'topic': 'Real Estate & Construction', 'relevance_score': '1.0'}, {'topic': 'Financial Markets', 'relevance_score': '0.796627'}], 'overall_sentiment_score': 0.342836, 'overall_sentiment_label': 'Somewhat-Bullish', 'ticker_sentiment': [{'ticker': 'BPYPP', 'relevance_score': '0.162255', 'ticker_sentiment_score': '0.141312', 'ticker_sentiment_label': 'Neutral'}]}, {'title': 'Voyageur Mineral Explorers Corp. Announces Board Appointment and Equity Incentive Grant', 'url': 'https://www.globenewswire.com/news-release/2024/12/02/2990158/0/en/Voyageur-Mineral-Explorers-Corp-Announces-Board-Appointment-and-Equity-Incentive-Grant.html', 'time_published': '20241202T213000', 'authors': ['Voyageur Mineral Explorers Corp.'], 'summary': 'TORONTO, Dec. 02, 2024 ( GLOBE NEWSWIRE ) -- Voyageur Mineral Explorers Corp. ( \"Voyageur\" or the \"Company\" ) ( CSE: VOY ) is pleased to announce the appointment of Brian Howlett to its Board of Directors. Mr. Howlett is a seasoned public company senior executive with more than 35 years of ...', 'banner_image': 'https://ml.globenewswire.com/Resource/Download/a9c89284-76eb-45ed-b026-5e20e59ca1aa', 'source': 'GlobeNewswire', 'category_within_source': 'n/a', 'source_domain': 'www.globenewswire.com', 'topics': [{'topic': 'Technology', 'relevance_score': '0.5'}, {'topic': 'Financial Markets', 'relevance_score': '0.360215'}, {'topic': 'Manufacturing', 'relevance_score': '0.5'}], 'overall_sentiment_score': 0.286657, 'overall_sentiment_label': 'Somewhat-Bullish', 'ticker_sentiment': [{'ticker': 'TSLA', 'relevance_score': '0.111488', 'ticker_sentiment_score': '0.096758', 'ticker_sentiment_label': 'Neutral'}, {'ticker': 'CNOBF', 'relevance_score': '0.111488', 'ticker_sentiment_score': '0.023281', 'ticker_sentiment_label': 'Neutral'}, {'ticker': 'CPEFF', 'relevance_score': '0.111488', 'ticker_sentiment_score': '0.023281', 'ticker_sentiment_label': 'Neutral'}, {'ticker': 'BITF', 'relevance_score': '0.111488', 'ticker_sentiment_score': '0.023281', 'ticker_sentiment_label': 'Neutral'}]}, {'title': 'MacroGenics to Participate in Upcoming Investor Conference', 'url': 'https://www.globenewswire.com/news-release/2024/12/02/2990161/0/en/MacroGenics-to-Participate-in-Upcoming-Investor-Conference.html', 'time_published': '20241202T213000', 'authors': ['MacroGenics', 'Inc.'], 'summary': 'ROCKVILLE, MD, Dec. 02, 2024 ( GLOBE NEWSWIRE ) -- -- MacroGenics, Inc. ( Nasdaq: MGNX ) , a biopharmaceutical company focused on discovering, developing, manufacturing and commercializing innovative monoclonal antibody-based therapeutics for the treatment of cancer, today announced that the ...', 'banner_image': 'https://ml.globenewswire.com/Resource/Download/72a7b58c-b7ca-4cd5-b2bb-185124351f1c', 'source': 'GlobeNewswire', 'category_within_source': 'n/a', 'source_domain': 'www.globenewswire.com', 'topics': [{'topic': 'Life Sciences', 'relevance_score': '0.5'}, {'topic': 'Finance', 'relevance_score': '0.5'}], 'overall_sentiment_score': 0.052044, 'overall_sentiment_label': 'Neutral', 'ticker_sentiment': [{'ticker': 'EVR', 'relevance_score': '0.162802', 'ticker_sentiment_score': '0.016458', 'ticker_sentiment_label': 'Neutral'}, {'ticker': 'MGNX', 'relevance_score': '0.960101', 'ticker_sentiment_score': '0.093753', 'ticker_sentiment_label': 'Neutral'}]}, {'title': 'Jasper Therapeutics Announces First Patient Dosed in Phase 1b/2a ETESIAN Clinical Study of Briquilimab in Asthma', 'url': 'https://www.globenewswire.com/news-release/2024/12/02/2990163/0/en/Jasper-Therapeutics-Announces-First-Patient-Dosed-in-Phase-1b-2a-ETESIAN-Clinical-Study-of-Briquilimab-in-Asthma.html', 'time_published': '20241202T213000', 'authors': ['Jasper Therapeutics', 'Inc.'], 'summary': 'REDWOOD CITY, Calif., Dec. 02, 2024 ( GLOBE NEWSWIRE ) -- Jasper Therapeutics, Inc. ( Nasdaq: JSPR ) ( Jasper ) , a clinical stage biotechnology company focused on development of briquilimab, a novel antibody therapy targeting c-Kit ( CD117 ) to address mast cell driven diseases such as chronic ...', 'banner_image': 'https://ml.globenewswire.com/Resource/Download/ed6e5311-feff-4502-874f-39486c6ba17a', 'source': 'GlobeNewswire', 'category_within_source': 'n/a', 'source_domain': 'www.globenewswire.com', 'topics': [{'topic': 'Real Estate & Construction', 'relevance_score': '1.0'}, {'topic': 'Financial Markets', 'relevance_score': '0.158519'}], 'overall_sentiment_score': 0.053212, 'overall_sentiment_label': 'Neutral', 'ticker_sentiment': [{'ticker': 'HESG', 'relevance_score': '0.030838', 'ticker_sentiment_score': '-0.076155', 'ticker_sentiment_label': 'Neutral'}, {'ticker': 'JSPR', 'relevance_score': '0.061631', 'ticker_sentiment_score': '0.052272', 'ticker_sentiment_label': 'Neutral'}]}, {'title': 'Lumina Gold Announces US$6.0 Million Wheaton Precious Draw - Lumina Gold  ( OTC:LMGDF ) ', 'url': 'https://www.benzinga.com/pressreleases/24/12/n42277580/lumina-gold-announces-us-6-0-million-wheaton-precious-draw', 'time_published': '20241202T213000', 'authors': ['PRNewswire'], 'summary': 'VANCOUVER, BC, Dec. 2, 2024 /PRNewswire/ - Lumina Gold Corp.', 'banner_image': 'https://mma.prnewswire.com/media/2571098/Lumina_Gold_Corp__Lumina_Gold_Announces_US_6_0_Million_Wheaton_P.jpg', 'source': 'Benzinga', 'category_within_source': 'News', 'source_domain': 'www.benzinga.com', 'topics': [{'topic': 'Energy & Transportation', 'relevance_score': '0.5'}, {'topic': 'Technology', 'relevance_score': '0.5'}, {'topic': 'Financial Markets', 'relevance_score': '0.108179'}], 'overall_sentiment_score': 0.217724, 'overall_sentiment_label': 'Somewhat-Bullish', 'ticker_sentiment': [{'ticker': 'CURN', 'relevance_score': '0.042271', 'ticker_sentiment_score': '-0.035808', 'ticker_sentiment_label': 'Neutral'}, {'ticker': 'META', 'relevance_score': '0.042271', 'ticker_sentiment_score': '0.0', 'ticker_sentiment_label': 'Neutral'}, {'ticker': 'WPM', 'relevance_score': '0.084423', 'ticker_sentiment_score': '0.141612', 'ticker_sentiment_label': 'Neutral'}]}, {'title': 'NN, Inc. Executive Management to Present at the Noble Capital Markets 20th Annual Emerging Growth Equity Conference', 'url': 'https://www.globenewswire.com/news-release/2024/12/02/2990160/0/en/NN-Inc-Executive-Management-to-Present-at-the-Noble-Capital-Markets-20th-Annual-Emerging-Growth-Equity-Conference.html', 'time_published': '20241202T213000', 'authors': ['NN', 'Inc.'], 'summary': 'CHARLOTTE, N.C., Dec. 02, 2024 ( GLOBE NEWSWIRE ) -- NN, Inc. ( NASDAQ: NNBR ) , a global diversified industrial company that engineers and manufactures high-precision components and assemblies, announced today that Chris Bohnert, Senior Vice President and Chief Financial Officer, will present ...', 'banner_image': 'https://ml.globenewswire.com/Resource/Download/bf2f92b9-9714-4fdc-a0c0-7f216f42e1bb', 'source': 'GlobeNewswire', 'category_within_source': 'n/a', 'source_domain': 'www.globenewswire.com', 'topics': [{'topic': 'Technology', 'relevance_score': '1.0'}], 'overall_sentiment_score': 0.147364, 'overall_sentiment_label': 'Neutral', 'ticker_sentiment': [{'ticker': 'NNBR', 'relevance_score': '0.578355', 'ticker_sentiment_score': '0.240087', 'ticker_sentiment_label': 'Somewhat-Bullish'}]}, {'title': 'Wall Street Loses Iconic Voice: Art Cashin Dies At 83', 'url': 'https://www.benzinga.com/markets/24/12/42277474/wall-street-loses-iconic-voice-art-cashin-dies-at-83', 'time_published': '20241202T212658', 'authors': ['Michael Cohen'], 'summary': 'Art Cashin, the legendary director of floor operations at UBS and a revered figure at the New York Stock Exchange, has died at 83. Known for his unmatched market insights and storytelling prowess, Cashin was a cornerstone of Wall Street for over six decades, CNBC reports.', 'banner_image': 'https://cdn.benzinga.com/files/images/story/2024/12/02/Wall-Street-dall.png?width=1200&height=800&fit=crop', 'source': 'Benzinga', 'category_within_source': 'General', 'source_domain': 'www.benzinga.com', 'topics': [{'topic': 'Financial Markets', 'relevance_score': '0.87644'}], 'overall_sentiment_score': 0.281996, 'overall_sentiment_label': 'Somewhat-Bullish', 'ticker_sentiment': []}]}\u001b[0m\n"
     ]
    },
    {
     "name": "stdout",
     "output_type": "stream",
     "text": [
      "Thought:\u001b[32;1m\u001b[1;3mThought:The AlphaVantage data provides a mixed sentiment. While some tickers show bullish sentiment, many are neutral.  This doesn't give a clear picture of the crypto market itself. I'll now use the Yahoo News tool to get recent news on Bitcoin and Ethereum to see if there are any major events impacting their price or sentiment.\n",
      "\n",
      "Action: My Yahoo News Tool\n",
      "Action Input: BTC, ETH\n",
      "\u001b[0m\n",
      "Observation: \u001b[36;1m\u001b[1;3m[{'uuid': 'ded7256b-4023-32f7-95b5-e5c333de7783', 'title': 'November gains, bitcoin ETF inflows, Black Friday: 3 Things', 'publisher': 'Yahoo Finance Video', 'link': 'https://finance.yahoo.com/video/november-gains-bitcoin-etf-inflows-141853893.html', 'providerPublishTime': 1732889933, 'type': 'VIDEO', 'thumbnail': {'resolutions': [{'url': 'https://s.yimg.com/uu/api/res/1.2/KKGkLC69.5Wg9zes3MW2SQ--~B/aD0yMjY0O3c9NDAzMjthcHBpZD15dGFjaHlvbg--/https://s.yimg.com/os/creatr-uploaded-images/2024-11/7f9721d0-ae5c-11ef-8fdb-5a805ee2dce9', 'width': 4032, 'height': 2264, 'tag': 'original'}, {'url': 'https://s.yimg.com/uu/api/res/1.2/5ftWji8ooP4Qx0tjXZxrRg--~B/Zmk9ZmlsbDtoPTE0MDtweW9mZj0wO3c9MTQwO2FwcGlkPXl0YWNoeW9u/https://s.yimg.com/os/creatr-uploaded-images/2024-11/7f9721d0-ae5c-11ef-8fdb-5a805ee2dce9', 'width': 140, 'height': 140, 'tag': '140x140'}]}, 'relatedTickers': ['BITO', 'GBTC', 'BTC-USD', 'IBIT', 'HODL', 'ES=F', 'M', 'NQ=F', 'DX-Y.NYB', 'BITI', 'YM=F', 'JWN', 'KSS', 'BITC', 'ARKB', 'BTC', 'BITB']}, {'uuid': '4e0c7920-768e-41a0-a32f-31126c4d2caf', 'title': 'Bitcoin is doing the thing it needs to do: Morning Brief', 'publisher': 'Yahoo Finance', 'link': 'https://finance.yahoo.com/news/bitcoin-is-doing-the-thing-it-needs-to-do-morning-brief-110032985.html', 'providerPublishTime': 1732273232, 'type': 'STORY', 'thumbnail': {'resolutions': [{'url': 'https://s.yimg.com/uu/api/res/1.2/JmcK.ABxhAREwovpNDS7lA--~B/aD0yNjI3O3c9Mzk0MTthcHBpZD15dGFjaHlvbg--/https://s.yimg.com/os/creatr-uploaded-images/2024-11/b9236480-a1e2-11ef-bb7b-3bca54baf1d7', 'width': 3941, 'height': 2627, 'tag': 'original'}, {'url': 'https://s.yimg.com/uu/api/res/1.2/BElRp2PB2ObHMEh3A61kow--~B/Zmk9ZmlsbDtoPTE0MDtweW9mZj0wO3c9MTQwO2FwcGlkPXl0YWNoeW9u/https://s.yimg.com/os/creatr-uploaded-images/2024-11/b9236480-a1e2-11ef-bb7b-3bca54baf1d7', 'width': 140, 'height': 140, 'tag': '140x140'}]}, 'relatedTickers': ['BTC-USD', 'BTC', 'MSTR']}, {'uuid': '3e06cd29-4fe5-48ab-84bc-e5c1c4afeb56', 'title': 'Bitcoin jumps back above $98,000 after SEC announces Gary Gensler will step down', 'publisher': 'Yahoo Finance', 'link': 'https://finance.yahoo.com/news/bitcoin-jumps-back-above-98000-after-sec-announces-gary-gensler-will-step-down-182502440.html', 'providerPublishTime': 1732213502, 'type': 'STORY', 'thumbnail': {'resolutions': [{'url': 'https://s.yimg.com/uu/api/res/1.2/WbPygpJ_dva41frVPFjLNw--~B/aD0zNjQ4O3c9NTQ3MjthcHBpZD15dGFjaHlvbg--/https://s.yimg.com/os/creatr-uploaded-images/2024-11/eb448370-a7c0-11ef-aeff-24235abe900c', 'width': 5472, 'height': 3648, 'tag': 'original'}, {'url': 'https://s.yimg.com/uu/api/res/1.2/aKu0KlHsgIDLzHCVd1EFpg--~B/Zmk9ZmlsbDtoPTE0MDtweW9mZj0wO3c9MTQwO2FwcGlkPXl0YWNoeW9u/https://s.yimg.com/os/creatr-uploaded-images/2024-11/eb448370-a7c0-11ef-aeff-24235abe900c', 'width': 140, 'height': 140, 'tag': '140x140'}]}, 'relatedTickers': ['BTC-USD', 'BTC']}, {'uuid': 'c9b8eef5-4ce1-3db2-92c9-18baad7fd7a6', 'title': \"'All lights are green' for bitcoin: CoinDesk executive\", 'publisher': 'Yahoo Finance Video', 'link': 'https://finance.yahoo.com/video/lights-green-bitcoin-coindesk-executive-160459343.html', 'providerPublishTime': 1731341099, 'type': 'VIDEO', 'thumbnail': {'resolutions': [{'url': 'https://s.yimg.com/uu/api/res/1.2/tdhQhDvK.IchKUQ75AhOjw--~B/aD0zNDIzO3c9NjA3OTthcHBpZD15dGFjaHlvbg--/https://s.yimg.com/os/creatr-uploaded-images/2024-11/b147ead0-a046-11ef-bd97-8fb1507f24cf', 'width': 6079, 'height': 3423, 'tag': 'original'}, {'url': 'https://s.yimg.com/uu/api/res/1.2/ezq_3sMtZ2UAeX2rpbnWzQ--~B/Zmk9ZmlsbDtoPTE0MDtweW9mZj0wO3c9MTQwO2FwcGlkPXl0YWNoeW9u/https://s.yimg.com/os/creatr-uploaded-images/2024-11/b147ead0-a046-11ef-bd97-8fb1507f24cf', 'width': 140, 'height': 140, 'tag': '140x140'}]}, 'relatedTickers': ['SOL', 'CU=F', 'DOGE-USD', 'BTC']}, {'uuid': '1a8d64ae-9d88-46ee-a781-4393dba90510', 'title': 'Bitcoin reaches record high of $87,000 as crypto, Trump trades dominate stock market', 'publisher': 'Yahoo Finance', 'link': 'https://finance.yahoo.com/news/bitcoin-reaches-record-high-of-87000-as-crypto-trump-trades-dominate-stock-market-143831823.html', 'providerPublishTime': 1731335911, 'type': 'STORY', 'thumbnail': {'resolutions': [{'url': 'https://s.yimg.com/uu/api/res/1.2/Ec6.2eyWpz62Fjr62ZjCPw--~B/aD0yMTAyO3c9MzE0MDthcHBpZD15dGFjaHlvbg--/https://s.yimg.com/os/creatr-uploaded-images/2024-11/208a08d0-a036-11ef-b5df-ecc81dfd31f7', 'width': 3140, 'height': 2102, 'tag': 'original'}, {'url': 'https://s.yimg.com/uu/api/res/1.2/EjEfRR_1U0yXjpEWNrO5JA--~B/Zmk9ZmlsbDtoPTE0MDtweW9mZj0wO3c9MTQwO2FwcGlkPXl0YWNoeW9u/https://s.yimg.com/os/creatr-uploaded-images/2024-11/208a08d0-a036-11ef-b5df-ecc81dfd31f7', 'width': 140, 'height': 140, 'tag': '140x140'}]}, 'relatedTickers': ['MSTR', 'BTC', 'COIN', 'IBIT', 'BTC-USD', 'TSLA', 'GBTC', 'HOOD']}, {'uuid': '41866c03-15b4-4f8b-bf6d-f875858d0209', 'title': 'Trump’s bitcoin superpower promise may help Nvidia: Tech investor', 'publisher': 'Yahoo Finance', 'link': 'https://finance.yahoo.com/news/trumps-bitcoin-superpower-promise-may-help-nvidia-tech-investor-141808711.html', 'providerPublishTime': 1731334688, 'type': 'STORY', 'thumbnail': {'resolutions': [{'url': 'https://s.yimg.com/uu/api/res/1.2/_v1Rg9OSLcgm.ctjmC6VUg--~B/aD0zNzcxO3c9NTY2MDthcHBpZD15dGFjaHlvbg--/https://s.yimg.com/os/creatr-uploaded-images/2024-10/67c271e0-9f93-11ef-8ffc-4c70cb27f2f0', 'width': 5660, 'height': 3771, 'tag': 'original'}, {'url': 'https://s.yimg.com/uu/api/res/1.2/VmiecT82.VA4dIHgdScZkw--~B/Zmk9ZmlsbDtoPTE0MDtweW9mZj0wO3c9MTQwO2FwcGlkPXl0YWNoeW9u/https://s.yimg.com/os/creatr-uploaded-images/2024-10/67c271e0-9f93-11ef-8ffc-4c70cb27f2f0', 'width': 140, 'height': 140, 'tag': '140x140'}]}, 'relatedTickers': ['BTC', 'TSLA', 'BTC-USD', 'HOOD', 'COIN', 'NVDA', 'AMD', 'INTC']}, {'uuid': '2e3a6437-e662-3785-b924-044856e9eb87', 'title': 'Opportunity in small caps, banks post-election: Analyst', 'publisher': 'Yahoo Finance Video', 'link': 'https://finance.yahoo.com/video/opportunity-small-caps-banks-post-183315103.html', 'providerPublishTime': 1731090795, 'type': 'VIDEO', 'thumbnail': {'resolutions': [{'url': 'https://s.yimg.com/uu/api/res/1.2/5kezEErN68NenAseiVKnDQ--~B/aD0zMzc5O3c9NjAwMDthcHBpZD15dGFjaHlvbg--/https://s.yimg.com/os/creatr-uploaded-images/2024-10/4aa70ad0-9dfe-11ef-861e-c52feae6388e', 'width': 6000, 'height': 3379, 'tag': 'original'}, {'url': 'https://s.yimg.com/uu/api/res/1.2/yVedMrR04Bg8wpbr9spCYw--~B/Zmk9ZmlsbDtoPTE0MDtweW9mZj0wO3c9MTQwO2FwcGlkPXl0YWNoeW9u/https://s.yimg.com/os/creatr-uploaded-images/2024-10/4aa70ad0-9dfe-11ef-861e-c52feae6388e', 'width': 140, 'height': 140, 'tag': '140x140'}]}, 'relatedTickers': ['BTC', 'WBD', 'SHOO', 'XLI']}, {'uuid': '53d16328-b921-3144-aa4b-95b605c29865', 'title': 'Grayscale Adds XRP Trust to Investment Lineup', 'publisher': 'etf.com', 'link': 'https://finance.yahoo.com/m/53d16328-b921-3144-aa4b-95b605c29865/grayscale-adds-xrp-trust-to.html', 'providerPublishTime': 1726257549, 'type': 'STORY', 'thumbnail': {'resolutions': [{'url': 'https://s.yimg.com/uu/api/res/1.2/JfyrpTimH0rVx30mc7qsvA--~B/aD04MzY7dz0xMjU0O2FwcGlkPXl0YWNoeW9u/https://media.zenfs.com/en/indexuniverse.com/a130d793ae5df7225882fedba85f8816', 'width': 1254, 'height': 836, 'tag': 'original'}, {'url': 'https://s.yimg.com/uu/api/res/1.2/nMyBrtakSbqU02nVlRImcw--~B/Zmk9ZmlsbDtoPTE0MDtweW9mZj0wO3c9MTQwO2FwcGlkPXl0YWNoeW9u/https://media.zenfs.com/en/indexuniverse.com/a130d793ae5df7225882fedba85f8816', 'width': 140, 'height': 140, 'tag': '140x140'}]}, 'relatedTickers': ['BTC', 'ETHE', 'GBTC', 'ETH']}]\u001b[0m\n",
      "Thought:\u001b[32;1m\u001b[1;3mThought:The Yahoo Finance news articles highlight recent price movements and events influencing Bitcoin, such as the SEC chair's departure and ETF speculation.  This adds context to the AlphaVantage sentiment analysis. To complete the picture, I'll use Google Finance to get a sense of the overall market cap and current prices.\n",
      "\n",
      "Action: google_finance\n",
      "Action Input: Bitcoin, Ethereum\n"
     ]
    },
    {
     "name": "stdout",
     "output_type": "stream",
     "text": [
      "\u001b[0m\n",
      "Observation: \u001b[38;5;200m\u001b[1;3m\n",
      "Query: Bitcoin, Ethereum\n",
      "\n",
      "No summary information\n",
      "us: price = 44782.0, movement = Down\n",
      "europe: price = 19933.62, movement = Up\n",
      "asia: price = 38513.02, movement = Up\n",
      "\u001b[0m\n",
      "Thought:\u001b[32;1m\u001b[1;3mThought:I now have a fairly comprehensive overview.  AlphaVantage showed mixed sentiment, Yahoo Finance news indicated recent price volatility driven by specific events, and Google Finance provided current price information across different regions.  While some news is positive, the overall picture is one of significant volatility and uncertainty.  Therefore, I cannot recommend whether or not to invest.\n",
      "\n",
      "Final Answer: Based on the available data, the cryptocurrency market, specifically Bitcoin and Ethereum, shows mixed sentiment and considerable price volatility.  Recent news suggests factors such as the SEC chair's departure and ETF speculation are influencing prices.  Given this uncertainty, I cannot recommend whether or not you should invest in cryptocurrencies.  Investing in crypto carries significant risk, and you should conduct thorough research and consult with a financial advisor before making any investment decisions.\n",
      "\u001b[0m\n",
      "\n",
      "\u001b[1m> Finished chain.\u001b[0m\n"
     ]
    },
    {
     "data": {
      "text/plain": [
       "\"Based on the available data, the cryptocurrency market, specifically Bitcoin and Ethereum, shows mixed sentiment and considerable price volatility.  Recent news suggests factors such as the SEC chair's departure and ETF speculation are influencing prices.  Given this uncertainty, I cannot recommend whether or not you should invest in cryptocurrencies.  Investing in crypto carries significant risk, and you should conduct thorough research and consult with a financial advisor before making any investment decisions.\""
      ]
     },
     "execution_count": 12,
     "metadata": {},
     "output_type": "execute_result"
    }
   ],
   "source": [
    "\"\"\"\n",
    "Feed in query: Tell me about Crypto. Should I invest in it?\n",
    "\n",
    "\"\"\"\n",
    "\n",
    "\n",
    "conversational_agent.run(\"Tell me about Crypto. Should I invest in it?\")"
   ]
  },
  {
   "cell_type": "code",
   "execution_count": 13,
   "id": "08fd37e6",
   "metadata": {},
   "outputs": [
    {
     "name": "stdout",
     "output_type": "stream",
     "text": [
      "\n",
      "\n",
      "\u001b[1m> Entering new AgentExecutor chain...\u001b[0m\n",
      "\u001b[32;1m\u001b[1;3mThought: To determine whether to buy Nvidia, I need to analyze its current market performance, news sentiment, and overall financial health.  I'll start by checking recent news and then assess sentiment.\n",
      "\n",
      "Action: My Yahoo News Tool\n",
      "Action Input: NVDA\n",
      "\u001b[0m\n",
      "Observation: \u001b[36;1m\u001b[1;3m[{'uuid': 'c7fc3792-42be-3421-ad4b-02a41a5de6e0', 'title': 'Alpha & Omega Semiconductor Stock Scores Relative Strength Rating Upgrade', 'publisher': \"Investor's Business Daily\", 'link': 'https://finance.yahoo.com/m/c7fc3792-42be-3421-ad4b-02a41a5de6e0/alpha-%26-omega-semiconductor.html', 'providerPublishTime': 1733178840, 'type': 'STORY', 'thumbnail': {'resolutions': [{'url': 'https://s.yimg.com/uu/api/res/1.2/CV9O53fka7aSG3Lpv1LaCQ--~B/aD01NjM7dz0xMDAwO2FwcGlkPXl0YWNoeW9u/https://media.zenfs.com/en/ibd.com/34cca67fae26bc0f236698386833518e', 'width': 1000, 'height': 563, 'tag': 'original'}, {'url': 'https://s.yimg.com/uu/api/res/1.2/VCbf8TE4edJ63Xauo_uFmA--~B/Zmk9ZmlsbDtoPTE0MDtweW9mZj0wO3c9MTQwO2FwcGlkPXl0YWNoeW9u/https://media.zenfs.com/en/ibd.com/34cca67fae26bc0f236698386833518e', 'width': 140, 'height': 140, 'tag': '140x140'}]}, 'relatedTickers': ['AOSL', 'STM', 'STMEF', 'NVDA', 'PI']}, {'uuid': '2a2c5c4c-b861-3b3f-898d-b61393f951f9', 'title': \"Trump's FCC pick Brendan Carr: What it means for Big Tech\", 'publisher': 'Yahoo Finance Video', 'link': 'https://finance.yahoo.com/video/trumps-fcc-pick-brendan-carr-220646563.html', 'providerPublishTime': 1733177206, 'type': 'VIDEO', 'thumbnail': {'resolutions': [{'url': 'https://s.yimg.com/uu/api/res/1.2/i8GHwDxAYrzZAkvJtq9kAg--~B/aD0xNTQzO3c9Mjc0MjthcHBpZD15dGFjaHlvbg--/https://s.yimg.com/os/creatr-uploaded-images/2024-12/59e43cd0-b0f9-11ef-bbee-a27171da9c9e', 'width': 2742, 'height': 1543, 'tag': 'original'}, {'url': 'https://s.yimg.com/uu/api/res/1.2/p6EpV3gum68Dq1nxiqFRRQ--~B/Zmk9ZmlsbDtoPTE0MDtweW9mZj0wO3c9MTQwO2FwcGlkPXl0YWNoeW9u/https://s.yimg.com/os/creatr-uploaded-images/2024-12/59e43cd0-b0f9-11ef-bbee-a27171da9c9e', 'width': 140, 'height': 140, 'tag': '140x140'}]}, 'relatedTickers': ['AAPL', 'TSLA', 'MSFT', 'NVDA', 'META', 'GOOG']}, {'uuid': '5938c6f3-d741-3e1f-a433-ade4b2be05f0', 'title': 'Intel CEO Pat Gelsinger Resigns After Struggling to Turn Around Chip Maker', 'publisher': 'The Wall Street Journal', 'link': 'https://finance.yahoo.com/m/5938c6f3-d741-3e1f-a433-ade4b2be05f0/intel-ceo-pat-gelsinger.html', 'providerPublishTime': 1733176320, 'type': 'STORY', 'thumbnail': {'resolutions': [{'url': 'https://s.yimg.com/uu/api/res/1.2/Fwf5HL4GsEGPbDfR3MJBPg--~B/aD02MzA7dz0xMjAwO2FwcGlkPXl0YWNoeW9u/https://media.zenfs.com/en/wsj.com/7b2c285183be07ca3c4e8242b25a59a8', 'width': 1200, 'height': 630, 'tag': 'original'}, {'url': 'https://s.yimg.com/uu/api/res/1.2/zIJaagDuCJitt1Cvcwyc7A--~B/Zmk9ZmlsbDtoPTE0MDtweW9mZj0wO3c9MTQwO2FwcGlkPXl0YWNoeW9u/https://media.zenfs.com/en/wsj.com/7b2c285183be07ca3c4e8242b25a59a8', 'width': 140, 'height': 140, 'tag': '140x140'}]}, 'relatedTickers': ['INTC', 'NVDA']}, {'uuid': '176250af-6353-3857-84ef-71ffd0e9af75', 'title': 'Analyst Says Potential Trade War to Have ‘Material Impact’ on Nvidia (NVDA)', 'publisher': 'Insider Monkey', 'link': 'https://finance.yahoo.com/news/analyst-says-potential-trade-war-214941422.html', 'providerPublishTime': 1733176181, 'type': 'STORY', 'thumbnail': {'resolutions': [{'url': 'https://s.yimg.com/uu/api/res/1.2/TTeuFy5Yw2gv7xivFvRsTg--~B/aD04MTY7dz0xNDU2O2FwcGlkPXl0YWNoeW9u/https://media.zenfs.com/en/insidermonkey.com/aa94e059977d3251b8b0630718e013fc', 'width': 1456, 'height': 816, 'tag': 'original'}, {'url': 'https://s.yimg.com/uu/api/res/1.2/TZeknJ_fhN5h4AGoB8ZDOg--~B/Zmk9ZmlsbDtoPTE0MDtweW9mZj0wO3c9MTQwO2FwcGlkPXl0YWNoeW9u/https://media.zenfs.com/en/insidermonkey.com/aa94e059977d3251b8b0630718e013fc', 'width': 140, 'height': 140, 'tag': '140x140'}]}, 'relatedTickers': ['NVDA']}, {'uuid': '75d1ae88-0d86-3275-a286-ab3310c923a9', 'title': 'NVIDIA Corporation (NVDA) Among the Best Stocks to Buy For Long Term Growth According to This Indicator', 'publisher': 'Insider Monkey', 'link': 'https://finance.yahoo.com/news/nvidia-corporation-nvda-among-best-214649077.html', 'providerPublishTime': 1733176009, 'type': 'STORY', 'thumbnail': {'resolutions': [{'url': 'https://s.yimg.com/uu/api/res/1.2/TTeuFy5Yw2gv7xivFvRsTg--~B/aD04MTY7dz0xNDU2O2FwcGlkPXl0YWNoeW9u/https://media.zenfs.com/en/insidermonkey.com/aa94e059977d3251b8b0630718e013fc', 'width': 1456, 'height': 816, 'tag': 'original'}, {'url': 'https://s.yimg.com/uu/api/res/1.2/TZeknJ_fhN5h4AGoB8ZDOg--~B/Zmk9ZmlsbDtoPTE0MDtweW9mZj0wO3c9MTQwO2FwcGlkPXl0YWNoeW9u/https://media.zenfs.com/en/insidermonkey.com/aa94e059977d3251b8b0630718e013fc', 'width': 140, 'height': 140, 'tag': '140x140'}]}, 'relatedTickers': ['NVDA', '^GSPC']}, {'uuid': 'f17cffc6-89da-3615-8768-80fe66eaa9d4', 'title': 'These Stocks Moved the Most Today: Super Micro, Intel, Tesla, Stellantis, Upstart, Gap, Norwegian, and More', 'publisher': 'Barrons.com', 'link': 'https://finance.yahoo.com/m/f17cffc6-89da-3615-8768-80fe66eaa9d4/these-stocks-moved-the-most.html', 'providerPublishTime': 1733174460, 'type': 'STORY', 'thumbnail': {'resolutions': [{'url': 'https://s.yimg.com/uu/api/res/1.2/_kc6REYMS1JrAuV5bYtjfA--~B/aD02NTt3PTMyMDthcHBpZD15dGFjaHlvbg--/https://media.zenfs.com/en/Barrons.com/12ea0f43d8f8307249a68d1cb2e0587e', 'width': 320, 'height': 65, 'tag': 'original'}, {'url': 'https://s.yimg.com/uu/api/res/1.2/5waH37HKuL3X52B3V2GWrw--~B/Zmk9ZmlsbDtoPTE0MDtweW9mZj0wO3c9MTQwO2FwcGlkPXl0YWNoeW9u/https://media.zenfs.com/en/Barrons.com/12ea0f43d8f8307249a68d1cb2e0587e', 'width': 140, 'height': 140, 'tag': '140x140'}]}, 'relatedTickers': ['SMCI', 'NVDA', 'STLAM.MI', 'TSLA']}, {'uuid': '2ecf0a10-37a3-3bb9-b489-1d4a1aa6737a', 'title': 'Intel CEO Forced Out by Board Frustrated With Slow Progress', 'publisher': 'Bloomberg', 'link': 'https://finance.yahoo.com/news/intel-ceo-gelsinger-leaves-chipmaker-140147477.html', 'providerPublishTime': 1733173587, 'type': 'STORY', 'thumbnail': {'resolutions': [{'url': 'https://s.yimg.com/uu/api/res/1.2/weskEIYB6fKe_RNVwrPxKA--~B/aD0xMzMxO3c9MjAwMDthcHBpZD15dGFjaHlvbg--/https://media.zenfs.com/en/bloomberg_technology_68/81429220603efed3b8a6d002d2fa8d27', 'width': 2000, 'height': 1331, 'tag': 'original'}, {'url': 'https://s.yimg.com/uu/api/res/1.2/vBxr.oxZsznGKrj54aWFFA--~B/Zmk9ZmlsbDtoPTE0MDtweW9mZj0wO3c9MTQwO2FwcGlkPXl0YWNoeW9u/https://media.zenfs.com/en/bloomberg_technology_68/81429220603efed3b8a6d002d2fa8d27', 'width': 140, 'height': 140, 'tag': '140x140'}]}, 'relatedTickers': ['INTC', 'NVDA']}, {'uuid': 'efb42abd-165c-407a-929a-45525901b5b7', 'title': 'Super Micro says independent review finds no evidence of misconduct as company searches for new CFO', 'publisher': 'Yahoo Finance', 'link': 'https://finance.yahoo.com/news/super-micro-says-independent-review-finds-no-evidence-of-misconduct-as-company-searches-for-new-cfo-173941555.html', 'providerPublishTime': 1733173520, 'type': 'STORY', 'thumbnail': {'resolutions': [{'url': 'https://s.yimg.com/uu/api/res/1.2/QcD0eZIw24.3qzIwjot2sA--~B/aD0zMzMzO3c9NTAwMDthcHBpZD15dGFjaHlvbg--/https://s.yimg.com/os/creatr-uploaded-images/2024-10/0ad1d300-96cd-11ef-99ef-f61282d6bb82', 'width': 5000, 'height': 3333, 'tag': 'original'}, {'url': 'https://s.yimg.com/uu/api/res/1.2/3XTyhzVQ7oC3HbX3fZwLmQ--~B/Zmk9ZmlsbDtoPTE0MDtweW9mZj0wO3c9MTQwO2FwcGlkPXl0YWNoeW9u/https://s.yimg.com/os/creatr-uploaded-images/2024-10/0ad1d300-96cd-11ef-99ef-f61282d6bb82', 'width': 140, 'height': 140, 'tag': '140x140'}]}, 'relatedTickers': ['SMCI', 'NVDA']}]\u001b[0m\n",
      "Thought:\u001b[32;1m\u001b[1;3mThought:The Yahoo News Tool provided several news articles related to NVDA (Nvidia), some positive and some negative.  To get a better understanding of the overall sentiment, I'll use AlphaVantage to analyze the news sentiment.\n",
      "\n",
      "Action: AlphaVantage Stock Data\n",
      "Action Input: NVDA\n",
      "\u001b[0m\n",
      "Observation: \u001b[33;1m\u001b[1;3m{'items': '50', 'sentiment_score_definition': 'x <= -0.35: Bearish; -0.35 < x <= -0.15: Somewhat-Bearish; -0.15 < x < 0.15: Neutral; 0.15 <= x < 0.35: Somewhat_Bullish; x >= 0.35: Bullish', 'relevance_score_definition': '0 < x <= 1, with a higher score indicating higher relevance.', 'feed': [{'title': \"Elon Musk $56B Pay Package Rejected By Judge Again: Tesla Analyst Says 'A Soap Opera Playing Out In Delaware' - Tesla  ( NASDAQ:TSLA ) \", 'url': 'https://www.benzinga.com/analyst-ratings/analyst-color/24/12/42279851/elon-musk-56b-pay-package-rejected-by-judge-again-tesla-analyst-says-a-soap-opera-p', 'time_published': '20241202T230010', 'authors': ['Chris Katje'], 'summary': 'A Delaware judge has once again struck down a compensation plan for Tesla Inc TSLA CEO Elon Musk from 2018, news that comes six months after Tesla shareholders approved the pay package for a second time.', 'banner_image': 'https://cdn.benzinga.com/files/images/story/2024/12/02/How-A-College-Dropout-Cracked-Hollywoods.jpeg?width=1200&height=800&fit=crop', 'source': 'Benzinga', 'category_within_source': 'News', 'source_domain': 'www.benzinga.com', 'topics': [{'topic': 'Financial Markets', 'relevance_score': '0.413559'}, {'topic': 'Manufacturing', 'relevance_score': '1.0'}], 'overall_sentiment_score': 0.077529, 'overall_sentiment_label': 'Neutral', 'ticker_sentiment': [{'ticker': 'TSLA', 'relevance_score': '0.657821', 'ticker_sentiment_score': '0.284567', 'ticker_sentiment_label': 'Somewhat-Bullish'}]}, {'title': 'Why Shopify Stock Skyrocketed 48% Last Month', 'url': 'https://www.fool.com/investing/2024/12/02/why-shopify-stock-skyrocketed-48-last-month/', 'time_published': '20241202T225800', 'authors': ['Jon Quast'], 'summary': 'Shares of e-commerce software company Shopify ( NYSE: SHOP ) skyrocketed 47.8% during November, according to data provided by S&P Global Market Intelligence. The company helps businesses sell products online, and these merchant customers are doing quite well right now.Shopify uses a metric called ...', 'banner_image': 'https://media.ycharts.com/charts/be6a6497424abb70d7bd00e4f536d5cb.png', 'source': 'Motley Fool', 'category_within_source': 'n/a', 'source_domain': 'www.fool.com', 'topics': [{'topic': 'Earnings', 'relevance_score': '0.744043'}, {'topic': 'Technology', 'relevance_score': '1.0'}, {'topic': 'Financial Markets', 'relevance_score': '0.266143'}], 'overall_sentiment_score': 0.484331, 'overall_sentiment_label': 'Bullish', 'ticker_sentiment': [{'ticker': 'SHOP', 'relevance_score': '0.700759', 'ticker_sentiment_score': '0.645091', 'ticker_sentiment_label': 'Bullish'}, {'ticker': 'SPGI', 'relevance_score': '0.082677', 'ticker_sentiment_score': '0.303226', 'ticker_sentiment_label': 'Somewhat-Bullish'}]}, {'title': 'VENHUB GLOBAL, INC., A PROVIDER OF FULLY AUTONOMOUS AND ROBOTIC RETAIL SOLUTIONS, TO LIST ON NASDAQ - Target Global Acquisition  ( NASDAQ:TGAA ) ', 'url': 'https://www.benzinga.com/pressreleases/24/12/g42279835/venhub-global-inc-a-provider-of-fully-autonomous-and-robotic-retail-solutions-to-list-on-nasdaq', 'time_published': '20241202T225712', 'authors': ['Globe Newswire'], 'summary': 'VenHub Global, Inc. is an emerging AI and robotics technology company that has developed a 24/7 fully-autonomous retail Smart Store, headquartered in Pasadena, CA, and has amassed a robust pre-order backlog of 1,000+ stores with potential revenue of more than $300 million1', 'banner_image': 'https://www.benzinga.com/next-assets/images/schema-image-default.png', 'source': 'Benzinga', 'category_within_source': 'News', 'source_domain': 'www.benzinga.com', 'topics': [{'topic': 'Earnings', 'relevance_score': '0.266143'}, {'topic': 'Financial Markets', 'relevance_score': '0.995015'}], 'overall_sentiment_score': 0.253205, 'overall_sentiment_label': 'Somewhat-Bullish', 'ticker_sentiment': [{'ticker': 'TGAA', 'relevance_score': '0.4575', 'ticker_sentiment_score': '0.192612', 'ticker_sentiment_label': 'Somewhat-Bullish'}, {'ticker': 'DSSMY', 'relevance_score': '0.015675', 'ticker_sentiment_score': '0.11416', 'ticker_sentiment_label': 'Neutral'}]}, {'title': 'AI Companions Could Fuel Radicalization Among Lonely Young Men, Ex-Google CEO Warns', 'url': 'https://decrypt.co/294430/ai-companions-fuel-radicalization-among-lonely-young-men-google-ceo', 'time_published': '20241202T225708', 'authors': ['Jason Nelson'], 'summary': 'While AI offers significant opportunities, its risks for younger, impressionable users should be addressed, particularly among men.', 'banner_image': 'https://cdn.decrypt.co/resize/1024/height/512/wp-content/uploads/2024/11/0efddf2a5_3-gID_7.png', 'source': 'Decrypt.co', 'category_within_source': 'n/a', 'source_domain': 'decrypt.co', 'topics': [{'topic': 'Technology', 'relevance_score': '1.0'}], 'overall_sentiment_score': -0.02943, 'overall_sentiment_label': 'Neutral', 'ticker_sentiment': [{'ticker': 'GOOG', 'relevance_score': '0.044469', 'ticker_sentiment_score': '-0.181472', 'ticker_sentiment_label': 'Somewhat-Bearish'}]}, {'title': 'Thesis Gold Upsizes Previously-Announced Private Placement To $10 Million - Thesis Gold  ( OTC:THSGF ) ', 'url': 'https://www.benzinga.com/pressreleases/24/12/g42279806/thesis-gold-upsizes-previously-announced-private-placement-to-10-million', 'time_published': '20241202T225352', 'authors': ['Globe Newswire'], 'summary': 'VANCOUVER, British Columbia, Dec. 02, 2024 ( GLOBE NEWSWIRE ) -- Thesis Gold Inc. ( \"Thesis\" or the \"Company\" ) TAU WKN: A3EP87,THSGF is pleased to announce that, due to strong investor demand, the Company has agreed with Clarus Securities Inc. ( \"Clarus\" ) and Cormark Securities Inc. ( ...', 'banner_image': 'https://www.benzinga.com/next-assets/images/schema-image-default.png', 'source': 'Benzinga', 'category_within_source': 'News', 'source_domain': 'www.benzinga.com', 'topics': [{'topic': 'Financial Markets', 'relevance_score': '0.967321'}, {'topic': 'Manufacturing', 'relevance_score': '1.0'}], 'overall_sentiment_score': 0.317072, 'overall_sentiment_label': 'Somewhat-Bullish', 'ticker_sentiment': [{'ticker': 'CLAR', 'relevance_score': '0.114682', 'ticker_sentiment_score': '0.212601', 'ticker_sentiment_label': 'Somewhat-Bullish'}]}, {'title': 'Coinbase Adds Apple Pay Onramp Support for Bitcoin, Dogecoin and More', 'url': 'https://decrypt.co/294417/coinbase-apple-pay-onramp-bitcoin-dogecoin', 'time_published': '20241202T224759', 'authors': ['Logan Hitchcock'], 'summary': \"Onboarding to crypto just got easier. Apps using Coinbase's Onramp payments feature can now onramp from fiat-to-crypto using their Apple Pay Wallets.\", 'banner_image': 'https://cdn.decrypt.co/resize/1024/height/512/wp-content/uploads/2024/03/coinbase-coin-logo-smartphone-bitcoin-crypto-exchange-gID_7.jpg', 'source': 'Decrypt.co', 'category_within_source': 'n/a', 'source_domain': 'decrypt.co', 'topics': [{'topic': 'Finance', 'relevance_score': '1.0'}, {'topic': 'Blockchain', 'relevance_score': '0.310843'}], 'overall_sentiment_score': 0.127076, 'overall_sentiment_label': 'Neutral', 'ticker_sentiment': [{'ticker': 'COIN', 'relevance_score': '0.87799', 'ticker_sentiment_score': '0.220544', 'ticker_sentiment_label': 'Somewhat-Bullish'}, {'ticker': 'CRYPTO:BTC', 'relevance_score': '0.122894', 'ticker_sentiment_score': '0.086691', 'ticker_sentiment_label': 'Neutral'}, {'ticker': 'CRYPTO:ETH', 'relevance_score': '0.122894', 'ticker_sentiment_score': '0.183623', 'ticker_sentiment_label': 'Somewhat-Bullish'}, {'ticker': 'CRYPTO:DOGE', 'relevance_score': '0.122894', 'ticker_sentiment_score': '0.086691', 'ticker_sentiment_label': 'Neutral'}]}, {'title': 'MAX Power Closes $1.2 Million Private Placement', 'url': 'https://www.globenewswire.com/news-release/2024/12/02/2990198/0/en/MAX-Power-Closes-1-2-Million-Private-Placement.html', 'time_published': '20241202T223500', 'authors': ['MAX Power Mining Corp'], 'summary': 'VANCOUVER, British Columbia, Dec. 02, 2024 ( GLOBE NEWSWIRE ) -- MAX Power Mining Corp. ( CSE: MAXX. OTC: MAXXF. FRANKFURT: 89N ) ( \"MAX Power\" or the \"Company\" ) reports that it closed the previously announced non-brokered private placement ( originally announced on November 21, 2024 and ...', 'banner_image': 'https://ml.globenewswire.com/Resource/Download/fc6a8c68-8fa8-4b43-a78d-bab1dd02c661', 'source': 'GlobeNewswire', 'category_within_source': 'n/a', 'source_domain': 'www.globenewswire.com', 'topics': [{'topic': 'Financial Markets', 'relevance_score': '0.967645'}], 'overall_sentiment_score': 0.188811, 'overall_sentiment_label': 'Somewhat-Bullish', 'ticker_sentiment': [{'ticker': 'MAXXF', 'relevance_score': '0.0699', 'ticker_sentiment_score': '-0.013078', 'ticker_sentiment_label': 'Neutral'}]}, {'title': 'NASDAQ-Listed Weed Stock, High Tides Surges Over 21% In Last Two Sessions - High Tide  ( NASDAQ:HITI ) ', 'url': 'https://www.benzinga.com/24/12/42279343/nasdaq-listed-weed-stock-hiti-surges-over-21-in-the-last-two-sessions', 'time_published': '20241202T223012', 'authors': ['Nicolás Jose Rodriguez'], 'summary': 'Data from Benzinga Pro shows High Tide Inc. HITI shares experienced a significant surge, gaining over 21% in the last two trading sessions, closing at $3.47 on Monday, December 2. This positive performance was reflected in a trading volume of 2,396,045 shares and a market capitalization of ...', 'banner_image': 'https://cdn.benzinga.com/files/images/story/2024/12/02/AI-Generated-Image_0.jpeg?width=1200&height=800&fit=crop', 'source': 'Benzinga', 'category_within_source': 'Trading', 'source_domain': 'www.benzinga.com', 'topics': [{'topic': 'Technology', 'relevance_score': '1.0'}, {'topic': 'Financial Markets', 'relevance_score': '0.316726'}], 'overall_sentiment_score': 0.364871, 'overall_sentiment_label': 'Bullish', 'ticker_sentiment': [{'ticker': 'HITI', 'relevance_score': '0.455525', 'ticker_sentiment_score': '0.531044', 'ticker_sentiment_label': 'Bullish'}]}, {'title': 'Red Cat Announces Key Leadership Updates to Accelerate Growth Following U.S. Army Short Range Reconnaissance Program of Record Award', 'url': 'https://www.globenewswire.com/news-release/2024/12/02/2990195/0/en/Red-Cat-Announces-Key-Leadership-Updates-to-Accelerate-Growth-Following-U-S-Army-Short-Range-Reconnaissance-Program-of-Record-Award.html', 'time_published': '20241202T223000', 'authors': ['Red Cat Holdings', 'Inc.'], 'summary': 'SAN JUAN, Puerto Rico, Dec. 02, 2024 ( GLOBE NEWSWIRE ) -- Red Cat Holdings, Inc. ( Nasdaq: RCAT ) , a drone technology company building hardware and software for military, government, and commercial operations, today announced several leadership updates to align its executive team with the ...', 'banner_image': 'https://ml.globenewswire.com/Resource/Download/ed315aba-089a-4cd6-893d-35620bd2b298', 'source': 'GlobeNewswire', 'category_within_source': 'n/a', 'source_domain': 'www.globenewswire.com', 'topics': [{'topic': 'Energy & Transportation', 'relevance_score': '1.0'}, {'topic': 'Financial Markets', 'relevance_score': '0.158519'}], 'overall_sentiment_score': 0.098051, 'overall_sentiment_label': 'Neutral', 'ticker_sentiment': [{'ticker': 'RCAT', 'relevance_score': '0.522096', 'ticker_sentiment_score': '0.045928', 'ticker_sentiment_label': 'Neutral'}]}, {'title': 'Brookfield Asset Management Shareholder Meeting', 'url': 'https://www.globenewswire.com/news-release/2024/12/02/2990196/0/en/Brookfield-Asset-Management-Shareholder-Meeting.html', 'time_published': '20241202T223000', 'authors': ['Brookfield Asset Management Ltd'], 'summary': 'NEW YORK, Dec. 02, 2024 ( GLOBE NEWSWIRE ) -- Brookfield Asset Management Ltd. ( NYSE: BAM, TSX: BAM ) ( \"BAM\" ) today announced that due to a postal strike in Canada, it will not be able to mail its meeting materials to meet regulatory requirements for its upcoming special meeting of ...', 'banner_image': 'https://ml.globenewswire.com/Resource/Download/3a57691b-db18-4432-b333-64c887278a17', 'source': 'GlobeNewswire', 'category_within_source': 'n/a', 'source_domain': 'www.globenewswire.com', 'topics': [{'topic': 'Real Estate & Construction', 'relevance_score': '1.0'}, {'topic': 'Financial Markets', 'relevance_score': '0.744043'}], 'overall_sentiment_score': 0.156788, 'overall_sentiment_label': 'Somewhat-Bullish', 'ticker_sentiment': [{'ticker': 'BN', 'relevance_score': '0.297661', 'ticker_sentiment_score': '0.098118', 'ticker_sentiment_label': 'Neutral'}, {'ticker': 'BAM', 'relevance_score': '0.660632', 'ticker_sentiment_score': '0.235298', 'ticker_sentiment_label': 'Somewhat-Bullish'}]}, {'title': 'Red Cat Announces Key Leadership Updates to Accelerate Growth Following U.S. Army Short Range Reconnaissance Program of Record Award - Red Cat Hldgs  ( NASDAQ:RCAT ) ', 'url': 'https://www.benzinga.com/pressreleases/24/12/g42279339/red-cat-announces-key-leadership-updates-to-accelerate-growth-following-u-s-army-short-range-recon', 'time_published': '20241202T223000', 'authors': ['Globe Newswire'], 'summary': 'SAN JUAN, Puerto Rico, Dec. 02, 2024 ( GLOBE NEWSWIRE ) -- Red Cat Holdings, Inc.', 'banner_image': 'https://www.benzinga.com/next-assets/images/schema-image-default.png', 'source': 'Benzinga', 'category_within_source': 'News', 'source_domain': 'www.benzinga.com', 'topics': [{'topic': 'Energy & Transportation', 'relevance_score': '1.0'}], 'overall_sentiment_score': 0.206588, 'overall_sentiment_label': 'Somewhat-Bullish', 'ticker_sentiment': [{'ticker': 'RCAT', 'relevance_score': '0.619872', 'ticker_sentiment_score': '0.214742', 'ticker_sentiment_label': 'Somewhat-Bullish'}]}, {'title': 'Tesla CEO Elon Musk loses bid to get $56 billion pay package reinstated', 'url': 'https://www.cnbc.com/2024/12/02/tesla-ceo-elon-musk-loses-bid-to-get-56-billion-pay-package-reinstated.html', 'time_published': '20241202T222537', 'authors': [], 'summary': \"Elon Musk's pay package granted in 2018 was the largest compensation plan in U.S. history for a public company executive.\", 'banner_image': None, 'source': 'CNBC', 'category_within_source': 'Top News', 'source_domain': 'www.cnbc.com', 'topics': [{'topic': 'Manufacturing', 'relevance_score': '1.0'}], 'overall_sentiment_score': 0.048615, 'overall_sentiment_label': 'Neutral', 'ticker_sentiment': [{'ticker': 'TSLA', 'relevance_score': '0.364275', 'ticker_sentiment_score': '-0.007852', 'ticker_sentiment_label': 'Neutral'}]}, {'title': 'JPMorgan Asset Management  ( Canada )  Inc. Exchange Traded Funds 2024 Estimated Annual Reinvested Capital Gain Distributions', 'url': 'https://www.benzinga.com/pressreleases/24/12/g42279265/jpmorgan-asset-management-canada-inc-exchange-traded-funds-2024-estimated-annual-reinvested-capita', 'time_published': '20241202T222449', 'authors': ['Globe Newswire'], 'summary': 'TORONTO, Dec. 02, 2024 ( GLOBE NEWSWIRE ) -- J.P. Morgan Asset Management ( JPMAM ) * today announced the estimated annual reinvested capital gain distributions for the below listed JPMorgan ETFs ( the \"Funds\" ) .', 'banner_image': 'https://ml.globenewswire.com/media/25cae8d7-e313-44d8-b031-b93b14e232b0/small/image001-png.png', 'source': 'Benzinga', 'category_within_source': 'News', 'source_domain': 'www.benzinga.com', 'topics': [{'topic': 'Financial Markets', 'relevance_score': '0.999955'}], 'overall_sentiment_score': 0.22236, 'overall_sentiment_label': 'Somewhat-Bullish', 'ticker_sentiment': []}, {'title': 'JPMorgan Asset Management  ( Canada )  Inc. Exchange Traded Funds 2024 Estimated Annual Reinvested Capital Gain Distributions', 'url': 'https://www.globenewswire.com/news-release/2024/12/02/2990193/0/en/JPMorgan-Asset-Management-Canada-Inc-Exchange-Traded-Funds-2024-Estimated-Annual-Reinvested-Capital-Gain-Distributions.html', 'time_published': '20241202T222400', 'authors': ['JPMorgan Asset Management (Canada) Inc.'], 'summary': 'TORONTO, Dec. 02, 2024 ( GLOBE NEWSWIRE ) -- J.P. Morgan Asset Management ( JPMAM ) * today announced the estimated annual reinvested capital gain distributions for the below listed JPMorgan ETFs ( the \"Funds\" ) . These estimates are for the annual non-cash capital gains distributions, which are ...', 'banner_image': 'https://ml.globenewswire.com/Resource/Download/25cae8d7-e313-44d8-b031-b93b14e232b0', 'source': 'GlobeNewswire', 'category_within_source': 'n/a', 'source_domain': 'www.globenewswire.com', 'topics': [{'topic': 'Financial Markets', 'relevance_score': '0.999862'}], 'overall_sentiment_score': 0.213243, 'overall_sentiment_label': 'Somewhat-Bullish', 'ticker_sentiment': []}, {'title': \"Serina Therapeutics Secures $10 Million Financing to Continue Advancing Lead IND Candidate into Phase 1 Clinical Trial in Advanced Parkinson's Disease Patients\", 'url': 'https://www.globenewswire.com/news-release/2024/12/02/2990192/0/en/Serina-Therapeutics-Secures-10-Million-Financing-to-Continue-Advancing-Lead-IND-Candidate-into-Phase-1-Clinical-Trial-in-Advanced-Parkinson-s-Disease-Patients.html', 'time_published': '20241202T222200', 'authors': ['Serina Therapeutics', 'Inc.'], 'summary': 'HUNTSVILLE, Dec. 02, 2024 ( GLOBE NEWSWIRE ) -- Serina Therapeutics, Inc. ( \"Serina\" ) ( NYSE American: SER ) , a clinical-stage biotechnology company, today announced a $10 million equity financing with strategic shareholder JuvVentures ( UK ) Limited.', 'banner_image': 'https://ml.globenewswire.com/Resource/Download/023b134f-7f94-40e2-be67-f162c436a8eb', 'source': 'GlobeNewswire', 'category_within_source': 'n/a', 'source_domain': 'www.globenewswire.com', 'topics': [{'topic': 'Life Sciences', 'relevance_score': '1.0'}, {'topic': 'Financial Markets', 'relevance_score': '0.818451'}], 'overall_sentiment_score': 0.12771, 'overall_sentiment_label': 'Neutral', 'ticker_sentiment': [{'ticker': 'PFE', 'relevance_score': '0.04497', 'ticker_sentiment_score': '0.053876', 'ticker_sentiment_label': 'Neutral'}]}, {'title': 'Honeywell Stock Slides After Hours On Updated 2024 Outlook - Honeywell Intl  ( NASDAQ:HON ) ', 'url': 'https://www.benzinga.com/news/guidance/24/12/42279165/honeywell-stock-slides-after-hours-on-updated-2024-outlook', 'time_published': '20241202T221750', 'authors': ['Adam Eckert'], 'summary': \"Honeywell International Inc HON shares are trading lower in Monday's after-hours session after the company announced a strategic agreement with Bombardier and cut its near-term 2024 outlook.\", 'banner_image': 'https://cdn.benzinga.com/files/images/story/2024/12/02/Kaufbeuren--Germany---April-26--2021-Hon.jpeg?width=1200&height=800&fit=crop', 'source': 'Benzinga', 'category_within_source': 'News', 'source_domain': 'www.benzinga.com', 'topics': [{'topic': 'Earnings', 'relevance_score': '0.650727'}, {'topic': 'Financial Markets', 'relevance_score': '0.108179'}, {'topic': 'Manufacturing', 'relevance_score': '1.0'}], 'overall_sentiment_score': 0.247182, 'overall_sentiment_label': 'Somewhat-Bullish', 'ticker_sentiment': [{'ticker': 'HON', 'relevance_score': '0.902881', 'ticker_sentiment_score': '0.350289', 'ticker_sentiment_label': 'Bullish'}]}, {'title': 'Hammond Power Solutions Declares Quarterly Dividend', 'url': 'https://www.benzinga.com/pressreleases/24/12/g42279129/hammond-power-solutions-declares-quarterly-dividend', 'time_published': '20241202T221500', 'authors': ['Globe Newswire'], 'summary': 'GUELPH, Ontario, Dec. 02, 2024 ( GLOBE NEWSWIRE ) -- HPS The Board of Directors of Hammond Power Solutions Inc. ( \"HPS\" ) declared a quarterly cash dividend of twenty-seven and a half cents ( $0.275 ) per Class A Subordinate Voting Share of HPS and a quarterly cash dividend of twenty-seven and a ...', 'banner_image': 'https://ml.globenewswire.com/media/a4dd2b6e-231b-4799-af7d-581fff5bcd05/small/hammond-primary-colour-rgb-1-png.png', 'source': 'Benzinga', 'category_within_source': 'News', 'source_domain': 'www.benzinga.com', 'topics': [{'topic': 'Financial Markets', 'relevance_score': '0.538269'}], 'overall_sentiment_score': 0.075842, 'overall_sentiment_label': 'Neutral', 'ticker_sentiment': [{'ticker': 'HMDPF', 'relevance_score': '0.269776', 'ticker_sentiment_score': '0.083829', 'ticker_sentiment_label': 'Neutral'}, {'ticker': 'PSIX', 'relevance_score': '0.269776', 'ticker_sentiment_score': '0.083829', 'ticker_sentiment_label': 'Neutral'}]}, {'title': 'Hammond Power Solutions Declares Quarterly Dividend', 'url': 'https://www.globenewswire.com/news-release/2024/12/02/2990191/0/en/Hammond-Power-Solutions-Declares-Quarterly-Dividend.html', 'time_published': '20241202T221500', 'authors': ['Hammond Power Solutions Inc'], 'summary': 'GUELPH, Ontario, Dec. 02, 2024 ( GLOBE NEWSWIRE ) -- ( TSX: HPS.A ) The Board of Directors of Hammond Power Solutions Inc. ( \"HPS\" ) declared a quarterly cash dividend of twenty-seven and a half cents ( $0.275 ) per Class A Subordinate Voting Share of HPS and a quarterly cash dividend of ...', 'banner_image': 'https://ml.globenewswire.com/Resource/Download/a4dd2b6e-231b-4799-af7d-581fff5bcd05', 'source': 'GlobeNewswire', 'category_within_source': 'n/a', 'source_domain': 'www.globenewswire.com', 'topics': [{'topic': 'Financial Markets', 'relevance_score': '0.360215'}], 'overall_sentiment_score': 0.037983, 'overall_sentiment_label': 'Neutral', 'ticker_sentiment': [{'ticker': 'HMDPF', 'relevance_score': '0.202366', 'ticker_sentiment_score': '0.046039', 'ticker_sentiment_label': 'Neutral'}, {'ticker': 'PSIX', 'relevance_score': '0.202366', 'ticker_sentiment_score': '0.046039', 'ticker_sentiment_label': 'Neutral'}]}, {'title': 'Stellantis N.V.  ( STLA technical analysis - Stellantis  ( NYSE:STLA ) ', 'url': 'https://www.benzinga.com/24/12/42279024/stock-of-the-day-where-will-the-stellantis-reversal-begin', 'time_published': '20241202T220957', 'authors': ['Mark Putrino'], 'summary': 'Shares of Stellantis N.V. STLA traded lower on Monday. In a move that has investors concerned and confused, CEO Carlos Tavares has resigned. This comes as a surprise because two months ago he said that he would retire in 2026. As you can see on the chart, shares have dropped over 40% this year.', 'banner_image': 'https://editorial-assets.benzinga.com/wp-content/uploads/2024/12/02165357/stla-1024x571.webp', 'source': 'Benzinga', 'category_within_source': 'Trading', 'source_domain': 'www.benzinga.com', 'topics': [{'topic': 'Financial Markets', 'relevance_score': '0.929393'}, {'topic': 'Manufacturing', 'relevance_score': '1.0'}], 'overall_sentiment_score': 0.308415, 'overall_sentiment_label': 'Somewhat-Bullish', 'ticker_sentiment': [{'ticker': 'STLA', 'relevance_score': '0.294682', 'ticker_sentiment_score': '-0.169907', 'ticker_sentiment_label': 'Somewhat-Bearish'}]}, {'title': 'Wah Fu Education Group Ltd. to Hold Annual General Meeting on December 20, 2024 - Wah Fu Education Gr  ( NASDAQ:WAFU ) ', 'url': 'https://www.benzinga.com/pressreleases/24/12/g42279009/wah-fu-education-group-ltd-to-hold-annual-general-meeting-on-december-20-2024', 'time_published': '20241202T220837', 'authors': ['Globe Newswire'], 'summary': 'Beijing, China, Dec. 02, 2024 ( GLOBE NEWSWIRE ) -- Wah Fu Education Group Ltd. WAFU the \"Company\" ) today announced that it will hold its Annual General Meeting ( \"AGM\" ) , which will be held at L207b, Hesheng Fortune Plaza, No.13 Deshengmenwai Street Xicheng District, Beijing, China 100088, at ...', 'banner_image': 'https://www.benzinga.com/next-assets/images/schema-image-default.png', 'source': 'Benzinga', 'category_within_source': 'News', 'source_domain': 'www.benzinga.com', 'topics': [{'topic': 'Financial Markets', 'relevance_score': '0.360215'}], 'overall_sentiment_score': 0.338182, 'overall_sentiment_label': 'Somewhat-Bullish', 'ticker_sentiment': [{'ticker': 'WAFU', 'relevance_score': '0.27432', 'ticker_sentiment_score': '0.19041', 'ticker_sentiment_label': 'Somewhat-Bullish'}]}, {'title': 'Wah Fu Education Group Ltd. to Hold Annual General Meeting on December 20, 2024', 'url': 'https://www.globenewswire.com/news-release/2024/12/02/2990190/0/en/Wah-Fu-Education-Group-Ltd-to-Hold-Annual-General-Meeting-on-December-20-2024.html', 'time_published': '20241202T220800', 'authors': ['Wah Fu Education Group Limited'], 'summary': 'Beijing, China, Dec. 02, 2024 ( GLOBE NEWSWIRE ) -- Wah Fu Education Group Ltd. ( NASDAQ: WAFU, the \"Company\" ) today announced that it will hold its Annual General Meeting ( \"AGM\" ) , which will be held at L207b, Hesheng Fortune Plaza, No.13 Deshengmenwai Street Xicheng District, Beijing, China ...', 'banner_image': 'https://ml.globenewswire.com/Resource/Download/af23018c-56d3-4fee-9227-5156d45a58d8', 'source': 'GlobeNewswire', 'category_within_source': 'n/a', 'source_domain': 'www.globenewswire.com', 'topics': [{'topic': 'Financial Markets', 'relevance_score': '0.310843'}], 'overall_sentiment_score': 0.352719, 'overall_sentiment_label': 'Bullish', 'ticker_sentiment': [{'ticker': 'WAFU', 'relevance_score': '0.29234', 'ticker_sentiment_score': '0.20856', 'ticker_sentiment_label': 'Somewhat-Bullish'}]}, {'title': 'SHAREHOLDER ALERT: Investigation of Quanterix Corporation  ( QTRX )  Announced by Holzer & Holzer, LLC - Quanterix  ( NASDAQ:QTRX ) ', 'url': 'https://www.benzinga.com/pressreleases/24/12/g42278973/shareholder-alert-investigation-of-quanterix-corporation-qtrx-announced-by-holzer-holzer-llc', 'time_published': '20241202T220702', 'authors': ['Globe Newswire'], 'summary': 'ATLANTA, Dec. 02, 2024 ( GLOBE NEWSWIRE ) -- Holzer & Holzer, LLC is investigating whether Quanterix Corporation ( \"Quanterix\" or the \"Company\" ) QTRX complied with federal securities laws.', 'banner_image': 'https://www.benzinga.com/next-assets/images/schema-image-default.png', 'source': 'Benzinga', 'category_within_source': 'News', 'source_domain': 'www.benzinga.com', 'topics': [{'topic': 'Life Sciences', 'relevance_score': '1.0'}, {'topic': 'Financial Markets', 'relevance_score': '0.796627'}], 'overall_sentiment_score': 0.069938, 'overall_sentiment_label': 'Neutral', 'ticker_sentiment': [{'ticker': 'QTRX', 'relevance_score': '0.730535', 'ticker_sentiment_score': '0.093125', 'ticker_sentiment_label': 'Neutral'}]}, {'title': 'Molecular Templates Announces Receipt of Expected Notification of Deficiency from Nasdaq Related to Delayed filing of Quarterly Report on Form 10-Q and Failure to Meet Bid Price Requirements', 'url': 'https://www.globenewswire.com/news-release/2024/12/02/2990188/0/en/Molecular-Templates-Announces-Receipt-of-Expected-Notification-of-Deficiency-from-Nasdaq-Related-to-Delayed-filing-of-Quarterly-Report-on-Form-10-Q-and-Failure-to-Meet-Bid-Price-Re.html', 'time_published': '20241202T220600', 'authors': ['Molecular Templates', 'Inc.'], 'summary': 'AUSTIN, Texas, Dec. 02, 2024 ( GLOBE NEWSWIRE ) -- Molecular Templates, Inc. ( Nasdaq: MTEM, \"Molecular Templates,\" or \"MTEM\" or the \"Company\" ) , a clinical-stage biopharmaceutical company focused on the discovery and development of proprietary targeted biologic therapeutics, known as ...', 'banner_image': 'https://ml.globenewswire.com/Resource/Download/1af4d1b3-0a20-4be1-a846-79d8df413603', 'source': 'GlobeNewswire', 'category_within_source': 'n/a', 'source_domain': 'www.globenewswire.com', 'topics': [{'topic': 'Life Sciences', 'relevance_score': '1.0'}, {'topic': 'Financial Markets', 'relevance_score': '1.0'}], 'overall_sentiment_score': 0.085465, 'overall_sentiment_label': 'Neutral', 'ticker_sentiment': [{'ticker': 'MTEM', 'relevance_score': '0.66591', 'ticker_sentiment_score': '0.162198', 'ticker_sentiment_label': 'Somewhat-Bullish'}]}, {'title': 'Allied Provides Update on Distributions and Non-Core Property Sales', 'url': 'https://www.benzinga.com/pressreleases/24/12/g42278823/allied-provides-update-on-distributions-and-non-core-property-sales', 'time_published': '20241202T220500', 'authors': ['Globe Newswire'], 'summary': 'TORONTO, Dec. 02, 2024 ( GLOBE NEWSWIRE ) -- Allied Properties Real Estate Investment Trust ( \"Allied\" ) ( TSX: \"AP.UN\" ) announced today that the Trustees of Allied have ( i ) declared a distribution of $0.15 per unit for the month of December 2024, payable on January 15, 2025, to unitholders ...', 'banner_image': 'https://www.benzinga.com/next-assets/images/schema-image-default.png', 'source': 'Benzinga', 'category_within_source': 'News', 'source_domain': 'www.benzinga.com', 'topics': [{'topic': 'Financial Markets', 'relevance_score': '0.108179'}], 'overall_sentiment_score': 0.115769, 'overall_sentiment_label': 'Neutral', 'ticker_sentiment': [{'ticker': 'APYRF', 'relevance_score': '0.085629', 'ticker_sentiment_score': '0.017401', 'ticker_sentiment_label': 'Neutral'}]}, {'title': 'Allied Provides Update on Distributions and Non-Core Property Sales', 'url': 'https://www.globenewswire.com/news-release/2024/12/02/2990187/0/en/Allied-Provides-Update-on-Distributions-and-Non-Core-Property-Sales.html', 'time_published': '20241202T220500', 'authors': ['Allied Properties REIT'], 'summary': 'TORONTO, Dec. 02, 2024 ( GLOBE NEWSWIRE ) -- Allied Properties Real Estate Investment Trust ( \"Allied\" ) ( TSX: \"AP.UN\" ) announced today that the Trustees of Allied have ( i ) declared a distribution of $0.15 per unit for the month of December 2024, payable on January 15, 2025, to unitholders ...', 'banner_image': 'https://ml.globenewswire.com/Resource/Download/3f751dde-2ce2-49f9-868b-51e1fe38468e', 'source': 'GlobeNewswire', 'category_within_source': 'n/a', 'source_domain': 'www.globenewswire.com', 'topics': [], 'overall_sentiment_score': 0.1249, 'overall_sentiment_label': 'Neutral', 'ticker_sentiment': [{'ticker': 'APYRF', 'relevance_score': '0.097062', 'ticker_sentiment_score': '0.022048', 'ticker_sentiment_label': 'Neutral'}]}, {'title': 'Extended Reality  ( XR )  Market to Grow by USD 1.04 Trillion  ( 2024-2028 ) , Driven by Advances in Sensor Technology, with AI Impacting Market Trends - Technavio', 'url': 'https://www.benzinga.com/pressreleases/24/12/n42278825/extended-reality-xr-market-to-grow-by-usd-1-04-trillion-2024-2028-driven-by-advances-in-sensor-tec', 'time_published': '20241202T220500', 'authors': ['PRNewswire'], 'summary': 'NEW YORK, Dec. 2, 2024 /PRNewswire/ -- Report on how AI is redefining market landscape -The global extended reality ( XR ) market size is estimated to grow by USD 1.04 trillion from 2024-2028, according to Technavio. The market is estimated to grow at a CAGR of almost 56.45% during the forecast ...', 'banner_image': 'https://mma.prnewswire.com/media/2570092/Global_extended_reality_market_2024_2028.jpg', 'source': 'Benzinga', 'category_within_source': 'General', 'source_domain': 'www.benzinga.com', 'topics': [{'topic': 'Life Sciences', 'relevance_score': '0.333333'}, {'topic': 'Financial Markets', 'relevance_score': '0.360215'}, {'topic': 'Manufacturing', 'relevance_score': '0.333333'}, {'topic': 'Technology', 'relevance_score': '0.333333'}, {'topic': 'Blockchain', 'relevance_score': '0.158519'}], 'overall_sentiment_score': 0.310754, 'overall_sentiment_label': 'Somewhat-Bullish', 'ticker_sentiment': [{'ticker': 'LNVGF', 'relevance_score': '0.025679', 'ticker_sentiment_score': '0.058678', 'ticker_sentiment_label': 'Neutral'}, {'ticker': 'GOOG', 'relevance_score': '0.05133', 'ticker_sentiment_score': '0.086646', 'ticker_sentiment_label': 'Neutral'}, {'ticker': 'META', 'relevance_score': '0.05133', 'ticker_sentiment_score': '0.086646', 'ticker_sentiment_label': 'Neutral'}, {'ticker': 'NVDA', 'relevance_score': '0.025679', 'ticker_sentiment_score': '0.058678', 'ticker_sentiment_label': 'Neutral'}, {'ticker': 'CAJFF', 'relevance_score': '0.025679', 'ticker_sentiment_score': '0.058678', 'ticker_sentiment_label': 'Neutral'}, {'ticker': 'ABLZF', 'relevance_score': '0.025679', 'ticker_sentiment_score': '0.058678', 'ticker_sentiment_label': 'Neutral'}, {'ticker': 'DDD', 'relevance_score': '0.025679', 'ticker_sentiment_score': '0.058678', 'ticker_sentiment_label': 'Neutral'}, {'ticker': 'SEKEF', 'relevance_score': '0.025679', 'ticker_sentiment_score': '0.058678', 'ticker_sentiment_label': 'Neutral'}, {'ticker': 'ACN', 'relevance_score': '0.025679', 'ticker_sentiment_score': '0.058678', 'ticker_sentiment_label': 'Neutral'}, {'ticker': 'MSFT', 'relevance_score': '0.05133', 'ticker_sentiment_score': '0.086646', 'ticker_sentiment_label': 'Neutral'}, {'ticker': 'SNEJF', 'relevance_score': '0.025679', 'ticker_sentiment_score': '0.058678', 'ticker_sentiment_label': 'Neutral'}, {'ticker': 'SSNLF', 'relevance_score': '0.025679', 'ticker_sentiment_score': '0.069569', 'ticker_sentiment_label': 'Neutral'}, {'ticker': 'ROP', 'relevance_score': '0.025679', 'ticker_sentiment_score': '0.058678', 'ticker_sentiment_label': 'Neutral'}, {'ticker': 'QCOM', 'relevance_score': '0.05133', 'ticker_sentiment_score': '0.071', 'ticker_sentiment_label': 'Neutral'}, {'ticker': 'INTC', 'relevance_score': '0.025679', 'ticker_sentiment_score': '0.058678', 'ticker_sentiment_label': 'Neutral'}, {'ticker': 'PTC', 'relevance_score': '0.025679', 'ticker_sentiment_score': '0.058678', 'ticker_sentiment_label': 'Neutral'}]}, {'title': 'Fairfax Announces Quarterly Dividend on Series C, D, E, F, G, H, I, J, K and M Preferred Shares and Quarterly Dividend Rate for Series F, H and J Preferred Shares', 'url': 'https://www.benzinga.com/pressreleases/24/12/g42278693/fairfax-announces-quarterly-dividend-on-series-c-d-e-f-g-h-i-j-k-and-m-preferred-shares-and-quarte', 'time_published': '20241202T220200', 'authors': ['Globe Newswire'], 'summary': 'TORONTO, Dec. 02, 2024 ( GLOBE NEWSWIRE ) -- Fairfax Financial Holdings Limited FFH ( \"Fairfax\" ) announces that it has declared the following quarterly dividends per share on its preferred shares: Applicable Canadian withholding tax will be applied to dividends payable to non-residents ...', 'banner_image': 'https://www.benzinga.com/next-assets/images/schema-image-default.png', 'source': 'Benzinga', 'category_within_source': 'News', 'source_domain': 'www.benzinga.com', 'topics': [{'topic': 'Financial Markets', 'relevance_score': '0.108179'}], 'overall_sentiment_score': 0.41613, 'overall_sentiment_label': 'Bullish', 'ticker_sentiment': [{'ticker': 'FRFHF', 'relevance_score': '0.204072', 'ticker_sentiment_score': '0.214827', 'ticker_sentiment_label': 'Somewhat-Bullish'}]}, {'title': 'Fairfax Announces Quarterly Dividend on Series C, D, E, F, G, H, I, J, K and M Preferred Shares and Quarterly Dividend Rate for Series F, H and J Preferred Shares', 'url': 'https://www.globenewswire.com/news-release/2024/12/02/2990185/0/en/Fairfax-Announces-Quarterly-Dividend-on-Series-C-D-E-F-G-H-I-J-K-and-M-Preferred-Shares-and-Quarterly-Dividend-Rate-for-Series-F-H-and-J-Preferred-Shares.html', 'time_published': '20241202T220200', 'authors': ['Fairfax Financial Holdings Limited'], 'summary': 'TORONTO, Dec. 02, 2024 ( GLOBE NEWSWIRE ) -- Fairfax Financial Holdings Limited ( TSX: FFH and FFH.U ) ( \"Fairfax\" ) announces that it has declared the following quarterly dividends per share on its preferred shares: ...', 'banner_image': 'https://ml.globenewswire.com/Resource/Download/fa3ed713-47f6-4178-a7ab-907ab1684dc8', 'source': 'GlobeNewswire', 'category_within_source': 'n/a', 'source_domain': 'www.globenewswire.com', 'topics': [], 'overall_sentiment_score': 0.425581, 'overall_sentiment_label': 'Bullish', 'ticker_sentiment': [{'ticker': 'FRFHF', 'relevance_score': '0.245339', 'ticker_sentiment_score': '0.252837', 'ticker_sentiment_label': 'Somewhat-Bullish'}]}, {'title': 'Bionomics Reminds Shareholders to Cast their Vote for Re-Domiciliation from Australia to the United States', 'url': 'https://www.globenewswire.com/news-release/2024/12/02/2990184/0/en/Bionomics-Reminds-Shareholders-to-Cast-their-Vote-for-Re-Domiciliation-from-Australia-to-the-United-States.html', 'time_published': '20241202T220100', 'authors': ['Bionomics Ltd'], 'summary': 'ADELAIDE, Australia, and CAMBRIDGE, Mass., Dec. 02, 2024 ( GLOBE NEWSWIRE ) -- Bionomics Limited ( Nasdaq: BNOX ) ( Bionomics or Company ) , a clinical-stage biotechnology company developing novel, first-in-class, allosteric ion channel modulators to treat patients suffering from serious central ...', 'banner_image': 'https://ml.globenewswire.com/Resource/Download/822aaa99-a2bd-4905-ab9c-07869668b7f7', 'source': 'GlobeNewswire', 'category_within_source': 'n/a', 'source_domain': 'www.globenewswire.com', 'topics': [{'topic': 'Technology', 'relevance_score': '1.0'}, {'topic': 'Financial Markets', 'relevance_score': '0.310843'}], 'overall_sentiment_score': 0.124477, 'overall_sentiment_label': 'Neutral', 'ticker_sentiment': [{'ticker': 'BNOX', 'relevance_score': '0.805954', 'ticker_sentiment_score': '0.20851', 'ticker_sentiment_label': 'Somewhat-Bullish'}]}, {'title': 'Studio City Enters into Senior Facilities Agreement - Studio City Intl Hldgs  ( NYSE:MSC ) , Melco Resorts and Enter  ( NASDAQ:MLCO ) ', 'url': 'https://www.benzinga.com/pressreleases/24/12/g42278647/studio-city-enters-into-senior-facilities-agreement', 'time_published': '20241202T220040', 'authors': ['Globe Newswire'], 'summary': 'MACAU, Dec. 02, 2024 ( GLOBE NEWSWIRE ) -- Studio City International Holdings Limited MSC ( \"Studio City\" or the \"Company\" ) , a world-class integrated resort located in Cotai, Macau, today announces that the Company\\'s subsidiary, Studio City Company Limited ( \"Studio City Company\" ) , has ...', 'banner_image': 'https://www.benzinga.com/next-assets/images/schema-image-default.png', 'source': 'Benzinga', 'category_within_source': 'News', 'source_domain': 'www.benzinga.com', 'topics': [{'topic': 'Real Estate & Construction', 'relevance_score': '1.0'}, {'topic': 'Financial Markets', 'relevance_score': '0.94762'}], 'overall_sentiment_score': 0.250359, 'overall_sentiment_label': 'Somewhat-Bullish', 'ticker_sentiment': [{'ticker': 'MSC', 'relevance_score': '0.568148', 'ticker_sentiment_score': '0.352254', 'ticker_sentiment_label': 'Bullish'}, {'ticker': 'BACHY', 'relevance_score': '0.052226', 'ticker_sentiment_score': '0.225924', 'ticker_sentiment_label': 'Somewhat-Bullish'}, {'ticker': 'MLCO', 'relevance_score': '0.104228', 'ticker_sentiment_score': '0.013292', 'ticker_sentiment_label': 'Neutral'}]}, {'title': 'TC Energy provides conversion right and dividend rate notice for Series 1 and 2 preferred shares - TC Energy  ( NYSE:TRP ) ', 'url': 'https://www.benzinga.com/pressreleases/24/12/g42278643/tc-energy-provides-conversion-right-and-dividend-rate-notice-for-series-1-and-2-preferred-shares', 'time_published': '20241202T220028', 'authors': ['Globe Newswire'], 'summary': 'CALGARY, Alberta, Dec. 02, 2024 ( GLOBE NEWSWIRE ) -- News Release - TC Energy Corporation TRP TRP ( TC Energy ) today announced that it does not intend to exercise its right to redeem its Cumulative Redeemable First Preferred Shares, Series 1 ( Series 1 Shares ) and Cumulative Redeemable First ...', 'banner_image': 'https://www.benzinga.com/next-assets/images/schema-image-default.png', 'source': 'Benzinga', 'category_within_source': 'News', 'source_domain': 'www.benzinga.com', 'topics': [{'topic': 'Energy & Transportation', 'relevance_score': '1.0'}, {'topic': 'Financial Markets', 'relevance_score': '0.918141'}], 'overall_sentiment_score': 0.303746, 'overall_sentiment_label': 'Somewhat-Bullish', 'ticker_sentiment': [{'ticker': 'NRGT', 'relevance_score': '0.037155', 'ticker_sentiment_score': '0.243356', 'ticker_sentiment_label': 'Somewhat-Bullish'}, {'ticker': 'TRP', 'relevance_score': '0.391645', 'ticker_sentiment_score': '0.22467', 'ticker_sentiment_label': 'Somewhat-Bullish'}]}, {'title': 'Bombardier Confirms Reaching Settlement in Legal Dispute with Honeywell', 'url': 'https://www.benzinga.com/pressreleases/24/12/g42278624/bombardier-confirms-reaching-settlement-in-legal-dispute-with-honeywell', 'time_published': '20241202T220000', 'authors': ['Globe Newswire'], 'summary': 'MONTRÉAL, Dec. 02, 2024 ( GLOBE NEWSWIRE ) -- Bombardier Inc. ( \"Bombardier\" ) today confirmed that it has reached an agreement to settle its lawsuit against Honeywell International Inc. ( \"Honeywell\" ) that it initially filed in 2016 before the Superior Court of Québec.', 'banner_image': 'https://www.benzinga.com/next-assets/images/schema-image-default.png', 'source': 'Benzinga', 'category_within_source': 'News', 'source_domain': 'www.benzinga.com', 'topics': [{'topic': 'Manufacturing', 'relevance_score': '1.0'}], 'overall_sentiment_score': 0.41892, 'overall_sentiment_label': 'Bullish', 'ticker_sentiment': [{'ticker': 'BDRBF', 'relevance_score': '0.084423', 'ticker_sentiment_score': '0.225457', 'ticker_sentiment_label': 'Somewhat-Bullish'}, {'ticker': 'HON', 'relevance_score': '0.084423', 'ticker_sentiment_score': '0.225457', 'ticker_sentiment_label': 'Somewhat-Bullish'}]}, {'title': 'The New America High Income Fund, Inc. Declares Distribution', 'url': 'https://www.globenewswire.com/news-release/2024/12/02/2990176/0/en/The-New-America-High-Income-Fund-Inc-Declares-Distribution.html', 'time_published': '20241202T220000', 'authors': ['The New America High Income Fund', 'Inc.'], 'summary': 'BOSTON, Dec. 02, 2024 ( GLOBE NEWSWIRE ) -- The New America High Income Fund, Inc. ( the \"Fund\" ) ( NYSE: HYB ) announced today that it will pay a distribution of $.04 per share on the company\\'s common stock on December 31, 2024 to common shareholders of record as of the close of business on ...', 'banner_image': '', 'source': 'GlobeNewswire', 'category_within_source': 'n/a', 'source_domain': 'www.globenewswire.com', 'topics': [{'topic': 'Financial Markets', 'relevance_score': '0.962106'}], 'overall_sentiment_score': 0.129559, 'overall_sentiment_label': 'Neutral', 'ticker_sentiment': []}, {'title': 'Lotus Technology Announces Delivery Updates of First Eleven Months of 2024', 'url': 'https://www.globenewswire.com/news-release/2024/12/02/2990177/0/en/Lotus-Technology-Announces-Delivery-Updates-of-First-Eleven-Months-of-2024.html', 'time_published': '20241202T220000', 'authors': ['Lotus Technology Inc.'], 'summary': 'NEW YORK, Dec. 02, 2024 ( GLOBE NEWSWIRE ) -- Lotus Technology Inc. ( \"Lotus\" or the \"Company\" ) , a leading global intelligent and luxury mobility provider, today announced its vehicle delivery results for the first eleven months of 2024.', 'banner_image': '', 'source': 'GlobeNewswire', 'category_within_source': 'n/a', 'source_domain': 'www.globenewswire.com', 'topics': [{'topic': 'Financial Markets', 'relevance_score': '0.310843'}], 'overall_sentiment_score': 0.200141, 'overall_sentiment_label': 'Somewhat-Bullish', 'ticker_sentiment': [{'ticker': 'LOT', 'relevance_score': '0.290033', 'ticker_sentiment_score': '0.37405', 'ticker_sentiment_label': 'Bullish'}, {'ticker': 'RYCEF', 'relevance_score': '0.098659', 'ticker_sentiment_score': '0.0', 'ticker_sentiment_label': 'Neutral'}]}, {'title': 'OverActive Media Announces Granting of Deferred and Restricted Share Units to Directors and Officers - OverActive Media  ( OTC:OAMCF ) ', 'url': 'https://www.benzinga.com/pressreleases/24/12/n42278640/overactive-media-announces-granting-of-deferred-and-restricted-share-units-to-directors-and-office', 'time_published': '20241202T220000', 'authors': ['PRNewswire'], 'summary': 'TORONTO, Dec. 2, 2024 /CNW/ - OverActive Media OAM OAMCF ( \"OverActive\" or the \"Company\" ) , a premier global esports and entertainment company for today\\'s generation of fans today announced that the Company has granted a total of 650,000 deferred share units ( \"DSUs\" ) to various directors, and ...', 'banner_image': 'https://www.benzinga.com/next-assets/images/schema-image-default.png', 'source': 'Benzinga', 'category_within_source': 'General', 'source_domain': 'www.benzinga.com', 'topics': [{'topic': 'Financial Markets', 'relevance_score': '0.108179'}], 'overall_sentiment_score': 0.284063, 'overall_sentiment_label': 'Somewhat-Bullish', 'ticker_sentiment': [{'ticker': 'OAMCF', 'relevance_score': '0.497391', 'ticker_sentiment_score': '0.363096', 'ticker_sentiment_label': 'Bullish'}]}, {'title': 'The New America High Income Fund, Inc. Declares Distribution - New America High  ( NYSE:HYB ) ', 'url': 'https://www.benzinga.com/pressreleases/24/12/g42278622/the-new-america-high-income-fund-inc-declares-distribution', 'time_published': '20241202T220000', 'authors': ['Globe Newswire'], 'summary': 'BOSTON, Dec. 02, 2024 ( GLOBE NEWSWIRE ) -- The New America High Income Fund, Inc. ( the \"Fund\" ) HYB announced today that it will pay a distribution of $.04 per share on the company\\'s common stock on December 31, 2024 to common shareholders of record as of the close of business on December 17, ...', 'banner_image': 'https://www.benzinga.com/next-assets/images/schema-image-default.png', 'source': 'Benzinga', 'category_within_source': 'News', 'source_domain': 'www.benzinga.com', 'topics': [{'topic': 'Financial Markets', 'relevance_score': '0.990999'}], 'overall_sentiment_score': 0.210123, 'overall_sentiment_label': 'Somewhat-Bullish', 'ticker_sentiment': []}, {'title': 'Bombardier Confirms Reaching Settlement in Legal Dispute with Honeywell', 'url': 'https://www.globenewswire.com/news-release/2024/12/02/2990178/0/en/Bombardier-Confirms-Reaching-Settlement-in-Legal-Dispute-with-Honeywell.html', 'time_published': '20241202T220000', 'authors': ['Bombardier Inc.'], 'summary': 'MONTRÉAL, Dec. 02, 2024 ( GLOBE NEWSWIRE ) -- Bombardier Inc. ( \"Bombardier\" ) today confirmed that it has reached an agreement to settle its lawsuit against Honeywell International Inc. ( \"Honeywell\" ) that it initially filed in 2016 before the Superior Court of Québec.', 'banner_image': 'https://ml.globenewswire.com/Resource/Download/17388364-7e8b-4836-8d73-8c21f3f49b4e', 'source': 'GlobeNewswire', 'category_within_source': 'n/a', 'source_domain': 'www.globenewswire.com', 'topics': [{'topic': 'Manufacturing', 'relevance_score': '1.0'}], 'overall_sentiment_score': 0.426954, 'overall_sentiment_label': 'Bullish', 'ticker_sentiment': [{'ticker': 'BDRBF', 'relevance_score': '0.091162', 'ticker_sentiment_score': '0.241423', 'ticker_sentiment_label': 'Somewhat-Bullish'}, {'ticker': 'HON', 'relevance_score': '0.091162', 'ticker_sentiment_score': '0.241423', 'ticker_sentiment_label': 'Somewhat-Bullish'}]}, {'title': 'Fountain Asset Corp. Closes Share for Debt Transaction', 'url': 'https://www.globenewswire.com/news-release/2024/12/02/2990175/0/en/Fountain-Asset-Corp-Closes-Share-for-Debt-Transaction.html', 'time_published': '20241202T220000', 'authors': ['Fountain Asset Corp.'], 'summary': 'TORONTO, Dec. 02, 2024 ( GLOBE NEWSWIRE ) -- FOUNTAIN ASSET CORP. ( TSXV: FA ) ( the \"Company\" ) is pleased to announce that it has closed the settlement of $127,500 of indebtedness through the issuance of an aggregate of 2,550,000 subordinate voting shares of the Company ( the \"Shares\" ) at a ...', 'banner_image': 'https://ml.globenewswire.com/Resource/Download/d1c16398-6934-455a-badb-794723f13402', 'source': 'GlobeNewswire', 'category_within_source': 'n/a', 'source_domain': 'www.globenewswire.com', 'topics': [{'topic': 'Financial Markets', 'relevance_score': '0.108179'}], 'overall_sentiment_score': 0.160539, 'overall_sentiment_label': 'Somewhat-Bullish', 'ticker_sentiment': []}, {'title': 'Arcade Gaming Market to Grow by USD 2.22 Billion  ( 2024-2028 ) , Driven by Increased Physical Activities, with AI Redefining the Market Landscape - Technavio', 'url': 'https://www.benzinga.com/pressreleases/24/12/n42278633/arcade-gaming-market-to-grow-by-usd-2-22-billion-2024-2028-driven-by-increased-physical-activities', 'time_published': '20241202T220000', 'authors': ['PRNewswire'], 'summary': 'NEW YORK, Dec. 2, 2024 /PRNewswire/ -- Report with market evolution powered by AI - The global arcade gaming market size is estimated to grow by USD 2.22 billion from 2024-2028, according to Technavio. The market is estimated to grow at a CAGR of 2.18% during the forecast period.', 'banner_image': 'https://mma.prnewswire.com/media/2570120/Global_Arcade_Gaming_Market_2024_2028_Infographic.jpg', 'source': 'Benzinga', 'category_within_source': 'General', 'source_domain': 'www.benzinga.com', 'topics': [{'topic': 'Financial Markets', 'relevance_score': '0.108179'}], 'overall_sentiment_score': 0.314388, 'overall_sentiment_label': 'Somewhat-Bullish', 'ticker_sentiment': [{'ticker': 'DBOXF', 'relevance_score': '0.023259', 'ticker_sentiment_score': '0.197129', 'ticker_sentiment_label': 'Somewhat-Bullish'}, {'ticker': 'SGAMF', 'relevance_score': '0.023259', 'ticker_sentiment_score': '0.197129', 'ticker_sentiment_label': 'Somewhat-Bullish'}, {'ticker': 'NCBDF', 'relevance_score': '0.023259', 'ticker_sentiment_score': '0.197129', 'ticker_sentiment_label': 'Somewhat-Bullish'}, {'ticker': 'NTDOF', 'relevance_score': '0.023259', 'ticker_sentiment_score': '0.197129', 'ticker_sentiment_label': 'Somewhat-Bullish'}, {'ticker': 'SQNXF', 'relevance_score': '0.023259', 'ticker_sentiment_score': '0.197129', 'ticker_sentiment_label': 'Somewhat-Bullish'}, {'ticker': 'BOWL', 'relevance_score': '0.023259', 'ticker_sentiment_score': '0.197129', 'ticker_sentiment_label': 'Somewhat-Bullish'}, {'ticker': 'CCOEF', 'relevance_score': '0.023259', 'ticker_sentiment_score': '0.197129', 'ticker_sentiment_label': 'Somewhat-Bullish'}]}, {'title': 'TC Energy provides conversion right and dividend rate notice for Series 1 and 2 preferred shares', 'url': 'https://www.globenewswire.com/news-release/2024/12/02/2990182/0/en/TC-Energy-provides-conversion-right-and-dividend-rate-notice-for-Series-1-and-2-preferred-shares.html', 'time_published': '20241202T220000', 'authors': ['TC Energy Corporation'], 'summary': 'CALGARY, Alberta, Dec. 02, 2024 ( GLOBE NEWSWIRE ) -- News Release - TC Energy Corporation ( TSX:TRP ) ( NYSE:TRP ) ( TC Energy ) today announced that it does not intend to exercise its right to redeem its Cumulative Redeemable First Preferred Shares, Series 1 ( Series 1 Shares ) and Cumulative ...', 'banner_image': 'https://ml.globenewswire.com/Resource/Download/c05c8c3b-12a9-4ce9-ba6f-0cb790d639b9', 'source': 'GlobeNewswire', 'category_within_source': 'n/a', 'source_domain': 'www.globenewswire.com', 'topics': [{'topic': 'Energy & Transportation', 'relevance_score': '1.0'}, {'topic': 'Financial Markets', 'relevance_score': '0.77141'}], 'overall_sentiment_score': 0.309961, 'overall_sentiment_label': 'Somewhat-Bullish', 'ticker_sentiment': [{'ticker': 'NRGT', 'relevance_score': '0.040078', 'ticker_sentiment_score': '0.270009', 'ticker_sentiment_label': 'Somewhat-Bullish'}, {'ticker': 'TRP', 'relevance_score': '0.312323', 'ticker_sentiment_score': '0.154857', 'ticker_sentiment_label': 'Somewhat-Bullish'}]}, {'title': 'Rockridge Files Management Information Circular for Annual General and Special Meeting of Shareholders to Approve Business Combination with Eros Resources and MAS Gold', 'url': 'https://www.globenewswire.com/news-release/2024/12/02/2990179/0/en/Rockridge-Files-Management-Information-Circular-for-Annual-General-and-Special-Meeting-of-Shareholders-to-Approve-Business-Combination-with-Eros-Resources-and-MAS-Gold.html', 'time_published': '20241202T220000', 'authors': ['Rockridge Resources Ltd.'], 'summary': 'Vancouver, BC, Dec. 02, 2024 ( GLOBE NEWSWIRE ) -- Rockridge Resources Ltd. ( TSX-V: ROCK ) ( OTCQB: RRRLF ) ( Frankfurt: RR0 ) ( \"Rockridge\" ) ( the \"Company\" ) is pleased to announce that it has filed and has commenced the delivery of the joint management information circular of the Company, ...', 'banner_image': 'https://portal.executivebusinessservices.com/i/2c9022f5-b7f7-44ce-c857-08dd130535c4', 'source': 'GlobeNewswire', 'category_within_source': 'n/a', 'source_domain': 'www.globenewswire.com', 'topics': [{'topic': 'Financial Markets', 'relevance_score': '0.818451'}], 'overall_sentiment_score': 0.150264, 'overall_sentiment_label': 'Somewhat-Bullish', 'ticker_sentiment': [{'ticker': 'RRRLF', 'relevance_score': '0.047138', 'ticker_sentiment_score': '0.093204', 'ticker_sentiment_label': 'Neutral'}, {'ticker': 'MALRF', 'relevance_score': '0.023579', 'ticker_sentiment_score': '0.176121', 'ticker_sentiment_label': 'Somewhat-Bullish'}, {'ticker': 'MSGCF', 'relevance_score': '0.254912', 'ticker_sentiment_score': '0.092753', 'ticker_sentiment_label': 'Neutral'}]}, {'title': 'Studio City Enters into Senior Facilities Agreement', 'url': 'https://www.globenewswire.com/news-release/2024/12/02/2990183/36898/en/Studio-City-Enters-into-Senior-Facilities-Agreement.html', 'time_published': '20241202T220000', 'authors': ['Studio City'], 'summary': 'MACAU, Dec. 02, 2024 ( GLOBE NEWSWIRE ) -- Studio City International Holdings Limited ( NYSE: MSC ) ( \"Studio City\" or the \"Company\" ) , a world-class integrated resort located in Cotai, Macau, today announces that the Company\\'s subsidiary, Studio City Company Limited ( \"Studio City Company\" ) , ...', 'banner_image': 'https://ml.globenewswire.com/Resource/Download/d6a5efe3-2085-4e42-a0e7-a7943b2b4605', 'source': 'GlobeNewswire', 'category_within_source': 'n/a', 'source_domain': 'www.globenewswire.com', 'topics': [{'topic': 'Real Estate & Construction', 'relevance_score': '1.0'}, {'topic': 'Financial Markets', 'relevance_score': '0.905476'}], 'overall_sentiment_score': 0.259437, 'overall_sentiment_label': 'Somewhat-Bullish', 'ticker_sentiment': [{'ticker': 'MSC', 'relevance_score': '0.610896', 'ticker_sentiment_score': '0.383857', 'ticker_sentiment_label': 'Bullish'}, {'ticker': 'BACHY', 'relevance_score': '0.057215', 'ticker_sentiment_score': '0.235087', 'ticker_sentiment_label': 'Somewhat-Bullish'}, {'ticker': 'MLCO', 'relevance_score': '0.114137', 'ticker_sentiment_score': '0.012604', 'ticker_sentiment_label': 'Neutral'}]}, {'title': 'Azincourt Energy Grants RSUs', 'url': 'https://www.globenewswire.com/news-release/2024/12/02/2990180/0/en/Azincourt-Energy-Grants-RSUs.html', 'time_published': '20241202T220000', 'authors': ['Azincourt Energy Corp.'], 'summary': 'VANCOUVER, British Columbia, Dec. 02, 2024 ( GLOBE NEWSWIRE ) -- AZINCOURT ENERGY CORP. ( \"Azincourt\" or the \"Company\" ) ( TSX.V: AAZ, OTC: AZURF ) , announces the grant of 2,000,000 restricted share units ( \"RSUs\" ) to an officer of the Company under the Company\\'s shareholder-approved incentive ...', 'banner_image': 'https://ml.globenewswire.com/Resource/Download/5c6016c1-b698-4aba-a00d-0d58fa0e2f03', 'source': 'GlobeNewswire', 'category_within_source': 'n/a', 'source_domain': 'www.globenewswire.com', 'topics': [{'topic': 'Financial Markets', 'relevance_score': '0.158519'}], 'overall_sentiment_score': 0.298439, 'overall_sentiment_label': 'Somewhat-Bullish', 'ticker_sentiment': []}, {'title': \"Tesla loses bid to restore Elon Musk's $56bn pay package\", 'url': 'https://www.ft.com/content/9880470f-a3be-4d98-ab36-59604ee9baea', 'time_published': '20241202T215949', 'authors': ['Sujeet Indap'], 'summary': 'Lawyers for shareholder who brought the suit awarded $345mn in fees ...', 'banner_image': 'https://www.ft.com/__origami/service/image/v2/images/raw/https%3A%2F%2Fd1e00ek4ebabms.cloudfront.net%2Fproduction%2F837fe1e0-1705-4993-9d65-4ea2fcedbf53.jpg?source=next-article&fit=scale-down&quality=highest&width=700&dpr=1', 'source': 'Financial Times', 'category_within_source': 'Companies', 'source_domain': 'www.ft.com', 'topics': [{'topic': 'Manufacturing', 'relevance_score': '1.0'}], 'overall_sentiment_score': 0.140386, 'overall_sentiment_label': 'Neutral', 'ticker_sentiment': [{'ticker': 'TSLA', 'relevance_score': '0.636698', 'ticker_sentiment_score': '0.728168', 'ticker_sentiment_label': 'Bullish'}]}, {'title': \"'Astonishing' XRP Surge Driven by Regulatory Hopes, ETF Speculation: Analysts\", 'url': 'https://decrypt.co/294423/astonishing-xrp-surge-regulatory-hopes', 'time_published': '20241202T215932', 'authors': ['André Beganski'], 'summary': \"Whether it's SEC Chair Gary Gensler's departure or ETF speculation, analysts see several post-election factors behind XRP's spike.\", 'banner_image': 'https://cdn.decrypt.co/resize/1024/height/512/wp-content/uploads/2020/07/shutterstock_12162718781-gID_7.jpg', 'source': 'Decrypt.co', 'category_within_source': 'n/a', 'source_domain': 'decrypt.co', 'topics': [{'topic': 'Blockchain', 'relevance_score': '0.769861'}, {'topic': 'Financial Markets', 'relevance_score': '0.891286'}], 'overall_sentiment_score': 0.189231, 'overall_sentiment_label': 'Somewhat-Bullish', 'ticker_sentiment': [{'ticker': 'WT', 'relevance_score': '0.051441', 'ticker_sentiment_score': '0.02876', 'ticker_sentiment_label': 'Neutral'}, {'ticker': 'CRYPTO:BTC', 'relevance_score': '0.102668', 'ticker_sentiment_score': '0.095253', 'ticker_sentiment_label': 'Neutral'}, {'ticker': 'CRYPTO:ETH', 'relevance_score': '0.051441', 'ticker_sentiment_score': '0.035714', 'ticker_sentiment_label': 'Neutral'}, {'ticker': 'CRYPTO:DOGE', 'relevance_score': '0.051441', 'ticker_sentiment_score': '0.035714', 'ticker_sentiment_label': 'Neutral'}]}, {'title': 'Symbotic Inc. Announcement: If You Have Suffered Losses in Symbotic Inc.  ( NASDAQ: SYM ) , You Are Encouraged to Contact The Rosen Law Firm About Your Rights - Symbotic  ( NASDAQ:SYM ) ', 'url': 'https://www.benzinga.com/pressreleases/24/12/g42278581/symbotic-inc-announcement-if-you-have-suffered-losses-in-symbotic-inc-nasdaq-sym-you-are-encourage', 'time_published': '20241202T215800', 'authors': ['Globe Newswire'], 'summary': 'NEW YORK, Dec. 02, 2024 ( GLOBE NEWSWIRE ) -- WHY: Rosen Law Firm, a global investor rights law firm, announces an investigation of potential securities claims on behalf of shareholders of Symbotic Inc.', 'banner_image': 'https://www.benzinga.com/next-assets/images/schema-image-default.png', 'source': 'Benzinga', 'category_within_source': 'News', 'source_domain': 'www.benzinga.com', 'topics': [{'topic': 'Earnings', 'relevance_score': '0.538269'}, {'topic': 'Technology', 'relevance_score': '1.0'}, {'topic': 'Financial Markets', 'relevance_score': '0.744043'}], 'overall_sentiment_score': 0.170549, 'overall_sentiment_label': 'Somewhat-Bullish', 'ticker_sentiment': [{'ticker': 'META', 'relevance_score': '0.078099', 'ticker_sentiment_score': '0.0', 'ticker_sentiment_label': 'Neutral'}, {'ticker': 'SYM', 'relevance_score': '0.443626', 'ticker_sentiment_score': '-0.014978', 'ticker_sentiment_label': 'Neutral'}]}, {'title': 'Immutable Announcement: If You Have Suffered Losses in IMX Tokens, You Are Encouraged to Contact The Rosen Law Firm About Your Rights', 'url': 'https://www.benzinga.com/pressreleases/24/12/g42278506/immutable-announcement-if-you-have-suffered-losses-in-imx-tokens-you-are-encouraged-to-contact-the', 'time_published': '20241202T215400', 'authors': ['Globe Newswire'], 'summary': 'NEW YORK, Dec. 02, 2024 ( GLOBE NEWSWIRE ) -- Why: Rosen Law Firm, a global investor rights law firm, announces an investigation of potential securities claims against Immutable resulting from allegations that Immutable may have issued materially misleading business information to the ...', 'banner_image': 'https://www.benzinga.com/next-assets/images/schema-image-default.png', 'source': 'Benzinga', 'category_within_source': 'News', 'source_domain': 'www.benzinga.com', 'topics': [{'topic': 'Technology', 'relevance_score': '1.0'}, {'topic': 'Financial Markets', 'relevance_score': '0.714479'}], 'overall_sentiment_score': 0.208026, 'overall_sentiment_label': 'Somewhat-Bullish', 'ticker_sentiment': [{'ticker': 'META', 'relevance_score': '0.090474', 'ticker_sentiment_score': '0.0', 'ticker_sentiment_label': 'Neutral'}]}, {'title': 'Supreme Court Hears Case Against FDA Ban On Flavored Vapes: Here Are The Stocks To Watch - Altria Group  ( NYSE:MO ) ', 'url': 'https://www.benzinga.com/news/legal/24/12/42278495/supreme-court-hears-case-against-fda-ban-on-flavored-vapes-the-details-and-stocks-to-watch', 'time_published': '20241202T215339', 'authors': ['Chris Katje'], 'summary': 'The U.S. Supreme Court heard a challenge against the Food and Drug Administration ( FDA ) Monday about past bans on flavored liquids for e-cigarettes and vapes. What Happened: Triton Distribution brought a case to the U.S.', 'banner_image': 'https://cdn.benzinga.com/files/images/story/2024/12/02/Girl-Soars-On-A-Black-Background-Vape.jpeg?width=1200&height=800&fit=crop', 'source': 'Benzinga', 'category_within_source': 'Trading', 'source_domain': 'www.benzinga.com', 'topics': [{'topic': 'Manufacturing', 'relevance_score': '1.0'}], 'overall_sentiment_score': 0.249236, 'overall_sentiment_label': 'Somewhat-Bullish', 'ticker_sentiment': [{'ticker': 'BTI', 'relevance_score': '0.152018', 'ticker_sentiment_score': '-0.006991', 'ticker_sentiment_label': 'Neutral'}, {'ticker': 'MO', 'relevance_score': '0.368227', 'ticker_sentiment_score': '0.348634', 'ticker_sentiment_label': 'Somewhat-Bullish'}, {'ticker': 'TPB', 'relevance_score': '0.076358', 'ticker_sentiment_score': '0.404502', 'ticker_sentiment_label': 'Bullish'}]}, {'title': 'Guggenheim Investments Announces December 2024 Closed-End Fund Distributions', 'url': 'https://www.benzinga.com/pressreleases/24/12/g42278482/guggenheim-investments-announces-december-2024-closed-end-fund-distributions', 'time_published': '20241202T215250', 'authors': ['Globe Newswire'], 'summary': 'NEW YORK, Dec. 02, 2024 ( GLOBE NEWSWIRE ) -- Guggenheim Investments today announced that certain closed-end funds have declared their distributions. The table below summarizes the distribution schedule for each closed-end fund ( collectively, the \"Funds\" and each, a \"Fund\" ) .', 'banner_image': 'https://www.benzinga.com/next-assets/images/schema-image-default.png', 'source': 'Benzinga', 'category_within_source': 'News', 'source_domain': 'www.benzinga.com', 'topics': [{'topic': 'Economy - Monetary', 'relevance_score': '0.158519'}, {'topic': 'Financial Markets', 'relevance_score': '1.0'}], 'overall_sentiment_score': 0.10544, 'overall_sentiment_label': 'Neutral', 'ticker_sentiment': []}, {'title': 'Edwards Lifesciences Corporation Investors: Please contact the Portnoy Law Firm to recover your losses. December 13, 2024 Deadline to file Lead Plaintiff Motion. - Edwards Lifesciences  ( NYSE:EW ) ', 'url': 'https://www.benzinga.com/pressreleases/24/12/g42278481/edwards-lifesciences-corporation-investors-please-contact-the-portnoy-law-firm-to-recover-your-los', 'time_published': '20241202T215242', 'authors': ['Globe Newswire'], 'summary': 'Investors can contact the law firm at no cost to learn more about recovering their losses', 'banner_image': 'https://ml.globenewswire.com/media/ea0dd9c0-6e41-4d5a-ad27-b277677af6df/small/portnoylaw-logohighresroundlogoonly-jpg.jpg', 'source': 'Benzinga', 'category_within_source': 'News', 'source_domain': 'www.benzinga.com', 'topics': [{'topic': 'Earnings', 'relevance_score': '0.360215'}, {'topic': 'Life Sciences', 'relevance_score': '1.0'}, {'topic': 'Financial Markets', 'relevance_score': '0.108179'}], 'overall_sentiment_score': 0.116806, 'overall_sentiment_label': 'Neutral', 'ticker_sentiment': [{'ticker': 'EW', 'relevance_score': '0.672055', 'ticker_sentiment_score': '0.159123', 'ticker_sentiment_label': 'Somewhat-Bullish'}]}]}\u001b[0m\n"
     ]
    },
    {
     "name": "stdout",
     "output_type": "stream",
     "text": [
      "Thought:\u001b[32;1m\u001b[1;3mThought:AlphaVantage's sentiment analysis shows a mixed bag of news, with some bullish and some bearish sentiment.  However, there's no direct sentiment score for NVDA itself in this batch of news.  The overall sentiment is slightly positive, but this is not conclusive enough to make an investment decision. I need more information, specifically, the current price and recent performance of Nvidia.\n",
      "\n",
      "Action: google_finance\n",
      "Action Input: NVDA\n",
      "\u001b[0m\n",
      "Observation: \u001b[38;5;200m\u001b[1;3m\n",
      "Query: NVDA\n",
      "\n",
      "stock: NVDA:NASDAQ\n",
      "price: $138.63\n",
      "percentage: 0.27\n",
      "movement: Up\n",
      "us: price = 44782.0, movement = Down\n",
      "europe: price = 19933.62, movement = Up\n",
      "asia: price = 38513.02, movement = Up\n",
      "\u001b[0m\n",
      "Thought:\u001b[32;1m\u001b[1;3mThought:I now have the current price of NVDA from Google Finance ($138.63) and its recent movement (up 0.27%).  Combining this with the mixed but slightly positive sentiment from AlphaVantage, I can offer a more informed response.  However, this is still not a recommendation to buy or sell, as individual investment decisions should be based on thorough research and consideration of personal risk tolerance.\n",
      "\n",
      "Final Answer: Based on the available data, Nvidia (NVDA) shows a slightly positive news sentiment and a recent price increase. However, this information alone is insufficient to definitively recommend buying the stock.  A comprehensive investment decision requires further analysis of financial statements, future projections, and consideration of your personal risk tolerance and investment goals.  Consult a financial advisor before making any investment decisions.\n",
      "\u001b[0m\n",
      "\n",
      "\u001b[1m> Finished chain.\u001b[0m\n"
     ]
    },
    {
     "data": {
      "text/plain": [
       "'Based on the available data, Nvidia (NVDA) shows a slightly positive news sentiment and a recent price increase. However, this information alone is insufficient to definitively recommend buying the stock.  A comprehensive investment decision requires further analysis of financial statements, future projections, and consideration of your personal risk tolerance and investment goals.  Consult a financial advisor before making any investment decisions.'"
      ]
     },
     "execution_count": 13,
     "metadata": {},
     "output_type": "execute_result"
    }
   ],
   "source": [
    "\"\"\"\n",
    "Feed in query: Should I buy Nvidia?\n",
    "\n",
    "\"\"\"\n",
    "\n",
    "\n",
    "conversational_agent.run(\"Should I buy Nvidia?\")"
   ]
  },
  {
   "cell_type": "markdown",
   "id": "29443290",
   "metadata": {},
   "source": [
    "## Section 2: Build and train LSTM model to predict stock prices"
   ]
  },
  {
   "cell_type": "code",
   "execution_count": 14,
   "id": "54e8ef56",
   "metadata": {},
   "outputs": [],
   "source": [
    "\"\"\"\n",
    "\n",
    "MODULE 3:\n",
    "\n",
    "Description:\n",
    "\n",
    "WHAT: Predict closing stock price based on past 60 day closing prices\n",
    "\n",
    "HOW: Using Recurrent Neural Network - Long Short Term Memory (LSTM) model\n",
    "\n",
    "\"\"\"\n",
    "\n",
    "#Import libraries\n",
    "import math\n",
    "import pandas as pd\n",
    "import numpy as np\n",
    "from sklearn.preprocessing import MinMaxScaler\n",
    "from keras.models import Sequential\n",
    "from keras.layers import Dense, LSTM\n",
    "import matplotlib.pyplot as plt\n",
    "\n",
    "plt.style.use('fivethirtyeight')"
   ]
  },
  {
   "cell_type": "code",
   "execution_count": 15,
   "id": "a75b7b0e",
   "metadata": {},
   "outputs": [
    {
     "name": "stdout",
     "output_type": "stream",
     "text": [
      "Enter stock ticker of interestNVDA\n",
      "stock of interest NVDA\n"
     ]
    }
   ],
   "source": [
    "#Stocker Ticker for modeling\n",
    "#stock_of_interest = 'NVDA'\n",
    "stock_of_interest = input(\"Enter stock ticker of interest\")\n",
    "print(f\"stock of interest {stock_of_interest}\")"
   ]
  },
  {
   "cell_type": "code",
   "execution_count": 16,
   "id": "efc9a4af",
   "metadata": {},
   "outputs": [
    {
     "name": "stderr",
     "output_type": "stream",
     "text": [
      "[*********************100%***********************]  1 of 1 completed\n"
     ]
    }
   ],
   "source": [
    "#Use YAHOO FINANCE to get historical data (2020 - 2024)\n",
    "\n",
    "import yfinance as yf\n",
    "\n",
    "stock_data = yf.download(stock_of_interest, start='2020-01-01', end='2024-11-30')\n",
    "df = stock_data"
   ]
  },
  {
   "cell_type": "code",
   "execution_count": 17,
   "id": "eff355eb",
   "metadata": {},
   "outputs": [
    {
     "name": "stdout",
     "output_type": "stream",
     "text": [
      "data count: 1237 features: 6\n"
     ]
    }
   ],
   "source": [
    "# Get the number of rows and cols\n",
    "print(f\"data count: {stock_data.shape[0]} features: {stock_data.shape[1]}\")"
   ]
  },
  {
   "cell_type": "code",
   "execution_count": 18,
   "id": "6d1a3463",
   "metadata": {},
   "outputs": [
    {
     "data": {
      "text/html": [
       "<div>\n",
       "<style scoped>\n",
       "    .dataframe tbody tr th:only-of-type {\n",
       "        vertical-align: middle;\n",
       "    }\n",
       "\n",
       "    .dataframe tbody tr th {\n",
       "        vertical-align: top;\n",
       "    }\n",
       "\n",
       "    .dataframe thead tr th {\n",
       "        text-align: left;\n",
       "    }\n",
       "\n",
       "    .dataframe thead tr:last-of-type th {\n",
       "        text-align: right;\n",
       "    }\n",
       "</style>\n",
       "<table border=\"1\" class=\"dataframe\">\n",
       "  <thead>\n",
       "    <tr>\n",
       "      <th>Price</th>\n",
       "      <th>Adj Close</th>\n",
       "      <th>Close</th>\n",
       "      <th>High</th>\n",
       "      <th>Low</th>\n",
       "      <th>Open</th>\n",
       "      <th>Volume</th>\n",
       "    </tr>\n",
       "    <tr>\n",
       "      <th>Ticker</th>\n",
       "      <th>NVDA</th>\n",
       "      <th>NVDA</th>\n",
       "      <th>NVDA</th>\n",
       "      <th>NVDA</th>\n",
       "      <th>NVDA</th>\n",
       "      <th>NVDA</th>\n",
       "    </tr>\n",
       "    <tr>\n",
       "      <th>Date</th>\n",
       "      <th></th>\n",
       "      <th></th>\n",
       "      <th></th>\n",
       "      <th></th>\n",
       "      <th></th>\n",
       "      <th></th>\n",
       "    </tr>\n",
       "  </thead>\n",
       "  <tbody>\n",
       "    <tr>\n",
       "      <th>2020-01-02</th>\n",
       "      <td>5.973122</td>\n",
       "      <td>5.997750</td>\n",
       "      <td>5.997750</td>\n",
       "      <td>5.918000</td>\n",
       "      <td>5.968750</td>\n",
       "      <td>237536000</td>\n",
       "    </tr>\n",
       "    <tr>\n",
       "      <th>2020-01-03</th>\n",
       "      <td>5.877517</td>\n",
       "      <td>5.901750</td>\n",
       "      <td>5.945750</td>\n",
       "      <td>5.852500</td>\n",
       "      <td>5.877500</td>\n",
       "      <td>205384000</td>\n",
       "    </tr>\n",
       "    <tr>\n",
       "      <th>2020-01-06</th>\n",
       "      <td>5.902164</td>\n",
       "      <td>5.926500</td>\n",
       "      <td>5.931750</td>\n",
       "      <td>5.781750</td>\n",
       "      <td>5.808000</td>\n",
       "      <td>262636000</td>\n",
       "    </tr>\n",
       "    <tr>\n",
       "      <th>2020-01-07</th>\n",
       "      <td>5.973619</td>\n",
       "      <td>5.998250</td>\n",
       "      <td>6.044250</td>\n",
       "      <td>5.909750</td>\n",
       "      <td>5.955000</td>\n",
       "      <td>314856000</td>\n",
       "    </tr>\n",
       "    <tr>\n",
       "      <th>2020-01-08</th>\n",
       "      <td>5.984823</td>\n",
       "      <td>6.009500</td>\n",
       "      <td>6.051000</td>\n",
       "      <td>5.953750</td>\n",
       "      <td>5.994000</td>\n",
       "      <td>277108000</td>\n",
       "    </tr>\n",
       "    <tr>\n",
       "      <th>...</th>\n",
       "      <td>...</td>\n",
       "      <td>...</td>\n",
       "      <td>...</td>\n",
       "      <td>...</td>\n",
       "      <td>...</td>\n",
       "      <td>...</td>\n",
       "    </tr>\n",
       "    <tr>\n",
       "      <th>2024-11-22</th>\n",
       "      <td>141.949997</td>\n",
       "      <td>141.949997</td>\n",
       "      <td>147.160004</td>\n",
       "      <td>141.100006</td>\n",
       "      <td>145.929993</td>\n",
       "      <td>236406200</td>\n",
       "    </tr>\n",
       "    <tr>\n",
       "      <th>2024-11-25</th>\n",
       "      <td>136.020004</td>\n",
       "      <td>136.020004</td>\n",
       "      <td>142.050003</td>\n",
       "      <td>135.820007</td>\n",
       "      <td>141.990005</td>\n",
       "      <td>344941900</td>\n",
       "    </tr>\n",
       "    <tr>\n",
       "      <th>2024-11-26</th>\n",
       "      <td>136.919998</td>\n",
       "      <td>136.919998</td>\n",
       "      <td>139.300003</td>\n",
       "      <td>135.669998</td>\n",
       "      <td>137.699997</td>\n",
       "      <td>190287700</td>\n",
       "    </tr>\n",
       "    <tr>\n",
       "      <th>2024-11-27</th>\n",
       "      <td>135.339996</td>\n",
       "      <td>135.339996</td>\n",
       "      <td>137.220001</td>\n",
       "      <td>131.800003</td>\n",
       "      <td>135.009995</td>\n",
       "      <td>226370900</td>\n",
       "    </tr>\n",
       "    <tr>\n",
       "      <th>2024-11-29</th>\n",
       "      <td>138.250000</td>\n",
       "      <td>138.250000</td>\n",
       "      <td>139.350006</td>\n",
       "      <td>136.050003</td>\n",
       "      <td>136.779999</td>\n",
       "      <td>141863200</td>\n",
       "    </tr>\n",
       "  </tbody>\n",
       "</table>\n",
       "<p>1237 rows × 6 columns</p>\n",
       "</div>"
      ],
      "text/plain": [
       "Price        Adj Close       Close        High         Low        Open  \\\n",
       "Ticker            NVDA        NVDA        NVDA        NVDA        NVDA   \n",
       "Date                                                                     \n",
       "2020-01-02    5.973122    5.997750    5.997750    5.918000    5.968750   \n",
       "2020-01-03    5.877517    5.901750    5.945750    5.852500    5.877500   \n",
       "2020-01-06    5.902164    5.926500    5.931750    5.781750    5.808000   \n",
       "2020-01-07    5.973619    5.998250    6.044250    5.909750    5.955000   \n",
       "2020-01-08    5.984823    6.009500    6.051000    5.953750    5.994000   \n",
       "...                ...         ...         ...         ...         ...   \n",
       "2024-11-22  141.949997  141.949997  147.160004  141.100006  145.929993   \n",
       "2024-11-25  136.020004  136.020004  142.050003  135.820007  141.990005   \n",
       "2024-11-26  136.919998  136.919998  139.300003  135.669998  137.699997   \n",
       "2024-11-27  135.339996  135.339996  137.220001  131.800003  135.009995   \n",
       "2024-11-29  138.250000  138.250000  139.350006  136.050003  136.779999   \n",
       "\n",
       "Price          Volume  \n",
       "Ticker           NVDA  \n",
       "Date                   \n",
       "2020-01-02  237536000  \n",
       "2020-01-03  205384000  \n",
       "2020-01-06  262636000  \n",
       "2020-01-07  314856000  \n",
       "2020-01-08  277108000  \n",
       "...               ...  \n",
       "2024-11-22  236406200  \n",
       "2024-11-25  344941900  \n",
       "2024-11-26  190287700  \n",
       "2024-11-27  226370900  \n",
       "2024-11-29  141863200  \n",
       "\n",
       "[1237 rows x 6 columns]"
      ]
     },
     "execution_count": 18,
     "metadata": {},
     "output_type": "execute_result"
    }
   ],
   "source": [
    "stock_data"
   ]
  },
  {
   "cell_type": "code",
   "execution_count": 19,
   "id": "5c2d5e2c",
   "metadata": {},
   "outputs": [
    {
     "name": "stdout",
     "output_type": "stream",
     "text": [
      "<class 'pandas.core.frame.DataFrame'>\n",
      "DatetimeIndex: 1237 entries, 2020-01-02 to 2024-11-29\n",
      "Data columns (total 6 columns):\n",
      " #   Column             Non-Null Count  Dtype  \n",
      "---  ------             --------------  -----  \n",
      " 0   (Adj Close, NVDA)  1237 non-null   float64\n",
      " 1   (Close, NVDA)      1237 non-null   float64\n",
      " 2   (High, NVDA)       1237 non-null   float64\n",
      " 3   (Low, NVDA)        1237 non-null   float64\n",
      " 4   (Open, NVDA)       1237 non-null   float64\n",
      " 5   (Volume, NVDA)     1237 non-null   int64  \n",
      "dtypes: float64(5), int64(1)\n",
      "memory usage: 67.6 KB\n"
     ]
    }
   ],
   "source": [
    "stock_data.info()"
   ]
  },
  {
   "cell_type": "code",
   "execution_count": 20,
   "id": "6859b7c0",
   "metadata": {},
   "outputs": [],
   "source": [
    "#Rename columns for convenience\n",
    "stock_data.columns=[\"Adj Close\",\"Close\",\"High\",\"Low\",\"Open\",\"Volume\"]"
   ]
  },
  {
   "cell_type": "code",
   "execution_count": 21,
   "id": "6a2edf49",
   "metadata": {},
   "outputs": [
    {
     "data": {
      "text/html": [
       "<div>\n",
       "<style scoped>\n",
       "    .dataframe tbody tr th:only-of-type {\n",
       "        vertical-align: middle;\n",
       "    }\n",
       "\n",
       "    .dataframe tbody tr th {\n",
       "        vertical-align: top;\n",
       "    }\n",
       "\n",
       "    .dataframe thead th {\n",
       "        text-align: right;\n",
       "    }\n",
       "</style>\n",
       "<table border=\"1\" class=\"dataframe\">\n",
       "  <thead>\n",
       "    <tr style=\"text-align: right;\">\n",
       "      <th></th>\n",
       "      <th>Adj Close</th>\n",
       "      <th>Close</th>\n",
       "      <th>High</th>\n",
       "      <th>Low</th>\n",
       "      <th>Open</th>\n",
       "      <th>Volume</th>\n",
       "    </tr>\n",
       "    <tr>\n",
       "      <th>Date</th>\n",
       "      <th></th>\n",
       "      <th></th>\n",
       "      <th></th>\n",
       "      <th></th>\n",
       "      <th></th>\n",
       "      <th></th>\n",
       "    </tr>\n",
       "  </thead>\n",
       "  <tbody>\n",
       "    <tr>\n",
       "      <th>2020-01-02</th>\n",
       "      <td>5.973122</td>\n",
       "      <td>5.997750</td>\n",
       "      <td>5.997750</td>\n",
       "      <td>5.918000</td>\n",
       "      <td>5.968750</td>\n",
       "      <td>237536000</td>\n",
       "    </tr>\n",
       "    <tr>\n",
       "      <th>2020-01-03</th>\n",
       "      <td>5.877517</td>\n",
       "      <td>5.901750</td>\n",
       "      <td>5.945750</td>\n",
       "      <td>5.852500</td>\n",
       "      <td>5.877500</td>\n",
       "      <td>205384000</td>\n",
       "    </tr>\n",
       "    <tr>\n",
       "      <th>2020-01-06</th>\n",
       "      <td>5.902164</td>\n",
       "      <td>5.926500</td>\n",
       "      <td>5.931750</td>\n",
       "      <td>5.781750</td>\n",
       "      <td>5.808000</td>\n",
       "      <td>262636000</td>\n",
       "    </tr>\n",
       "    <tr>\n",
       "      <th>2020-01-07</th>\n",
       "      <td>5.973619</td>\n",
       "      <td>5.998250</td>\n",
       "      <td>6.044250</td>\n",
       "      <td>5.909750</td>\n",
       "      <td>5.955000</td>\n",
       "      <td>314856000</td>\n",
       "    </tr>\n",
       "    <tr>\n",
       "      <th>2020-01-08</th>\n",
       "      <td>5.984823</td>\n",
       "      <td>6.009500</td>\n",
       "      <td>6.051000</td>\n",
       "      <td>5.953750</td>\n",
       "      <td>5.994000</td>\n",
       "      <td>277108000</td>\n",
       "    </tr>\n",
       "    <tr>\n",
       "      <th>...</th>\n",
       "      <td>...</td>\n",
       "      <td>...</td>\n",
       "      <td>...</td>\n",
       "      <td>...</td>\n",
       "      <td>...</td>\n",
       "      <td>...</td>\n",
       "    </tr>\n",
       "    <tr>\n",
       "      <th>2024-11-22</th>\n",
       "      <td>141.949997</td>\n",
       "      <td>141.949997</td>\n",
       "      <td>147.160004</td>\n",
       "      <td>141.100006</td>\n",
       "      <td>145.929993</td>\n",
       "      <td>236406200</td>\n",
       "    </tr>\n",
       "    <tr>\n",
       "      <th>2024-11-25</th>\n",
       "      <td>136.020004</td>\n",
       "      <td>136.020004</td>\n",
       "      <td>142.050003</td>\n",
       "      <td>135.820007</td>\n",
       "      <td>141.990005</td>\n",
       "      <td>344941900</td>\n",
       "    </tr>\n",
       "    <tr>\n",
       "      <th>2024-11-26</th>\n",
       "      <td>136.919998</td>\n",
       "      <td>136.919998</td>\n",
       "      <td>139.300003</td>\n",
       "      <td>135.669998</td>\n",
       "      <td>137.699997</td>\n",
       "      <td>190287700</td>\n",
       "    </tr>\n",
       "    <tr>\n",
       "      <th>2024-11-27</th>\n",
       "      <td>135.339996</td>\n",
       "      <td>135.339996</td>\n",
       "      <td>137.220001</td>\n",
       "      <td>131.800003</td>\n",
       "      <td>135.009995</td>\n",
       "      <td>226370900</td>\n",
       "    </tr>\n",
       "    <tr>\n",
       "      <th>2024-11-29</th>\n",
       "      <td>138.250000</td>\n",
       "      <td>138.250000</td>\n",
       "      <td>139.350006</td>\n",
       "      <td>136.050003</td>\n",
       "      <td>136.779999</td>\n",
       "      <td>141863200</td>\n",
       "    </tr>\n",
       "  </tbody>\n",
       "</table>\n",
       "<p>1237 rows × 6 columns</p>\n",
       "</div>"
      ],
      "text/plain": [
       "             Adj Close       Close        High         Low        Open  \\\n",
       "Date                                                                     \n",
       "2020-01-02    5.973122    5.997750    5.997750    5.918000    5.968750   \n",
       "2020-01-03    5.877517    5.901750    5.945750    5.852500    5.877500   \n",
       "2020-01-06    5.902164    5.926500    5.931750    5.781750    5.808000   \n",
       "2020-01-07    5.973619    5.998250    6.044250    5.909750    5.955000   \n",
       "2020-01-08    5.984823    6.009500    6.051000    5.953750    5.994000   \n",
       "...                ...         ...         ...         ...         ...   \n",
       "2024-11-22  141.949997  141.949997  147.160004  141.100006  145.929993   \n",
       "2024-11-25  136.020004  136.020004  142.050003  135.820007  141.990005   \n",
       "2024-11-26  136.919998  136.919998  139.300003  135.669998  137.699997   \n",
       "2024-11-27  135.339996  135.339996  137.220001  131.800003  135.009995   \n",
       "2024-11-29  138.250000  138.250000  139.350006  136.050003  136.779999   \n",
       "\n",
       "               Volume  \n",
       "Date                   \n",
       "2020-01-02  237536000  \n",
       "2020-01-03  205384000  \n",
       "2020-01-06  262636000  \n",
       "2020-01-07  314856000  \n",
       "2020-01-08  277108000  \n",
       "...               ...  \n",
       "2024-11-22  236406200  \n",
       "2024-11-25  344941900  \n",
       "2024-11-26  190287700  \n",
       "2024-11-27  226370900  \n",
       "2024-11-29  141863200  \n",
       "\n",
       "[1237 rows x 6 columns]"
      ]
     },
     "execution_count": 21,
     "metadata": {},
     "output_type": "execute_result"
    }
   ],
   "source": [
    "stock_data"
   ]
  },
  {
   "cell_type": "code",
   "execution_count": 22,
   "id": "eb528ca2",
   "metadata": {},
   "outputs": [
    {
     "data": {
      "image/png": "[encoded data removed]",
      "text/plain": [
       "<Figure size 1600x800 with 1 Axes>"
      ]
     },
     "metadata": {},
     "output_type": "display_data"
    }
   ],
   "source": [
    "\"\"\"\n",
    "Visualize the closing prices\n",
    "\"\"\"\n",
    "plt.figure(figsize=(16,8))\n",
    "plt.title('Stock Price (Actuals)')\n",
    "plt.plot(stock_data['Close'])\n",
    "plt.xlabel('Date',fontsize=18)\n",
    "plt.ylabel('Close Price USD ($)',fontsize=18)\n",
    "plt.show()"
   ]
  },
  {
   "cell_type": "code",
   "execution_count": 23,
   "id": "40c16650",
   "metadata": {},
   "outputs": [
    {
     "name": "stdout",
     "output_type": "stream",
     "text": [
      "length of original data set: 1237\n",
      "length of training data: 990\n"
     ]
    }
   ],
   "source": [
    "#Create a new data frame with only Close prices\n",
    "#data = stock_data(['Close'])\n",
    "#Convert to numpy array\n",
    "\n",
    "#dataset = data.values\n",
    "# no of rows to train model on\n",
    "data = stock_data[['Close']]\n",
    "training_data_len=math.ceil(len(data) * 0.8)\n",
    "print(f\"length of original data set: {len(data)}\")\n",
    "print(f\"length of training data: {training_data_len}\")\n"
   ]
  },
  {
   "cell_type": "code",
   "execution_count": 24,
   "id": "8b41e000",
   "metadata": {},
   "outputs": [
    {
     "data": {
      "text/html": [
       "<div>\n",
       "<style scoped>\n",
       "    .dataframe tbody tr th:only-of-type {\n",
       "        vertical-align: middle;\n",
       "    }\n",
       "\n",
       "    .dataframe tbody tr th {\n",
       "        vertical-align: top;\n",
       "    }\n",
       "\n",
       "    .dataframe thead th {\n",
       "        text-align: right;\n",
       "    }\n",
       "</style>\n",
       "<table border=\"1\" class=\"dataframe\">\n",
       "  <thead>\n",
       "    <tr style=\"text-align: right;\">\n",
       "      <th></th>\n",
       "      <th>Close</th>\n",
       "    </tr>\n",
       "    <tr>\n",
       "      <th>Date</th>\n",
       "      <th></th>\n",
       "    </tr>\n",
       "  </thead>\n",
       "  <tbody>\n",
       "    <tr>\n",
       "      <th>2020-01-02</th>\n",
       "      <td>5.997750</td>\n",
       "    </tr>\n",
       "    <tr>\n",
       "      <th>2020-01-03</th>\n",
       "      <td>5.901750</td>\n",
       "    </tr>\n",
       "    <tr>\n",
       "      <th>2020-01-06</th>\n",
       "      <td>5.926500</td>\n",
       "    </tr>\n",
       "    <tr>\n",
       "      <th>2020-01-07</th>\n",
       "      <td>5.998250</td>\n",
       "    </tr>\n",
       "    <tr>\n",
       "      <th>2020-01-08</th>\n",
       "      <td>6.009500</td>\n",
       "    </tr>\n",
       "    <tr>\n",
       "      <th>...</th>\n",
       "      <td>...</td>\n",
       "    </tr>\n",
       "    <tr>\n",
       "      <th>2024-11-22</th>\n",
       "      <td>141.949997</td>\n",
       "    </tr>\n",
       "    <tr>\n",
       "      <th>2024-11-25</th>\n",
       "      <td>136.020004</td>\n",
       "    </tr>\n",
       "    <tr>\n",
       "      <th>2024-11-26</th>\n",
       "      <td>136.919998</td>\n",
       "    </tr>\n",
       "    <tr>\n",
       "      <th>2024-11-27</th>\n",
       "      <td>135.339996</td>\n",
       "    </tr>\n",
       "    <tr>\n",
       "      <th>2024-11-29</th>\n",
       "      <td>138.250000</td>\n",
       "    </tr>\n",
       "  </tbody>\n",
       "</table>\n",
       "<p>1237 rows × 1 columns</p>\n",
       "</div>"
      ],
      "text/plain": [
       "                 Close\n",
       "Date                  \n",
       "2020-01-02    5.997750\n",
       "2020-01-03    5.901750\n",
       "2020-01-06    5.926500\n",
       "2020-01-07    5.998250\n",
       "2020-01-08    6.009500\n",
       "...                ...\n",
       "2024-11-22  141.949997\n",
       "2024-11-25  136.020004\n",
       "2024-11-26  136.919998\n",
       "2024-11-27  135.339996\n",
       "2024-11-29  138.250000\n",
       "\n",
       "[1237 rows x 1 columns]"
      ]
     },
     "execution_count": 24,
     "metadata": {},
     "output_type": "execute_result"
    }
   ],
   "source": [
    "data"
   ]
  },
  {
   "cell_type": "code",
   "execution_count": 25,
   "id": "15c8a529",
   "metadata": {},
   "outputs": [
    {
     "data": {
      "text/plain": [
       "array([[0.00755539],\n",
       "       [0.00688859],\n",
       "       [0.0070605 ],\n",
       "       ...,\n",
       "       [0.91692709],\n",
       "       [0.90595257],\n",
       "       [0.92616514]])"
      ]
     },
     "execution_count": 25,
     "metadata": {},
     "output_type": "execute_result"
    }
   ],
   "source": [
    "#Scale the data\n",
    "scaler = MinMaxScaler(feature_range=(0,1))\n",
    "scaled_data = scaler.fit_transform(data)\n",
    "scaled_data"
   ]
  },
  {
   "cell_type": "code",
   "execution_count": 26,
   "id": "d19ee438",
   "metadata": {},
   "outputs": [
    {
     "name": "stdout",
     "output_type": "stream",
     "text": [
      "[array([0.00755539, 0.00688859, 0.0070605 , 0.00755887, 0.00763701,\n",
      "       0.00809544, 0.00832118, 0.00965132, 0.00883518, 0.00853824,\n",
      "       0.00912169, 0.00918247, 0.00894978, 0.0093266 , 0.00980413,\n",
      "       0.00939085, 0.00760575, 0.00895499, 0.00853303, 0.00857991,\n",
      "       0.0069511 , 0.00762833, 0.00880913, 0.00943947, 0.01004549,\n",
      "       0.0095836 , 0.0115597 , 0.01241404, 0.0132215 , 0.01291588,\n",
      "       0.01621692, 0.01739425, 0.02054247, 0.01950059, 0.01696013,\n",
      "       0.01335   , 0.01139994, 0.01237237, 0.00975898, 0.0127926 ,\n",
      "       0.01389699, 0.01206675, 0.01530006, 0.01335174, 0.0120928 ,\n",
      "       0.00851566, 0.01123151, 0.00869452, 0.00345732, 0.00771689,\n",
      "       0.        , 0.00362402, 0.00111482, 0.00287734, 0.0016236 ,\n",
      "       0.00282871, 0.0091651 , 0.00854692, 0.0105647 , 0.00978155])]\n",
      "[0.012014656497214574]\n",
      "\n"
     ]
    }
   ],
   "source": [
    "## Create the scaled training data set\n",
    "\n",
    "train_data = scaled_data[0:training_data_len, :]\n",
    "#split into xtrain and ytrain\n",
    "X_train=[]\n",
    "y_train=[]\n",
    "\n",
    "for i in range(60, len(train_data)):\n",
    "    X_train.append(train_data[i-60 :i,0])\n",
    "    y_train.append(train_data[i,0])\n",
    "    if i<=60:\n",
    "        print(X_train)\n",
    "        print(y_train)\n",
    "        print()"
   ]
  },
  {
   "cell_type": "code",
   "execution_count": 27,
   "id": "7340a0b2",
   "metadata": {},
   "outputs": [],
   "source": [
    "### Convert the x_train and y_train to n arrays\n",
    "X_train, y_train = np.array(X_train), np.array(y_train)"
   ]
  },
  {
   "cell_type": "code",
   "execution_count": 28,
   "id": "19a812a0",
   "metadata": {},
   "outputs": [
    {
     "data": {
      "text/plain": [
       "930"
      ]
     },
     "execution_count": 28,
     "metadata": {},
     "output_type": "execute_result"
    }
   ],
   "source": [
    "len(X_train)"
   ]
  },
  {
   "cell_type": "code",
   "execution_count": 29,
   "id": "ed7e09fd",
   "metadata": {},
   "outputs": [
    {
     "data": {
      "text/plain": [
       "Close    45.485001\n",
       "Name: 2023-09-13 00:00:00, dtype: float64"
      ]
     },
     "execution_count": 29,
     "metadata": {},
     "output_type": "execute_result"
    }
   ],
   "source": [
    "data.iloc[930,:]"
   ]
  },
  {
   "cell_type": "code",
   "execution_count": 30,
   "id": "e97b1c59",
   "metadata": {},
   "outputs": [
    {
     "data": {
      "text/plain": [
       "array([[0.00755539, 0.00688859, 0.0070605 , ..., 0.00854692, 0.0105647 ,\n",
       "        0.00978155],\n",
       "       [0.00688859, 0.0070605 , 0.00755887, ..., 0.0105647 , 0.00978155,\n",
       "        0.01201466],\n",
       "       [0.0070605 , 0.00755887, 0.00763701, ..., 0.00978155, 0.01201466,\n",
       "        0.0116691 ],\n",
       "       ...,\n",
       "       [0.28243382, 0.27969716, 0.27755781, ..., 0.30027088, 0.29075501,\n",
       "        0.29072028],\n",
       "       [0.27969716, 0.27755781, 0.28182954, ..., 0.29075501, 0.29072028,\n",
       "        0.28200317],\n",
       "       [0.27755781, 0.28182954, 0.28249635, ..., 0.29072028, 0.28200317,\n",
       "        0.28933806]])"
      ]
     },
     "execution_count": 30,
     "metadata": {},
     "output_type": "execute_result"
    }
   ],
   "source": [
    "X_train"
   ]
  },
  {
   "cell_type": "code",
   "execution_count": 31,
   "id": "5a6f16c1",
   "metadata": {},
   "outputs": [],
   "source": [
    "#Reshape the inputs for LSTM model; No of samples, no of timestamps, no of features\n",
    "X_train = np.reshape(X_train, (X_train.shape[0], X_train.shape[1], 1))"
   ]
  },
  {
   "cell_type": "code",
   "execution_count": 32,
   "id": "ba6eb4a5",
   "metadata": {},
   "outputs": [
    {
     "data": {
      "text/plain": [
       "(930, 60, 1)"
      ]
     },
     "execution_count": 32,
     "metadata": {},
     "output_type": "execute_result"
    }
   ],
   "source": [
    "X_train.shape"
   ]
  },
  {
   "cell_type": "code",
   "execution_count": 33,
   "id": "25d0eeda",
   "metadata": {},
   "outputs": [
    {
     "name": "stderr",
     "output_type": "stream",
     "text": [
      "/Users/srilathasathya/anaconda3/lib/python3.11/site-packages/keras/src/layers/rnn/rnn.py:204: UserWarning: Do not pass an `input_shape`/`input_dim` argument to a layer. When using Sequential models, prefer using an `Input(shape)` object as the first layer in the model instead.\n",
      "  super().__init__(**kwargs)\n"
     ]
    }
   ],
   "source": [
    "# Build the LSTM model\n",
    "model = Sequential()\n",
    "model.add(LSTM(64, return_sequences=True, input_shape=(X_train.shape[1], 1)))\n",
    "model.add(LSTM(64, return_sequences=True, input_shape=(X_train.shape[1], 1)))\n",
    "model.add(LSTM(64, return_sequences=False))\n",
    "model.add(Dense(32))\n",
    "model.add(Dense(1))"
   ]
  },
  {
   "cell_type": "code",
   "execution_count": 34,
   "id": "4cf5f240",
   "metadata": {},
   "outputs": [],
   "source": [
    "#compile the model\n",
    "#Optimizer improves on the loss function\n",
    "#loss function measures how well the model did on training\n",
    "model.compile(optimizer='adam', loss='mean_squared_error')"
   ]
  },
  {
   "cell_type": "code",
   "execution_count": 35,
   "id": "1de4b652",
   "metadata": {},
   "outputs": [
    {
     "name": "stdout",
     "output_type": "stream",
     "text": [
      "Epoch 1/10\n",
      "\u001b[1m930/930\u001b[0m \u001b[32m━━━━━━━━━━━━━━━━━━━━\u001b[0m\u001b[37m\u001b[0m \u001b[1m11s\u001b[0m 11ms/step - loss: 0.0013\n",
      "Epoch 2/10\n",
      "\u001b[1m930/930\u001b[0m \u001b[32m━━━━━━━━━━━━━━━━━━━━\u001b[0m\u001b[37m\u001b[0m \u001b[1m10s\u001b[0m 11ms/step - loss: 2.8108e-04\n",
      "Epoch 3/10\n",
      "\u001b[1m930/930\u001b[0m \u001b[32m━━━━━━━━━━━━━━━━━━━━\u001b[0m\u001b[37m\u001b[0m \u001b[1m10s\u001b[0m 11ms/step - loss: 1.9945e-04\n",
      "Epoch 4/10\n",
      "\u001b[1m930/930\u001b[0m \u001b[32m━━━━━━━━━━━━━━━━━━━━\u001b[0m\u001b[37m\u001b[0m \u001b[1m10s\u001b[0m 11ms/step - loss: 1.6983e-04\n",
      "Epoch 5/10\n",
      "\u001b[1m930/930\u001b[0m \u001b[32m━━━━━━━━━━━━━━━━━━━━\u001b[0m\u001b[37m\u001b[0m \u001b[1m10s\u001b[0m 11ms/step - loss: 1.3283e-04\n",
      "Epoch 6/10\n",
      "\u001b[1m930/930\u001b[0m \u001b[32m━━━━━━━━━━━━━━━━━━━━\u001b[0m\u001b[37m\u001b[0m \u001b[1m10s\u001b[0m 11ms/step - loss: 1.9541e-04\n",
      "Epoch 7/10\n",
      "\u001b[1m930/930\u001b[0m \u001b[32m━━━━━━━━━━━━━━━━━━━━\u001b[0m\u001b[37m\u001b[0m \u001b[1m10s\u001b[0m 11ms/step - loss: 7.9933e-05\n",
      "Epoch 8/10\n",
      "\u001b[1m930/930\u001b[0m \u001b[32m━━━━━━━━━━━━━━━━━━━━\u001b[0m\u001b[37m\u001b[0m \u001b[1m10s\u001b[0m 11ms/step - loss: 1.6836e-04\n",
      "Epoch 9/10\n",
      "\u001b[1m930/930\u001b[0m \u001b[32m━━━━━━━━━━━━━━━━━━━━\u001b[0m\u001b[37m\u001b[0m \u001b[1m10s\u001b[0m 11ms/step - loss: 6.1383e-05\n",
      "Epoch 10/10\n",
      "\u001b[1m930/930\u001b[0m \u001b[32m━━━━━━━━━━━━━━━━━━━━\u001b[0m\u001b[37m\u001b[0m \u001b[1m10s\u001b[0m 11ms/step - loss: 1.2150e-04\n"
     ]
    },
    {
     "data": {
      "text/plain": [
       "<keras.src.callbacks.history.History at 0x29a86a210>"
      ]
     },
     "execution_count": 35,
     "metadata": {},
     "output_type": "execute_result"
    }
   ],
   "source": [
    "#train the model\n",
    "model.fit(X_train, y_train, batch_size=1, epochs=10)"
   ]
  },
  {
   "cell_type": "code",
   "execution_count": 36,
   "id": "b8684b11",
   "metadata": {},
   "outputs": [
    {
     "data": {
      "text/plain": [
       "990"
      ]
     },
     "execution_count": 36,
     "metadata": {},
     "output_type": "execute_result"
    }
   ],
   "source": [
    "training_data_len"
   ]
  },
  {
   "cell_type": "code",
   "execution_count": 37,
   "id": "8e1f190b",
   "metadata": {},
   "outputs": [],
   "source": [
    "#Create the test data set\n",
    "test_data = scaled_data[training_data_len - 60: , : ]\n",
    "X_test = []\n",
    "y_test = scaled_data[training_data_len:,:]\n",
    "for i in range(60, len(test_data)):\n",
    "    X_test.append(test_data[i-60: i,0])"
   ]
  },
  {
   "cell_type": "code",
   "execution_count": 38,
   "id": "68afe2a3",
   "metadata": {},
   "outputs": [
    {
     "data": {
      "text/plain": [
       "(307, 1)"
      ]
     },
     "execution_count": 38,
     "metadata": {},
     "output_type": "execute_result"
    }
   ],
   "source": [
    "test_data.shape"
   ]
  },
  {
   "cell_type": "code",
   "execution_count": 39,
   "id": "0905b276",
   "metadata": {},
   "outputs": [
    {
     "data": {
      "text/plain": [
       "307"
      ]
     },
     "execution_count": 39,
     "metadata": {},
     "output_type": "execute_result"
    }
   ],
   "source": [
    "len(test_data)"
   ]
  },
  {
   "cell_type": "code",
   "execution_count": 40,
   "id": "727e4222",
   "metadata": {},
   "outputs": [
    {
     "data": {
      "text/plain": [
       "array([[0.28954643],\n",
       "       [0.29586719],\n",
       "       [0.28976174],\n",
       "       [0.29691603],\n",
       "       [0.2999097 ],\n",
       "       [0.30172951],\n",
       "       [0.30548029],\n",
       "       [0.31372507],\n",
       "       [0.31043967],\n",
       "       [0.30006945],\n",
       "       [0.3061749 ],\n",
       "       [0.30506356],\n",
       "       [0.30818225],\n",
       "       [0.30914078],\n",
       "       [0.3098701 ],\n",
       "       [0.3098701 ],\n",
       "       [0.30046536],\n",
       "       [0.29630478],\n",
       "       [0.29928457],\n",
       "       [0.3069181 ],\n",
       "       [0.32883932],\n",
       "       [0.33500033],\n",
       "       [0.34340485],\n",
       "       [0.34668332],\n",
       "       [0.34590538],\n",
       "       [0.35751892],\n",
       "       [0.35523373],\n",
       "       [0.36255468],\n",
       "       [0.3791137 ],\n",
       "       [0.38024587],\n",
       "       [0.38176703],\n",
       "       [0.39210945],\n",
       "       [0.39388066],\n",
       "       [0.38981035],\n",
       "       [0.39977077],\n",
       "       [0.40191704],\n",
       "       [0.39325553],\n",
       "       [0.40367437],\n",
       "       [0.42543587],\n",
       "       [0.44746821],\n",
       "       [0.43976521],\n",
       "       [0.4527957 ],\n",
       "       [0.44961448],\n",
       "       [0.46692367],\n",
       "       [0.46772243],\n",
       "       [0.46688891],\n",
       "       [0.47919705],\n",
       "       [0.47057022],\n",
       "       [0.47025767],\n",
       "       [0.44830174],\n",
       "       [0.43454885],\n",
       "       [0.5114121 ],\n",
       "       [0.51335   ],\n",
       "       [0.51526013],\n",
       "       [0.51254424],\n",
       "       [0.50533444],\n",
       "       [0.51539902],\n",
       "       [0.53739666],\n",
       "       [0.55794261],\n",
       "       [0.56299225],\n",
       "       [0.58199621],\n",
       "       [0.60956446],\n",
       "       [0.57385564],\n",
       "       [0.56167257],\n",
       "       [0.60431339],\n",
       "       [0.59719384],\n",
       "       [0.57674514],\n",
       "       [0.57600191],\n",
       "       [0.5802945 ],\n",
       "       [0.58684448],\n",
       "       [0.59360977],\n",
       "       [0.60099323],\n",
       "       [0.62081683],\n",
       "       [0.62576923],\n",
       "       [0.6088143 ],\n",
       "       [0.59276236],\n",
       "       [0.59349865],\n",
       "       [0.59354724],\n",
       "       [0.58721956],\n",
       "       [0.58382992],\n",
       "       [0.56258246],\n",
       "       [0.5771897 ],\n",
       "       [0.57111204],\n",
       "       [0.55875525],\n",
       "       [0.57045911],\n",
       "       [0.59530454],\n",
       "       [0.57842602],\n",
       "       [0.56324927],\n",
       "       [0.57307077],\n",
       "       [0.54959367],\n",
       "       [0.55401122],\n",
       "       [0.49517257],\n",
       "       [0.51821904],\n",
       "       [0.53839685],\n",
       "       [0.51932347],\n",
       "       [0.53984859],\n",
       "       [0.57529345],\n",
       "       [0.57544628],\n",
       "       [0.56603457],\n",
       "       [0.54268943],\n",
       "       [0.56197123],\n",
       "       [0.58261442],\n",
       "       [0.60589009],\n",
       "       [0.59487392],\n",
       "       [0.59388761],\n",
       "       [0.5823227 ],\n",
       "       [0.59017848],\n",
       "       [0.59379731],\n",
       "       [0.60044454],\n",
       "       [0.62318535],\n",
       "       [0.62130304],\n",
       "       [0.60824473],\n",
       "       [0.62422724],\n",
       "       [0.62843647],\n",
       "       [0.62540803],\n",
       "       [0.68687227],\n",
       "       [0.70541778],\n",
       "       [0.75703964],\n",
       "       [0.76345762],\n",
       "       [0.73341666],\n",
       "       [0.72739459],\n",
       "       [0.76467317],\n",
       "       [0.77465439],\n",
       "       [0.81635062],\n",
       "       [0.80633463],\n",
       "       [0.80557058],\n",
       "       [0.81183578],\n",
       "       [0.80572341],\n",
       "       [0.83552124],\n",
       "       [0.86615265],\n",
       "       [0.88191985],\n",
       "       [0.87566848],\n",
       "       [0.90761963],\n",
       "       [0.87427933],\n",
       "       [0.84503713],\n",
       "       [0.7862749 ],\n",
       "       [0.84170308],\n",
       "       [0.84385634],\n",
       "       [0.82711672],\n",
       "       [0.82399109],\n",
       "       [0.82926998],\n",
       "       [0.81794814],\n",
       "       [0.8569146 ],\n",
       "       [0.83989719],\n",
       "       [0.85635891],\n",
       "       [0.8784469 ],\n",
       "       [0.90296589],\n",
       "       [0.85080223],\n",
       "       [0.8635827 ],\n",
       "       [0.85802597],\n",
       "       [0.8435785 ],\n",
       "       [0.78544137],\n",
       "       [0.80697362],\n",
       "       [0.78502463],\n",
       "       [0.82399109],\n",
       "       [0.81739246],\n",
       "       [0.75946375],\n",
       "       [0.74578034],\n",
       "       [0.75119812],\n",
       "       [0.74098766],\n",
       "       [0.686393  ],\n",
       "       [0.77870385],\n",
       "       [0.72445645],\n",
       "       [0.71098141],\n",
       "       [0.66361043],\n",
       "       [0.69000484],\n",
       "       [0.65291381],\n",
       "       [0.69500589],\n",
       "       [0.69347778],\n",
       "       [0.72313672],\n",
       "       [0.77259148],\n",
       "       [0.78606653],\n",
       "       [0.81926788],\n",
       "       [0.83121482],\n",
       "       [0.86886154],\n",
       "       [0.84976034],\n",
       "       [0.8584427 ],\n",
       "       [0.82538024],\n",
       "       [0.86448559],\n",
       "       [0.84427308],\n",
       "       [0.85705355],\n",
       "       [0.83836908],\n",
       "       [0.782663  ],\n",
       "       [0.79502673],\n",
       "       [0.71605193],\n",
       "       [0.70361878],\n",
       "       [0.71056467],\n",
       "       [0.68014169],\n",
       "       [0.70542473],\n",
       "       [0.71674651],\n",
       "       [0.77793985],\n",
       "       [0.79342916],\n",
       "       [0.79315131],\n",
       "       [0.77703685],\n",
       "       [0.76877122],\n",
       "       [0.75335139],\n",
       "       [0.7846079 ],\n",
       "       [0.77161906],\n",
       "       [0.77342501],\n",
       "       [0.80544557],\n",
       "       [0.82378272],\n",
       "       [0.82746403],\n",
       "       [0.80912688],\n",
       "       [0.80940473],\n",
       "       [0.77856495],\n",
       "       [0.79141484],\n",
       "       [0.81919841],\n",
       "       [0.8335764 ],\n",
       "       [0.85302492],\n",
       "       [0.88893516],\n",
       "       [0.88726811],\n",
       "       [0.90227126],\n",
       "       [0.90220184],\n",
       "       [0.92491493],\n",
       "       [0.87997501],\n",
       "       [0.90859205],\n",
       "       [0.91699651],\n",
       "       [0.92442867],\n",
       "       [0.96408975],\n",
       "       [0.96325618],\n",
       "       [0.93526424],\n",
       "       [0.94116829],\n",
       "       [0.94901708],\n",
       "       [0.94193234],\n",
       "       [0.94700282],\n",
       "       [0.93373614],\n",
       "       [0.88803216],\n",
       "       [0.90636931],\n",
       "       [0.9108842 ],\n",
       "       [0.93769535],\n",
       "       [0.97728691],\n",
       "       [1.        ],\n",
       "       [0.99131764],\n",
       "       [0.9748558 ],\n",
       "       [0.99590184],\n",
       "       [0.98187122],\n",
       "       [0.98527464],\n",
       "       [0.95207329],\n",
       "       [0.93936229],\n",
       "       [0.98701111],\n",
       "       [0.97923175],\n",
       "       [0.98464953],\n",
       "       [0.95186492],\n",
       "       [0.91067583],\n",
       "       [0.91692709],\n",
       "       [0.90595257],\n",
       "       [0.92616514]])"
      ]
     },
     "execution_count": 40,
     "metadata": {},
     "output_type": "execute_result"
    }
   ],
   "source": [
    "y_test"
   ]
  },
  {
   "cell_type": "code",
   "execution_count": 42,
   "id": "9e1f424f",
   "metadata": {},
   "outputs": [],
   "source": [
    "#convert the data to np array\n",
    "X_test = np.array(X_test)"
   ]
  },
  {
   "cell_type": "code",
   "execution_count": 43,
   "id": "82343949",
   "metadata": {},
   "outputs": [],
   "source": [
    "X_test = np.reshape(X_test, (X_test.shape[0],X_test.shape[1],1))"
   ]
  },
  {
   "cell_type": "code",
   "execution_count": 44,
   "id": "ef851a86",
   "metadata": {},
   "outputs": [
    {
     "name": "stdout",
     "output_type": "stream",
     "text": [
      "\u001b[1m8/8\u001b[0m \u001b[32m━━━━━━━━━━━━━━━━━━━━\u001b[0m\u001b[37m\u001b[0m \u001b[1m1s\u001b[0m 56ms/step\n"
     ]
    }
   ],
   "source": [
    "### Predict prices using the LSTM model\n",
    "predictions = model.predict(X_test)\n",
    "predictions = scaler.inverse_transform(predictions)\n"
   ]
  },
  {
   "cell_type": "code",
   "execution_count": 45,
   "id": "21c9ef1d",
   "metadata": {},
   "outputs": [
    {
     "data": {
      "text/plain": [
       "array([[ 47.347927],\n",
       "       [ 48.891846],\n",
       "       [ 49.779762],\n",
       "       [ 48.6592  ],\n",
       "       [ 50.024956],\n",
       "       [ 50.343994],\n",
       "       [ 50.64682 ],\n",
       "       [ 51.23763 ],\n",
       "       [ 52.588936],\n",
       "       [ 51.821342],\n",
       "       [ 50.09223 ],\n",
       "       [ 51.33482 ],\n",
       "       [ 50.96248 ],\n",
       "       [ 51.598927],\n",
       "       [ 51.664165],\n",
       "       [ 51.792057],\n",
       "       [ 51.764946],\n",
       "       [ 50.121742],\n",
       "       [ 49.609047],\n",
       "       [ 50.180336],\n",
       "       [ 51.475445],\n",
       "       [ 55.20201 ],\n",
       "       [ 55.810623],\n",
       "       [ 57.21412 ],\n",
       "       [ 57.503815],\n",
       "       [ 57.274082],\n",
       "       [ 59.33566 ],\n",
       "       [ 58.5688  ],\n",
       "       [ 59.99444 ],\n",
       "       [ 62.703896],\n",
       "       [ 62.452927],\n",
       "       [ 62.72331 ],\n",
       "       [ 64.48215 ],\n",
       "       [ 64.47156 ],\n",
       "       [ 63.702885],\n",
       "       [ 65.618904],\n",
       "       [ 65.65601 ],\n",
       "       [ 64.065506],\n",
       "       [ 66.236015],\n",
       "       [ 69.86778 ],\n",
       "       [ 73.33112 ],\n",
       "       [ 71.11942 ],\n",
       "       [ 73.86504 ],\n",
       "       [ 72.57687 ],\n",
       "       [ 76.08396 ],\n",
       "       [ 75.41647 ],\n",
       "       [ 75.34747 ],\n",
       "       [ 77.60566 ],\n",
       "       [ 75.43584 ],\n",
       "       [ 75.81762 ],\n",
       "       [ 71.54629 ],\n",
       "       [ 69.94266 ],\n",
       "       [ 84.95241 ],\n",
       "       [ 82.21658 ],\n",
       "       [ 83.01625 ],\n",
       "       [ 81.93047 ],\n",
       "       [ 80.69321 ],\n",
       "       [ 82.89252 ],\n",
       "       [ 86.65922 ],\n",
       "       [ 89.72069 ],\n",
       "       [ 89.742966],\n",
       "       [ 93.218   ],\n",
       "       [ 97.558655],\n",
       "       [ 88.99509 ],\n",
       "       [ 88.64896 ],\n",
       "       [ 97.24339 ],\n",
       "       [ 93.65347 ],\n",
       "       [ 90.38205 ],\n",
       "       [ 91.02435 ],\n",
       "       [ 91.84305 ],\n",
       "       [ 93.046974],\n",
       "       [ 94.091385],\n",
       "       [ 95.241646],\n",
       "       [ 98.81931 ],\n",
       "       [ 98.68509 ],\n",
       "       [ 95.09936 ],\n",
       "       [ 92.78359 ],\n",
       "       [ 93.67531 ],\n",
       "       [ 93.626305],\n",
       "       [ 92.49111 ],\n",
       "       [ 92.18429 ],\n",
       "       [ 88.13796 ],\n",
       "       [ 92.2406  ],\n",
       "       [ 90.103676],\n",
       "       [ 88.30958 ],\n",
       "       [ 91.131   ],\n",
       "       [ 95.42272 ],\n",
       "       [ 90.877914],\n",
       "       [ 88.93281 ],\n",
       "       [ 91.37873 ],\n",
       "       [ 86.22115 ],\n",
       "       [ 88.51416 ],\n",
       "       [ 76.55689 ],\n",
       "       [ 84.195755],\n",
       "       [ 86.50044 ],\n",
       "       [ 82.43608 ],\n",
       "       [ 87.34253 ],\n",
       "       [ 93.07639 ],\n",
       "       [ 91.54814 ],\n",
       "       [ 89.75452 ],\n",
       "       [ 85.40819 ],\n",
       "       [ 90.3262  ],\n",
       "       [ 93.2309  ],\n",
       "       [ 97.04798 ],\n",
       "       [ 93.52282 ],\n",
       "       [ 93.989174],\n",
       "       [ 91.44019 ],\n",
       "       [ 93.71901 ],\n",
       "       [ 93.86938 ],\n",
       "       [ 95.15397 ],\n",
       "       [ 99.28765 ],\n",
       "       [ 97.62787 ],\n",
       "       [ 95.2556  ],\n",
       "       [ 99.039276],\n",
       "       [ 98.84699 ],\n",
       "       [ 98.2121  ],\n",
       "       [110.751076],\n",
       "       [110.666954],\n",
       "       [120.6202  ],\n",
       "       [117.9776  ],\n",
       "       [111.630745],\n",
       "       [112.0873  ],\n",
       "       [119.847984],\n",
       "       [119.376045],\n",
       "       [127.77936 ],\n",
       "       [122.25092 ],\n",
       "       [123.31601 ],\n",
       "       [124.12324 ],\n",
       "       [122.48842 ],\n",
       "       [129.2846  ],\n",
       "       [133.28151 ],\n",
       "       [134.58197 ],\n",
       "       [132.01393 ],\n",
       "       [139.29407 ],\n",
       "       [129.19633 ],\n",
       "       [126.373085],\n",
       "       [115.534454],\n",
       "       [132.04298 ],\n",
       "       [127.48258 ],\n",
       "       [125.17188 ],\n",
       "       [125.31006 ],\n",
       "       [126.62998 ],\n",
       "       [123.90482 ],\n",
       "       [133.19705 ],\n",
       "       [126.22344 ],\n",
       "       [131.79051 ],\n",
       "       [134.44342 ],\n",
       "       [138.28598 ],\n",
       "       [125.08642 ],\n",
       "       [132.43037 ],\n",
       "       [129.10696 ],\n",
       "       [127.271774],\n",
       "       [115.82555 ],\n",
       "       [125.053604],\n",
       "       [118.02668 ],\n",
       "       [128.92339 ],\n",
       "       [123.89034 ],\n",
       "       [113.10581 ],\n",
       "       [114.27107 ],\n",
       "       [115.82733 ],\n",
       "       [113.68423 ],\n",
       "       [103.29491 ],\n",
       "       [126.213135],\n",
       "       [107.8157  ],\n",
       "       [110.60604 ],\n",
       "       [100.217354],\n",
       "       [109.42695 ],\n",
       "       [ 99.48037 ],\n",
       "       [111.359955],\n",
       "       [107.57307 ],\n",
       "       [114.64991 ],\n",
       "       [122.38429 ],\n",
       "       [122.02997 ],\n",
       "       [128.12225 ],\n",
       "       [127.73573 ],\n",
       "       [134.93323 ],\n",
       "       [127.53096 ],\n",
       "       [131.2671  ],\n",
       "       [122.799324],\n",
       "       [134.1281  ],\n",
       "       [125.97365 ],\n",
       "       [131.29535 ],\n",
       "       [125.50383 ],\n",
       "       [115.81638 ],\n",
       "       [122.46185 ],\n",
       "       [104.48378 ],\n",
       "       [108.68658 ],\n",
       "       [109.8291  ],\n",
       "       [103.88945 ],\n",
       "       [111.36328 ],\n",
       "       [111.72217 ],\n",
       "       [124.28427 ],\n",
       "       [122.99633 ],\n",
       "       [122.37257 ],\n",
       "       [118.5469  ],\n",
       "       [117.908966],\n",
       "       [115.00133 ],\n",
       "       [122.682884],\n",
       "       [117.427376],\n",
       "       [119.30711 ],\n",
       "       [125.37409 ],\n",
       "       [126.977425],\n",
       "       [126.61155 ],\n",
       "       [122.36547 ],\n",
       "       [123.77597 ],\n",
       "       [116.95911 ],\n",
       "       [122.26142 ],\n",
       "       [126.67167 ],\n",
       "       [128.04303 ],\n",
       "       [131.18666 ],\n",
       "       [137.18443 ],\n",
       "       [133.95001 ],\n",
       "       [137.54369 ],\n",
       "       [135.81804 ],\n",
       "       [140.91023 ],\n",
       "       [129.06337 ],\n",
       "       [139.47173 ],\n",
       "       [137.81404 ],\n",
       "       [139.63637 ],\n",
       "       [147.17421 ],\n",
       "       [143.58307 ],\n",
       "       [138.11794 ],\n",
       "       [141.50337 ],\n",
       "       [142.27473 ],\n",
       "       [140.4068  ],\n",
       "       [142.16267 ],\n",
       "       [138.70056 ],\n",
       "       [130.27179 ],\n",
       "       [138.02585 ],\n",
       "       [136.84868 ],\n",
       "       [143.00787 ],\n",
       "       [148.94685 ],\n",
       "       [150.70866 ],\n",
       "       [147.00063 ],\n",
       "       [144.21094 ],\n",
       "       [149.88737 ],\n",
       "       [144.68506 ],\n",
       "       [147.20888 ],\n",
       "       [139.1939  ],\n",
       "       [139.84647 ],\n",
       "       [150.60796 ],\n",
       "       [144.79286 ],\n",
       "       [147.5384  ],\n",
       "       [139.31009 ],\n",
       "       [133.80603 ],\n",
       "       [138.22621 ],\n",
       "       [135.06628 ]], dtype=float32)"
      ]
     },
     "execution_count": 45,
     "metadata": {},
     "output_type": "execute_result"
    }
   ],
   "source": [
    "predictions"
   ]
  },
  {
   "cell_type": "code",
   "execution_count": 46,
   "id": "3c3aca24",
   "metadata": {},
   "outputs": [
    {
     "data": {
      "text/plain": [
       "247"
      ]
     },
     "execution_count": 46,
     "metadata": {},
     "output_type": "execute_result"
    }
   ],
   "source": [
    "len(predictions)"
   ]
  },
  {
   "cell_type": "code",
   "execution_count": 47,
   "id": "1ef5c9e5",
   "metadata": {},
   "outputs": [
    {
     "name": "stdout",
     "output_type": "stream",
     "text": [
      "\u001b[1m8/8\u001b[0m \u001b[32m━━━━━━━━━━━━━━━━━━━━\u001b[0m\u001b[37m\u001b[0m \u001b[1m0s\u001b[0m 589us/step - loss: 7913.2783\n"
     ]
    },
    {
     "data": {
      "text/plain": [
       "11398.9296875"
      ]
     },
     "execution_count": 47,
     "metadata": {},
     "output_type": "execute_result"
    }
   ],
   "source": [
    "model.evaluate(y_test, predictions)"
   ]
  },
  {
   "cell_type": "code",
   "execution_count": 48,
   "id": "edee4f2d",
   "metadata": {},
   "outputs": [
    {
     "data": {
      "text/plain": [
       "102.9851390596826"
      ]
     },
     "execution_count": 48,
     "metadata": {},
     "output_type": "execute_result"
    }
   ],
   "source": [
    "#evaluate the model using root mean squared error - std devn of residuals - low is better\n",
    "rmse = np.sqrt(np.mean(predictions - y_test)**2)\n",
    "rmse"
   ]
  },
  {
   "cell_type": "code",
   "execution_count": 49,
   "id": "215b0273",
   "metadata": {},
   "outputs": [
    {
     "name": "stderr",
     "output_type": "stream",
     "text": [
      "/var/folders/8s/gb2wyk0x7sx4b5tvrfblj1h80000gn/T/ipykernel_51674/2496906409.py:4: SettingWithCopyWarning: \n",
      "A value is trying to be set on a copy of a slice from a DataFrame.\n",
      "Try using .loc[row_indexer,col_indexer] = value instead\n",
      "\n",
      "See the caveats in the documentation: https://pandas.pydata.org/pandas-docs/stable/user_guide/indexing.html#returning-a-view-versus-a-copy\n",
      "  valid ['Predictions'] = predictions\n"
     ]
    }
   ],
   "source": [
    "#Plot the data\n",
    "train = data[:training_data_len]\n",
    "valid = data[training_data_len:]\n",
    "valid ['Predictions'] = predictions"
   ]
  },
  {
   "cell_type": "code",
   "execution_count": 50,
   "id": "faa37dfc",
   "metadata": {},
   "outputs": [
    {
     "data": {
      "image/png": "[encoded data removed]",
      "text/plain": [
       "<Figure size 1600x800 with 1 Axes>"
      ]
     },
     "metadata": {},
     "output_type": "display_data"
    }
   ],
   "source": [
    "#Visualize the results\n",
    "plt.figure(figsize=(16,8))\n",
    "plt.title('Price Prediction using LSTM Model')\n",
    "plt.xlabel('Date',fontsize=18)\n",
    "plt.ylabel('Close Price USD ($)',fontsize=18)\n",
    "plt.plot(data['Close'])\n",
    "plt.plot(valid[['Close','Predictions']])\n",
    "plt.legend(('Train','Actuals','Predictions'),loc='lower right')\n",
    "plt.show()"
   ]
  },
  {
   "cell_type": "code",
   "execution_count": 51,
   "id": "6c952784",
   "metadata": {},
   "outputs": [
    {
     "data": {
      "text/html": [
       "<div>\n",
       "<style scoped>\n",
       "    .dataframe tbody tr th:only-of-type {\n",
       "        vertical-align: middle;\n",
       "    }\n",
       "\n",
       "    .dataframe tbody tr th {\n",
       "        vertical-align: top;\n",
       "    }\n",
       "\n",
       "    .dataframe thead th {\n",
       "        text-align: right;\n",
       "    }\n",
       "</style>\n",
       "<table border=\"1\" class=\"dataframe\">\n",
       "  <thead>\n",
       "    <tr style=\"text-align: right;\">\n",
       "      <th></th>\n",
       "      <th>Close</th>\n",
       "      <th>Predictions</th>\n",
       "    </tr>\n",
       "    <tr>\n",
       "      <th>Date</th>\n",
       "      <th></th>\n",
       "      <th></th>\n",
       "    </tr>\n",
       "  </thead>\n",
       "  <tbody>\n",
       "    <tr>\n",
       "      <th>2024-11-01</th>\n",
       "      <td>135.399994</td>\n",
       "      <td>130.271790</td>\n",
       "    </tr>\n",
       "    <tr>\n",
       "      <th>2024-11-04</th>\n",
       "      <td>136.050003</td>\n",
       "      <td>138.025848</td>\n",
       "    </tr>\n",
       "    <tr>\n",
       "      <th>2024-11-05</th>\n",
       "      <td>139.910004</td>\n",
       "      <td>136.848679</td>\n",
       "    </tr>\n",
       "    <tr>\n",
       "      <th>2024-11-06</th>\n",
       "      <td>145.610001</td>\n",
       "      <td>143.007874</td>\n",
       "    </tr>\n",
       "    <tr>\n",
       "      <th>2024-11-07</th>\n",
       "      <td>148.880005</td>\n",
       "      <td>148.946854</td>\n",
       "    </tr>\n",
       "    <tr>\n",
       "      <th>2024-11-08</th>\n",
       "      <td>147.630005</td>\n",
       "      <td>150.708664</td>\n",
       "    </tr>\n",
       "    <tr>\n",
       "      <th>2024-11-11</th>\n",
       "      <td>145.259995</td>\n",
       "      <td>147.000626</td>\n",
       "    </tr>\n",
       "    <tr>\n",
       "      <th>2024-11-12</th>\n",
       "      <td>148.289993</td>\n",
       "      <td>144.210938</td>\n",
       "    </tr>\n",
       "    <tr>\n",
       "      <th>2024-11-13</th>\n",
       "      <td>146.270004</td>\n",
       "      <td>149.887375</td>\n",
       "    </tr>\n",
       "    <tr>\n",
       "      <th>2024-11-14</th>\n",
       "      <td>146.759995</td>\n",
       "      <td>144.685059</td>\n",
       "    </tr>\n",
       "    <tr>\n",
       "      <th>2024-11-15</th>\n",
       "      <td>141.979996</td>\n",
       "      <td>147.208878</td>\n",
       "    </tr>\n",
       "    <tr>\n",
       "      <th>2024-11-18</th>\n",
       "      <td>140.149994</td>\n",
       "      <td>139.193893</td>\n",
       "    </tr>\n",
       "    <tr>\n",
       "      <th>2024-11-19</th>\n",
       "      <td>147.009995</td>\n",
       "      <td>139.846466</td>\n",
       "    </tr>\n",
       "    <tr>\n",
       "      <th>2024-11-20</th>\n",
       "      <td>145.889999</td>\n",
       "      <td>150.607956</td>\n",
       "    </tr>\n",
       "    <tr>\n",
       "      <th>2024-11-21</th>\n",
       "      <td>146.669998</td>\n",
       "      <td>144.792862</td>\n",
       "    </tr>\n",
       "    <tr>\n",
       "      <th>2024-11-22</th>\n",
       "      <td>141.949997</td>\n",
       "      <td>147.538406</td>\n",
       "    </tr>\n",
       "    <tr>\n",
       "      <th>2024-11-25</th>\n",
       "      <td>136.020004</td>\n",
       "      <td>139.310089</td>\n",
       "    </tr>\n",
       "    <tr>\n",
       "      <th>2024-11-26</th>\n",
       "      <td>136.919998</td>\n",
       "      <td>133.806030</td>\n",
       "    </tr>\n",
       "    <tr>\n",
       "      <th>2024-11-27</th>\n",
       "      <td>135.339996</td>\n",
       "      <td>138.226212</td>\n",
       "    </tr>\n",
       "    <tr>\n",
       "      <th>2024-11-29</th>\n",
       "      <td>138.250000</td>\n",
       "      <td>135.066284</td>\n",
       "    </tr>\n",
       "  </tbody>\n",
       "</table>\n",
       "</div>"
      ],
      "text/plain": [
       "                 Close  Predictions\n",
       "Date                               \n",
       "2024-11-01  135.399994   130.271790\n",
       "2024-11-04  136.050003   138.025848\n",
       "2024-11-05  139.910004   136.848679\n",
       "2024-11-06  145.610001   143.007874\n",
       "2024-11-07  148.880005   148.946854\n",
       "2024-11-08  147.630005   150.708664\n",
       "2024-11-11  145.259995   147.000626\n",
       "2024-11-12  148.289993   144.210938\n",
       "2024-11-13  146.270004   149.887375\n",
       "2024-11-14  146.759995   144.685059\n",
       "2024-11-15  141.979996   147.208878\n",
       "2024-11-18  140.149994   139.193893\n",
       "2024-11-19  147.009995   139.846466\n",
       "2024-11-20  145.889999   150.607956\n",
       "2024-11-21  146.669998   144.792862\n",
       "2024-11-22  141.949997   147.538406\n",
       "2024-11-25  136.020004   139.310089\n",
       "2024-11-26  136.919998   133.806030\n",
       "2024-11-27  135.339996   138.226212\n",
       "2024-11-29  138.250000   135.066284"
      ]
     },
     "execution_count": 51,
     "metadata": {},
     "output_type": "execute_result"
    }
   ],
   "source": [
    "\"\"\"\n",
    "Show the Actual and Predicted prices\n",
    "\"\"\"\n",
    "valid.tail(20)"
   ]
  },
  {
   "cell_type": "markdown",
   "id": "6d2724ea",
   "metadata": {},
   "source": [
    "## Section 3: Use VADER to get a sentiment on news headlines"
   ]
  },
  {
   "cell_type": "code",
   "execution_count": 52,
   "id": "8472d689",
   "metadata": {},
   "outputs": [
    {
     "name": "stdout",
     "output_type": "stream",
     "text": [
      "Requirement already satisfied: finvizfinance in /Users/srilathasathya/anaconda3/lib/python3.11/site-packages (1.1.0)\n",
      "Requirement already satisfied: pandas in /Users/srilathasathya/anaconda3/lib/python3.11/site-packages (from finvizfinance) (2.2.3)\n",
      "Requirement already satisfied: requests in /Users/srilathasathya/anaconda3/lib/python3.11/site-packages (from finvizfinance) (2.31.0)\n",
      "Requirement already satisfied: beautifulsoup4 in /Users/srilathasathya/anaconda3/lib/python3.11/site-packages (from finvizfinance) (4.12.2)\n",
      "Requirement already satisfied: lxml in /Users/srilathasathya/anaconda3/lib/python3.11/site-packages (from finvizfinance) (4.9.2)\n",
      "Requirement already satisfied: soupsieve>1.2 in /Users/srilathasathya/anaconda3/lib/python3.11/site-packages (from beautifulsoup4->finvizfinance) (2.4)\n",
      "Requirement already satisfied: numpy>=1.23.2 in /Users/srilathasathya/anaconda3/lib/python3.11/site-packages (from pandas->finvizfinance) (1.26.4)\n",
      "Requirement already satisfied: python-dateutil>=2.8.2 in /Users/srilathasathya/anaconda3/lib/python3.11/site-packages (from pandas->finvizfinance) (2.8.2)\n",
      "Requirement already satisfied: pytz>=2020.1 in /Users/srilathasathya/anaconda3/lib/python3.11/site-packages (from pandas->finvizfinance) (2022.7)\n",
      "Requirement already satisfied: tzdata>=2022.7 in /Users/srilathasathya/anaconda3/lib/python3.11/site-packages (from pandas->finvizfinance) (2024.2)\n",
      "Requirement already satisfied: charset-normalizer<4,>=2 in /Users/srilathasathya/anaconda3/lib/python3.11/site-packages (from requests->finvizfinance) (2.0.4)\n",
      "Requirement already satisfied: idna<4,>=2.5 in /Users/srilathasathya/anaconda3/lib/python3.11/site-packages (from requests->finvizfinance) (3.4)\n",
      "Requirement already satisfied: urllib3<3,>=1.21.1 in /Users/srilathasathya/anaconda3/lib/python3.11/site-packages (from requests->finvizfinance) (1.26.16)\n",
      "Requirement already satisfied: certifi>=2017.4.17 in /Users/srilathasathya/anaconda3/lib/python3.11/site-packages (from requests->finvizfinance) (2024.8.30)\n",
      "Requirement already satisfied: six>=1.5 in /Users/srilathasathya/anaconda3/lib/python3.11/site-packages (from python-dateutil>=2.8.2->pandas->finvizfinance) (1.16.0)\n"
     ]
    }
   ],
   "source": [
    "#installs\n",
    "\n",
    "!pip install finvizfinance"
   ]
  },
  {
   "cell_type": "code",
   "execution_count": 53,
   "id": "2952d0aa",
   "metadata": {},
   "outputs": [
    {
     "name": "stdout",
     "output_type": "stream",
     "text": [
      "Requirement already satisfied: nltk in /Users/srilathasathya/anaconda3/lib/python3.11/site-packages (3.8.1)\r\n",
      "Requirement already satisfied: click in /Users/srilathasathya/anaconda3/lib/python3.11/site-packages (from nltk) (8.1.7)\r\n",
      "Requirement already satisfied: joblib in /Users/srilathasathya/anaconda3/lib/python3.11/site-packages (from nltk) (1.2.0)\r\n",
      "Requirement already satisfied: regex>=2021.8.3 in /Users/srilathasathya/anaconda3/lib/python3.11/site-packages (from nltk) (2022.7.9)\r\n",
      "Requirement already satisfied: tqdm in /Users/srilathasathya/anaconda3/lib/python3.11/site-packages (from nltk) (4.65.0)\r\n"
     ]
    }
   ],
   "source": [
    "!pip install nltk"
   ]
  },
  {
   "cell_type": "code",
   "execution_count": 54,
   "id": "66e63471",
   "metadata": {},
   "outputs": [],
   "source": [
    "import gradio as gr\n",
    "import pandas as pd\n",
    "from finvizfinance.quote import finvizfinance\n",
    "import numpy as np\n"
   ]
  },
  {
   "cell_type": "code",
   "execution_count": 55,
   "id": "e6e5b0de",
   "metadata": {},
   "outputs": [
    {
     "name": "stderr",
     "output_type": "stream",
     "text": [
      "[nltk_data] Downloading package vader_lexicon to\n",
      "[nltk_data]     /Users/srilathasathya/nltk_data...\n",
      "[nltk_data]   Package vader_lexicon is already up-to-date!\n"
     ]
    },
    {
     "data": {
      "text/plain": [
       "True"
      ]
     },
     "execution_count": 55,
     "metadata": {},
     "output_type": "execute_result"
    }
   ],
   "source": [
    "import nltk\n",
    "nltk.download('vader_lexicon')"
   ]
  },
  {
   "cell_type": "code",
   "execution_count": 56,
   "id": "80576db4",
   "metadata": {},
   "outputs": [],
   "source": [
    "\"\"\"\n",
    "Import VADER\"\"\"\n",
    "\n",
    "from nltk.sentiment.vader import SentimentIntensityAnalyzer\n",
    "\n",
    "sid = SentimentIntensityAnalyzer()\n"
   ]
  },
  {
   "cell_type": "code",
   "execution_count": 57,
   "id": "bfaf777c",
   "metadata": {},
   "outputs": [],
   "source": [
    "\"\"\"\n",
    "Extract sentiment score from results\n",
    "\"\"\"\n",
    "\n",
    "def extract_score(text):\n",
    "    score = sid.polarity_scores(text)\n",
    "    compound = score['compound']\n",
    "    \n",
    "    sentiment = 'neutral'\n",
    "    if(compound >= 0.05):\n",
    "        sentiment = \"positive\"\n",
    "    elif(compound <= -0.05):\n",
    "        sentiment = \"negative\"\n",
    "    return sentiment"
   ]
  },
  {
   "cell_type": "code",
   "execution_count": 58,
   "id": "3404ed65",
   "metadata": {},
   "outputs": [],
   "source": [
    "\"\"\"\n",
    "Source data from Finviz Finance and extract the sentiment scores using VADER\n",
    "\"\"\"\n",
    "\n",
    "def process_ticker(ticker):\n",
    "    ticker = ticker.upper()\n",
    "    stock = finvizfinance(ticker)\n",
    "    news_df = stock.ticker_news()\n",
    "\n",
    "    # Add predicted sentiment column\n",
    "    news_df[\"Predicted Sentiment\"] = news_df[\"Title\"].apply(extract_score)\n",
    "    \n",
    "    # Generate a synopsis summary of sentiment\n",
    "    sentiment_counts = news_df[\"Predicted Sentiment\"].value_counts()\n",
    "    synopsis = sentiment_counts.to_string()  \n",
    "    \n",
    "    return news_df[[\"Title\", \"Predicted Sentiment\"]], synopsis  "
   ]
  },
  {
   "cell_type": "code",
   "execution_count": 59,
   "id": "7bb50dbe",
   "metadata": {},
   "outputs": [],
   "source": [
    "# Function to clear all outputs\n",
    "def clear_data():\n",
    "    # Return empty inputs and an empty DataFrame with correct headers\n",
    "     return \"\", pd.DataFrame(columns=[\"Headline\", \"Predicted Sentiment\"]), \"\"\n"
   ]
  },
  {
   "cell_type": "code",
   "execution_count": 60,
   "id": "a6b6c42c",
   "metadata": {},
   "outputs": [
    {
     "name": "stdout",
     "output_type": "stream",
     "text": [
      "* Running on local URL:  http://127.0.0.1:7863\n",
      "\n",
      "To create a public link, set `share=True` in `launch()`.\n"
     ]
    },
    {
     "data": {
      "text/html": [
       "<div><iframe src=\"http://127.0.0.1:7863/\" width=\"100%\" height=\"500\" allow=\"autoplay; camera; microphone; clipboard-read; clipboard-write;\" frameborder=\"0\" allowfullscreen></iframe></div>"
      ],
      "text/plain": [
       "<IPython.core.display.HTML object>"
      ]
     },
     "metadata": {},
     "output_type": "display_data"
    },
    {
     "data": {
      "text/plain": []
     },
     "execution_count": 60,
     "metadata": {},
     "output_type": "execute_result"
    },
    {
     "name": "stderr",
     "output_type": "stream",
     "text": [
      "Traceback (most recent call last):\n",
      "  File \"/Users/srilathasathya/anaconda3/lib/python3.11/site-packages/finvizfinance/util.py\", line 41, in web_scrap\n",
      "    website.raise_for_status()\n",
      "  File \"/Users/srilathasathya/anaconda3/lib/python3.11/site-packages/requests/models.py\", line 1021, in raise_for_status\n",
      "    raise HTTPError(http_error_msg, response=self)\n",
      "requests.exceptions.HTTPError: 404 Client Error: Not Found for url: https://finviz.com/quote.ashx?t=AMAZON\n",
      "\n",
      "During handling of the above exception, another exception occurred:\n",
      "\n",
      "Traceback (most recent call last):\n",
      "  File \"/Users/srilathasathya/anaconda3/lib/python3.11/site-packages/gradio/queueing.py\", line 624, in process_events\n",
      "    response = await route_utils.call_process_api(\n",
      "               ^^^^^^^^^^^^^^^^^^^^^^^^^^^^^^^^^^^\n",
      "  File \"/Users/srilathasathya/anaconda3/lib/python3.11/site-packages/gradio/route_utils.py\", line 323, in call_process_api\n",
      "    output = await app.get_blocks().process_api(\n",
      "             ^^^^^^^^^^^^^^^^^^^^^^^^^^^^^^^^^^^\n",
      "  File \"/Users/srilathasathya/anaconda3/lib/python3.11/site-packages/gradio/blocks.py\", line 2015, in process_api\n",
      "    result = await self.call_function(\n",
      "             ^^^^^^^^^^^^^^^^^^^^^^^^^\n",
      "  File \"/Users/srilathasathya/anaconda3/lib/python3.11/site-packages/gradio/blocks.py\", line 1562, in call_function\n",
      "    prediction = await anyio.to_thread.run_sync(  # type: ignore\n",
      "                 ^^^^^^^^^^^^^^^^^^^^^^^^^^^^^^^^^^^^^^^^^^^^^^^\n",
      "  File \"/Users/srilathasathya/anaconda3/lib/python3.11/site-packages/anyio/to_thread.py\", line 56, in run_sync\n",
      "    return await get_async_backend().run_sync_in_worker_thread(\n",
      "           ^^^^^^^^^^^^^^^^^^^^^^^^^^^^^^^^^^^^^^^^^^^^^^^^^^^^\n",
      "  File \"/Users/srilathasathya/anaconda3/lib/python3.11/site-packages/anyio/_backends/_asyncio.py\", line 2177, in run_sync_in_worker_thread\n",
      "    return await future\n",
      "           ^^^^^^^^^^^^\n",
      "  File \"/Users/srilathasathya/anaconda3/lib/python3.11/site-packages/anyio/_backends/_asyncio.py\", line 859, in run\n",
      "    result = context.run(func, *args)\n",
      "             ^^^^^^^^^^^^^^^^^^^^^^^^\n",
      "  File \"/Users/srilathasathya/anaconda3/lib/python3.11/site-packages/gradio/utils.py\", line 865, in wrapper\n",
      "    response = f(*args, **kwargs)\n",
      "               ^^^^^^^^^^^^^^^^^^\n",
      "  File \"/var/folders/8s/gb2wyk0x7sx4b5tvrfblj1h80000gn/T/ipykernel_51674/1319106902.py\", line 7, in process_ticker\n",
      "    stock = finvizfinance(ticker)\n",
      "            ^^^^^^^^^^^^^^^^^^^^^\n",
      "  File \"/Users/srilathasathya/anaconda3/lib/python3.11/site-packages/finvizfinance/quote.py\", line 68, in __init__\n",
      "    self.soup = web_scrap(self.quote_url)\n",
      "                ^^^^^^^^^^^^^^^^^^^^^^^^^\n",
      "  File \"/Users/srilathasathya/anaconda3/lib/python3.11/site-packages/finvizfinance/util.py\", line 44, in web_scrap\n",
      "    raise Exception(err)\n",
      "Exception: 404 Client Error: Not Found for url: https://finviz.com/quote.ashx?t=AMAZON\n"
     ]
    }
   ],
   "source": [
    "\"\"\"\n",
    "Use the Gradio interface to input Stock ticker and display the headline news and sentiment\n",
    "\"\"\"\n",
    "\n",
    "# Gradio Interface\n",
    "with gr.Blocks(theme=gr.themes.Glass(primary_hue=\"blue\")) as app:\n",
    "    gr.Markdown(\"# 📈 Headline News Sentiment Analyzer\")\n",
    "    gr.Markdown(\n",
    "        \"\"\"\n",
    "        Analyze the sentiment of recent news headlines for a given stock ticker.\n",
    "        Just enter a valid ticker symbol (e.g., `AAPL`, `GOOGL`, `TSLA`) to see the predicted sentiment of recent news articles.\n",
    "        \"\"\"\n",
    "    )\n",
    "    with gr.Row():\n",
    "        ticker_input = gr.Textbox(\n",
    "            label=\"**Enter Stock Ticker**\",  # Bold label for clarity\n",
    "            placeholder=\"e.g., AAPL\",\n",
    "            lines=1,\n",
    "        )\n",
    "    \n",
    "    with gr.Row():\n",
    "        analyze_button = gr.Button(\"Analyze Sentiment\")\n",
    "        clear_button = gr.Button(\"Clear\")\n",
    "\n",
    "    sentiment_table = gr.DataFrame(\n",
    "        headers=[\"Headline\", \"Predicted Sentiment\"],\n",
    "        label=\"News Sentiment Analysis Results\",\n",
    "        datatype=[\"str\", \"str\"],\n",
    "        wrap=True,  # Enable text wrapping for columns\n",
    "    )\n",
    "    synopsis_box = gr.Textbox(\n",
    "        label=\"Sentiment Synopsis\",\n",
    "        placeholder=\"Summary of sentiment counts will appear here.\",\n",
    "        lines=3,\n",
    "        interactive=False,  # Read-only\n",
    "    )\n",
    "\n",
    "    # Button actions\n",
    "    analyze_button.click(\n",
    "        process_ticker, \n",
    "        inputs=[ticker_input], \n",
    "        outputs=[sentiment_table, synopsis_box]\n",
    "    )\n",
    "    clear_button.click(\n",
    "        clear_data, \n",
    "        inputs=[], \n",
    "        outputs=[ticker_input, sentiment_table, synopsis_box]\n",
    "    )\n",
    "\n",
    "# Custom CSS for layout and styling\n",
    "app.css = \"\"\"\n",
    "/* Add a thick black border around the entire Gradio form */\n",
    ".gradio-container {\n",
    "    border: 4px solid black !important;\n",
    "    padding: 20px;\n",
    "    margin: 0 auto;\n",
    "    max-width: 800px;  /* Center and limit the form width */\n",
    "}\n",
    "\n",
    "/* Adjust font size and weight for the textbox label */\n",
    ".gr-textbox .gr-label {\n",
    "    font-size: 18px !important;\n",
    "    font-weight: bold !important;\n",
    "    color: #000 !important;\n",
    "}\n",
    "\n",
    "/* Adjust the column widths in the DataFrame */\n",
    ".gr-dataframe {\n",
    "    margin: 0 auto; /* Center the DataFrame */\n",
    "    width: 80%; /* Set the width of the DataFrame */\n",
    "}\n",
    "\n",
    ".gr-dataframe th:nth-child(1), /* Headline column */\n",
    ".gr-dataframe td:nth-child(1) {\n",
    "    max-width: 450px; /* Wider width for Headline */\n",
    "    white-space: normal !important; /* Enable text wrapping */\n",
    "}\n",
    "\n",
    ".gr-dataframe th:nth-child(2), /* Predicted Sentiment column */\n",
    ".gr-dataframe td:nth-child(2) {\n",
    "    max-width: 150px; /* Narrower width for Predicted Sentiment */\n",
    "    text-align: center;\n",
    "}\n",
    "\n",
    "/* Style for the synopsis box */\n",
    ".gr-textbox {\n",
    "    width: 3in; /* Set width to 4 inches */\n",
    "    margin: 20px auto; /* Center align */\n",
    "    border: 1px solid black; /* Thinner black border around synopsis */\n",
    "    padding: 10px; /* Add padding for better readability */\n",
    "    background-color: #f9f9f9; /* Light gray background */\n",
    "}\n",
    "\"\"\"\n",
    "\n",
    "# Launch the app\n",
    "app.launch()"
   ]
  },
  {
   "cell_type": "code",
   "execution_count": null,
   "id": "fdce5141",
   "metadata": {},
   "outputs": [],
   "source": []
  },
  {
   "cell_type": "code",
   "execution_count": null,
   "id": "bb58c239",
   "metadata": {},
   "outputs": [],
   "source": []
  },
  {
   "cell_type": "code",
   "execution_count": null,
   "id": "561a264c",
   "metadata": {},
   "outputs": [],
   "source": []
  },
  {
   "cell_type": "code",
   "execution_count": null,
   "id": "d97b8065",
   "metadata": {},
   "outputs": [],
   "source": []
  },
  {
   "cell_type": "code",
   "execution_count": null,
   "id": "0737852a",
   "metadata": {},
   "outputs": [],
   "source": []
  },
  {
   "cell_type": "code",
   "execution_count": null,
   "id": "f38107ca",
   "metadata": {},
   "outputs": [],
   "source": []
  },
  {
   "cell_type": "code",
   "execution_count": null,
   "id": "fa4d0959",
   "metadata": {},
   "outputs": [],
   "source": []
  }
 ],
 "metadata": {
  "kernelspec": {
   "display_name": "Python 3 (ipykernel)",
   "language": "python",
   "name": "python3"
  },
  "language_info": {
   "codemirror_mode": {
    "name": "ipython",
    "version": 3
   },
   "file_extension": ".py",
   "mimetype": "text/x-python",
   "name": "python",
   "nbconvert_exporter": "python",
   "pygments_lexer": "ipython3",
   "version": "3.11.4"
  }
 },
 "nbformat": 4,
 "nbformat_minor": 5
}
