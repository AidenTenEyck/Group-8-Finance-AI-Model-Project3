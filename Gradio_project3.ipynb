{
 "cells": [
  {
   "cell_type": "code",
   "execution_count": null,
   "id": "7b1143f8-27a1-4ef5-9d57-3cc0fe468738",
   "metadata": {},
   "outputs": [],
   "source": [
    "import gradio as gr\n",
    "import matplotlib.pyplot as plt\n",
    "import numpy as np\n",
    "\n",
    "# Example function to modify an image based on text\n",
    "def modify_image(text, image):\n",
    "    # Your image processing logic here (e.g., drawing text on the image)\n",
    "    return image  # Replace with actual image processing logic\n",
    "\n",
    "# Example function to summarize text\n",
    "def summarize_text(text):\n",
    "    return text[:100] + \"...\"  # Simple summary example\n",
    "\n",
    "# Example function to generate a chart based on text length\n",
    "def generate_chart(text):\n",
    "    length = len(text)\n",
    "    # Generate a simple bar chart of the text length\n",
    "    plt.figure(figsize=(5, 3))\n",
    "    plt.bar(['Text Length'], [length], color='blue')\n",
    "    plt.ylabel('Length')\n",
    "    plt.title('Length of Input Text')\n",
    "    plt.ylim(0, max(length, 10) + 5)  # Adjusting y-axis for better visibility\n",
    "    plt.grid(axis='y')\n",
    "    plt.tight_layout()\n",
    "    plt_path = 'chart.png'\n",
    "    plt.savefig(plt_path)\n",
    "    plt.close()\n",
    "    return plt_path\n",
    "\n",
    "# Define the main processing function\n",
    "def process_input(text, image):\n",
    "    modified_image = modify_image(text, image)\n",
    "    summary = summarize_text(text)\n",
    "    chart_path = generate_chart(text)\n",
    "    return modified_image, summary, chart_path\n",
    "\n",
    "#Create the Gradio interface\n",
    "iface = gr.Interface(\n",
    "    fn=process_input,\n",
    "    inputs=[\n",
    "        gr.Textbox(placeholder=\"Enter your text here...\", label=\"Input Text\"),\n",
    "        gr.Image(type=\"pil\", label=\"Upload Image\")\n",
    "    ],\n",
    "    outputs=[\n",
    "        gr.Image(type=\"pil\", label=\"Modified Image\"),\n",
    "        gr.Textbox(label=\"Summary\"),\n",
    "        gr.Image(type=\"filepath\", label=\"Generated Chart\")  # Changed type to \"filepath\"\n",
    "    ],\n",
    "    title=\"Text and Image Processor\",\n",
    "    description=\"Input text and an image to get a modified image, a summary, and a chart.\"\n",
    ")\n",
    "\n",
    "# Launch the interface\n",
    "iface.launch()"
   ]
  }
 ],
 "metadata": {
  "kernelspec": {
   "display_name": "Python 3 (ipykernel)",
   "language": "python",
   "name": "python3"
  },
  "language_info": {
   "codemirror_mode": {
    "name": "ipython",
    "version": 3
   },
   "file_extension": ".py",
   "mimetype": "text/x-python",
   "name": "python",
   "nbconvert_exporter": "python",
   "pygments_lexer": "ipython3",
   "version": "3.11.7"
  }
 },
 "nbformat": 4,
 "nbformat_minor": 5
}
